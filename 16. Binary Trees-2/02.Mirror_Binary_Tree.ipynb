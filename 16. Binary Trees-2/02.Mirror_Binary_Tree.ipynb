{
 "cells": [
  {
   "cell_type": "code",
   "execution_count": 65,
   "metadata": {
    "collapsed": true
   },
   "outputs": [],
   "source": [
    "class Binary_Tree:\n",
    "\n",
    "    def __init__(self, data):\n",
    "        self.data = data\n",
    "        self.left = None\n",
    "        self.right = None\n",
    "\n",
    "\n",
    "def Take_Input():\n",
    "\n",
    "    input_data = int(input(\"Enter the data: \"))\n",
    "\n",
    "    if input_data == -1:\n",
    "        return None\n",
    "\n",
    "    root = Binary_Tree(input_data)\n",
    "    left_tree = Take_Input()\n",
    "    right_tree = Take_Input()\n",
    "    root.left = left_tree\n",
    "    root.right = right_tree\n",
    "\n",
    "    return root\n",
    "\n",
    "def Print_BT(root_node):\n",
    "\n",
    "    if root_node is None:\n",
    "        return\n",
    "\n",
    "    print(root_node.data, end = \": \")\n",
    "    if root_node.left is not None:\n",
    "        print(\"L ->\", root_node.left.data, end=',')\n",
    "    if root_node.right is not None:\n",
    "        print(\"R ->\", root_node.right.data, end='')\n",
    "    print()\n",
    "    Print_BT(root_node.left)\n",
    "    Print_BT(root_node.right)\n",
    "\n",
    "def Mirror_BT(root_node):\n",
    "\n",
    "    if root_node is None:\n",
    "        return None\n",
    "\n",
    "    Mirror_BT(root_node.left)\n",
    "    Mirror_BT(root_node.right)\n",
    "\n",
    "    if root_node.left is not None and root_node.right is not None:\n",
    "        root_node.left , root_node.right = root_node.right, root_node.left\n",
    "    elif root_node.left is not None or root_node.right is not None:\n",
    "        root_node.left , root_node.right = root_node.right, root_node.left"
   ]
  },
  {
   "cell_type": "code",
   "execution_count": 66,
   "outputs": [
    {
     "name": "stdout",
     "output_type": "stream",
     "text": [
      "1: L -> 2,R -> 3\n",
      "2: L -> 4,\n",
      "4: \n",
      "3: \n",
      "1: L -> 3,R -> 2\n",
      "3: \n",
      "2: R -> 4\n",
      "4: \n"
     ]
    }
   ],
   "source": [
    "x = Take_Input()\n",
    "Print_BT(x)\n",
    "Mirror_BT(x)\n",
    "Print_BT(x)"
   ],
   "metadata": {
    "collapsed": false,
    "pycharm": {
     "name": "#%%\n"
    }
   }
  }
 ],
 "metadata": {
  "kernelspec": {
   "display_name": "Python 3",
   "language": "python",
   "name": "python3"
  },
  "language_info": {
   "codemirror_mode": {
    "name": "ipython",
    "version": 2
   },
   "file_extension": ".py",
   "mimetype": "text/x-python",
   "name": "python",
   "nbconvert_exporter": "python",
   "pygments_lexer": "ipython2",
   "version": "2.7.6"
  }
 },
 "nbformat": 4,
 "nbformat_minor": 0
}