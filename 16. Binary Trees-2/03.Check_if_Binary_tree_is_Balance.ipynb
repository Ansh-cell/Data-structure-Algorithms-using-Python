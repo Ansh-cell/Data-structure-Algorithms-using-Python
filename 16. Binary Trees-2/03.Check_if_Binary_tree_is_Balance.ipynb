{
 "cells": [
  {
   "cell_type": "code",
   "execution_count": 2,
   "metadata": {
    "collapsed": true,
    "pycharm": {
     "name": "#%%\n"
    }
   },
   "outputs": [],
   "source": [
    "class Binary_Tree:\n",
    "\n",
    "    def __init__(self, data):\n",
    "        self.data = data\n",
    "        self.left = None\n",
    "        self.right = None\n",
    "\n",
    "\n",
    "\n",
    "def Take_Input():\n",
    "\n",
    "    input_data = int(input(\"Enter the data: \"))\n",
    "\n",
    "    if input_data == -1:\n",
    "        return None\n",
    "\n",
    "    root = Binary_Tree(input_data)\n",
    "    left_tree = Take_Input()\n",
    "    right_tree = Take_Input()\n",
    "    root.left = left_tree\n",
    "    root.right = right_tree\n",
    "\n",
    "    return root\n",
    "\n",
    "def height(root):\n",
    "\n",
    "    if root is None:\n",
    "        return 0\n",
    "    left_tree = height(root.left)\n",
    "    right_tree = height(root.right)\n",
    "\n",
    "    return 1 + max(left_tree, right_tree)\n",
    "\n",
    "def isBalanced(root):\n",
    "\n",
    "    if root is None:\n",
    "        return True\n",
    "\n",
    "    left_height = height(root)\n",
    "    right_height = height(root)\n",
    "\n",
    "    if left_height - right_height > 1 or right_height - left_height > 1:\n",
    "        return False\n",
    "\n",
    "    left_isBalanced = isBalanced(root.left)\n",
    "    right_isBalanced = isBalanced(root.right)\n",
    "\n",
    "    if left_isBalanced and right_isBalanced:\n",
    "        return True\n",
    "    else:\n",
    "        return False"
   ]
  },
  {
   "cell_type": "code",
   "execution_count": 3,
   "outputs": [
    {
     "name": "stdout",
     "output_type": "stream",
     "text": [
      "True\n"
     ]
    }
   ],
   "source": [
    "root = Take_Input()\n",
    "print(isBalanced(root))"
   ],
   "metadata": {
    "collapsed": false,
    "pycharm": {
     "name": "#%%\n"
    }
   }
  }
 ],
 "metadata": {
  "kernelspec": {
   "display_name": "Python 3",
   "language": "python",
   "name": "python3"
  },
  "language_info": {
   "codemirror_mode": {
    "name": "ipython",
    "version": 2
   },
   "file_extension": ".py",
   "mimetype": "text/x-python",
   "name": "python",
   "nbconvert_exporter": "python",
   "pygments_lexer": "ipython2",
   "version": "2.7.6"
  }
 },
 "nbformat": 4,
 "nbformat_minor": 0
}