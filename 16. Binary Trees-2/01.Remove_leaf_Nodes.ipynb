{
 "cells": [
  {
   "cell_type": "code",
   "execution_count": 1,
   "metadata": {
    "collapsed": true
   },
   "outputs": [],
   "source": [
    "class Binary_Tree:\n",
    "\n",
    "    def __init__(self, data):\n",
    "        self.data = data\n",
    "        self.left = None\n",
    "        self.right = None\n",
    "\n",
    "\n",
    "\n",
    "def Take_Input():\n",
    "\n",
    "    input_data = int(input(\"Enter the data: \"))\n",
    "\n",
    "    if input_data == -1:\n",
    "        return None\n",
    "\n",
    "    root = Binary_Tree(input_data)\n",
    "    left_tree = Take_Input()\n",
    "    right_tree = Take_Input()\n",
    "    root.left = left_tree\n",
    "    root.right = right_tree\n",
    "\n",
    "    return root\n",
    "\n",
    "\n",
    "def Print_Binary_Tree(root_node):\n",
    "\n",
    "    if root_node is None:\n",
    "        return\n",
    "\n",
    "    print(root_node.data, end=': ')\n",
    "\n",
    "    if root_node.left is not None:\n",
    "        print(\"L ->\", root_node.left.data, end=',')\n",
    "    if root_node.right is not None:\n",
    "        print(\"R ->\", root_node.right.data, end='')\n",
    "    print()\n",
    "    Print_Binary_Tree(root_node.left)\n",
    "    Print_Binary_Tree(root_node.right)\n",
    "\n",
    "def Remove_left_Node(root_node):\n",
    "\n",
    "    if root_node is None:\n",
    "        return None\n",
    "\n",
    "    if root_node.left is None and root_node.right is None:\n",
    "        return None\n",
    "\n",
    "    root_node.left = Remove_left_Node(root_node.left)\n",
    "    root_node.right = Remove_left_Node(root_node.right)\n",
    "    return root_node"
   ]
  },
  {
   "cell_type": "code",
   "execution_count": 2,
   "outputs": [
    {
     "name": "stdout",
     "output_type": "stream",
     "text": [
      "1: L -> 2,R -> 3\n",
      "2: L -> 4,R -> 5\n",
      "4: \n",
      "5: L -> 6,\n",
      "6: L -> 7,\n",
      "7: L -> 8,R -> 9\n",
      "8: \n",
      "9: \n",
      "3: \n",
      "1: L -> 2,\n",
      "2: R -> 5\n",
      "5: L -> 6,\n",
      "6: L -> 7,\n",
      "7: \n"
     ]
    }
   ],
   "source": [
    "x = Take_Input()\n",
    "Print_Binary_Tree(x)\n",
    "new_root = Remove_left_Node(x)\n",
    "Print_Binary_Tree(new_root)"
   ],
   "metadata": {
    "collapsed": false,
    "pycharm": {
     "name": "#%%\n"
    }
   }
  }
 ],
 "metadata": {
  "kernelspec": {
   "display_name": "Python 3",
   "language": "python",
   "name": "python3"
  },
  "language_info": {
   "codemirror_mode": {
    "name": "ipython",
    "version": 2
   },
   "file_extension": ".py",
   "mimetype": "text/x-python",
   "name": "python",
   "nbconvert_exporter": "python",
   "pygments_lexer": "ipython2",
   "version": "2.7.6"
  }
 },
 "nbformat": 4,
 "nbformat_minor": 0
}