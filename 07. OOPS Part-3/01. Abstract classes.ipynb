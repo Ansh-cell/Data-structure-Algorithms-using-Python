{
 "cells": [
  {
   "cell_type": "code",
   "execution_count": 4,
   "metadata": {
    "collapsed": true,
    "pycharm": {
     "name": "#%%\n"
    }
   },
   "outputs": [
    {
     "name": "stdout",
     "output_type": "stream",
     "text": [
      "Automobile created\n",
      "start of automobile called\n",
      "Start of car called\n"
     ]
    }
   ],
   "source": [
    "from abc import ABC, abstractmethod\n",
    "\n",
    "class Automobile(ABC):\n",
    "\n",
    "    def __init__(self):\n",
    "        print('Automobile created')\n",
    "\n",
    "    @abstractmethod\n",
    "    def start(self):\n",
    "        print('start of automobile called')\n",
    "\n",
    "\n",
    "class Car(Automobile):\n",
    "\n",
    "    def start(self):\n",
    "        super().start()\n",
    "        print('Start of car called')\n",
    "\n",
    "\n",
    "\n",
    "c = Car()\n",
    "c.start()"
   ]
  }
 ],
 "metadata": {
  "kernelspec": {
   "display_name": "Python 3",
   "language": "python",
   "name": "python3"
  },
  "language_info": {
   "codemirror_mode": {
    "name": "ipython",
    "version": 2
   },
   "file_extension": ".py",
   "mimetype": "text/x-python",
   "name": "python",
   "nbconvert_exporter": "python",
   "pygments_lexer": "ipython2",
   "version": "2.7.6"
  }
 },
 "nbformat": 4,
 "nbformat_minor": 0
}