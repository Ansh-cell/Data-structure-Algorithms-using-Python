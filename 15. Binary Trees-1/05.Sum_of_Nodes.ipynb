{
 "cells": [
  {
   "cell_type": "code",
   "execution_count": 6,
   "metadata": {
    "collapsed": true
   },
   "outputs": [],
   "source": [
    "class Binary_Tree:\n",
    "\n",
    "    def __init__(self, data):\n",
    "        self.data = data\n",
    "        self.left = None\n",
    "        self.right = None\n",
    "\n",
    "\n",
    "def Print_Tree(root_node):\n",
    "\n",
    "    if root_node is None:\n",
    "        return\n",
    "\n",
    "    print(root_node.data, end=':')\n",
    "    if root_node.left is not None:\n",
    "        print(\" L ->\", root_node.left.data, end=',')\n",
    "    if root_node.right is not None:\n",
    "        print(\" R ->\", root_node.right.data, end='')\n",
    "    print()\n",
    "    Print_Tree(root_node.left)\n",
    "    Print_Tree(root_node.right)\n",
    "\n",
    "def Take_tree_input():\n",
    "\n",
    "    input_nodes = int(input(\"Enter the data: \"))\n",
    "\n",
    "    if input_nodes == -1:\n",
    "        return None\n",
    "\n",
    "    root = Binary_Tree(input_nodes)\n",
    "    left_tree = Take_tree_input()\n",
    "    right_tree = Take_tree_input()\n",
    "    root.left = left_tree\n",
    "    root.right = right_tree\n",
    "\n",
    "    return root\n",
    "\n",
    "def Sum_of_Nodes(root_node):\n",
    "\n",
    "    if root_node is None:\n",
    "        return 0\n",
    "    left_tree = Sum_of_Nodes(root_node.left)\n",
    "    right_tree = Sum_of_Nodes(root_node.right)\n",
    "\n",
    "    return root_node.data + left_tree + right_tree"
   ]
  },
  {
   "cell_type": "code",
   "execution_count": 7,
   "outputs": [
    {
     "name": "stdout",
     "output_type": "stream",
     "text": [
      "5: L -> 5, R -> 5\n",
      "5:\n",
      "5:\n",
      "15\n"
     ]
    }
   ],
   "source": [
    "x = Take_tree_input()\n",
    "Print_Tree(x)\n",
    "y = Sum_of_Nodes(x)\n",
    "print(y)"
   ],
   "metadata": {
    "collapsed": false,
    "pycharm": {
     "name": "#%%\n"
    }
   }
  }
 ],
 "metadata": {
  "kernelspec": {
   "display_name": "Python 3",
   "language": "python",
   "name": "python3"
  },
  "language_info": {
   "codemirror_mode": {
    "name": "ipython",
    "version": 2
   },
   "file_extension": ".py",
   "mimetype": "text/x-python",
   "name": "python",
   "nbconvert_exporter": "python",
   "pygments_lexer": "ipython2",
   "version": "2.7.6"
  }
 },
 "nbformat": 4,
 "nbformat_minor": 0
}