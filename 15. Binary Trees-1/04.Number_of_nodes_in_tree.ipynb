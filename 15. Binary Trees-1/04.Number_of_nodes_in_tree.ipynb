{
 "cells": [
  {
   "cell_type": "code",
   "execution_count": 5,
   "metadata": {
    "collapsed": true
   },
   "outputs": [],
   "source": [
    "class BinaryTreeNode:\n",
    "\n",
    "    def __init__(self, data):\n",
    "        self.data = data\n",
    "        self.left = None\n",
    "        self.right = None\n",
    "\n",
    "def printTree(root):\n",
    "    if root is None:\n",
    "        return\n",
    "    print(root.data, end=': ')\n",
    "    if root.left is not None:\n",
    "        print(\"L ->\", root.left.data, end=',')\n",
    "    if root.right is not None:\n",
    "        print(\" R ->\", root.right.data, end='')\n",
    "    print()\n",
    "    printTree(root.left)\n",
    "    printTree(root.right)\n",
    "\n",
    "def tree_input():\n",
    "    # not a best way of taking input\n",
    "    root_data = int(input(\"Enter the data: \"))\n",
    "    if root_data == -1:\n",
    "        return None\n",
    "\n",
    "    root = BinaryTreeNode(root_data)\n",
    "    left_tree = tree_input()\n",
    "    right_tree = tree_input()\n",
    "    root.left = left_tree\n",
    "    root.right = right_tree\n",
    "    return root\n",
    "\n",
    "def NumNodes(root):\n",
    "\n",
    "    if root == None:\n",
    "        return 0\n",
    "    left_tree_count = NumNodes(root.left)\n",
    "    right_tree_count = NumNodes(root.right)\n",
    "    return 1 + left_tree_count + right_tree_count"
   ]
  },
  {
   "cell_type": "code",
   "execution_count": 6,
   "outputs": [
    {
     "name": "stdout",
     "output_type": "stream",
     "text": [
      "1: L -> 2, R -> 3\n",
      "2: \n",
      "3: \n",
      "3\n"
     ]
    }
   ],
   "source": [
    "root = tree_input()\n",
    "printTree(root)\n",
    "print(NumNodes(root))"
   ],
   "metadata": {
    "collapsed": false,
    "pycharm": {
     "name": "#%%\n"
    }
   }
  }
 ],
 "metadata": {
  "kernelspec": {
   "display_name": "Python 3",
   "language": "python",
   "name": "python3"
  },
  "language_info": {
   "codemirror_mode": {
    "name": "ipython",
    "version": 2
   },
   "file_extension": ".py",
   "mimetype": "text/x-python",
   "name": "python",
   "nbconvert_exporter": "python",
   "pygments_lexer": "ipython2",
   "version": "2.7.6"
  }
 },
 "nbformat": 4,
 "nbformat_minor": 0
}