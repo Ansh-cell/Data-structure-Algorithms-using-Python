{
 "cells": [
  {
   "cell_type": "code",
   "execution_count": 4,
   "metadata": {
    "collapsed": true
   },
   "outputs": [],
   "source": [
    "class BinaryTreeNode:\n",
    "\n",
    "    def __init__(self, data):\n",
    "        self.data = data\n",
    "        self.left = None\n",
    "        self.right = None\n",
    "\n",
    "def printTree(root):\n",
    "    if root is None:\n",
    "        return\n",
    "    print(root.data, end=': ')\n",
    "    if root.left is not None:\n",
    "        print(\"L ->\", root.left.data, end=',')\n",
    "    if root.right is not None:\n",
    "        print(\" R ->\", root.right.data, end='')\n",
    "    print()\n",
    "    printTree(root.left)\n",
    "    printTree(root.right)\n",
    "\n",
    "def tree_input():\n",
    "    # not a best way of taking input\n",
    "    root_data = int(input(\"Enter the data: \"))\n",
    "    if root_data == -1:\n",
    "        return None\n",
    "\n",
    "    root = BinaryTreeNode(root_data)\n",
    "    left_tree = tree_input()\n",
    "    right_tree = tree_input()\n",
    "    root.left = left_tree\n",
    "    root.right = right_tree\n",
    "    return root"
   ]
  },
  {
   "cell_type": "code",
   "execution_count": 3,
   "outputs": [
    {
     "name": "stdout",
     "output_type": "stream",
     "text": [
      "1: L -> 2, R -> 5\n",
      "2: L -> 3, R -> 4\n",
      "3: \n",
      "4: \n",
      "5: \n"
     ]
    }
   ],
   "source": [
    "root = tree_input()\n",
    "printTree(root)"
   ],
   "metadata": {
    "collapsed": false,
    "pycharm": {
     "name": "#%%\n"
    }
   }
  }
 ],
 "metadata": {
  "kernelspec": {
   "display_name": "Python 3",
   "language": "python",
   "name": "python3"
  },
  "language_info": {
   "codemirror_mode": {
    "name": "ipython",
    "version": 2
   },
   "file_extension": ".py",
   "mimetype": "text/x-python",
   "name": "python",
   "nbconvert_exporter": "python",
   "pygments_lexer": "ipython2",
   "version": "2.7.6"
  }
 },
 "nbformat": 4,
 "nbformat_minor": 0
}