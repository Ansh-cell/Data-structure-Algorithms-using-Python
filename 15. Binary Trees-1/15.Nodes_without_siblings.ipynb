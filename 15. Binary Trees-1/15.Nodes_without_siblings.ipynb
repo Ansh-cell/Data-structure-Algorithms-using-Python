{
 "cells": [
  {
   "cell_type": "code",
   "execution_count": 24,
   "metadata": {
    "collapsed": true
   },
   "outputs": [],
   "source": [
    "class Binary_Tree:\n",
    "\n",
    "    def __init__(self, data):\n",
    "        self.data = data\n",
    "        self.left = None\n",
    "        self.right = None\n",
    "\n",
    "\n",
    "def Take_Input():\n",
    "\n",
    "    input_data = int(input(\"Enter the data: \"))\n",
    "\n",
    "    if input_data == -1:\n",
    "        return None\n",
    "\n",
    "    root = Binary_Tree(input_data)\n",
    "    left_tree = Take_Input()\n",
    "    right_tree = Take_Input()\n",
    "    root.left = left_tree\n",
    "    root.right = right_tree\n",
    "\n",
    "    return root\n",
    "\n",
    "\n",
    "def Nodes_without_siblings(root_node):\n",
    "\n",
    "    if root_node is None:\n",
    "        return\n",
    "\n",
    "    if root_node.left is not None and root_node.right is not None:\n",
    "        Nodes_without_siblings(root_node.left)\n",
    "        Nodes_without_siblings(root_node.right)\n",
    "\n",
    "    elif root_node.left is not None:\n",
    "        print(root_node.data)\n",
    "        Nodes_without_siblings(root_node.left)\n",
    "\n",
    "    elif root_node.right is not None:\n",
    "        print(root_node.data)\n",
    "        Nodes_without_siblings(root_node.right)"
   ]
  },
  {
   "cell_type": "code",
   "execution_count": 26,
   "outputs": [
    {
     "name": "stdout",
     "output_type": "stream",
     "text": [
      "2\n"
     ]
    }
   ],
   "source": [
    "x = Take_Input()\n",
    "Nodes_without_siblings(x)"
   ],
   "metadata": {
    "collapsed": false,
    "pycharm": {
     "name": "#%%\n"
    }
   }
  }
 ],
 "metadata": {
  "kernelspec": {
   "display_name": "Python 3",
   "language": "python",
   "name": "python3"
  },
  "language_info": {
   "codemirror_mode": {
    "name": "ipython",
    "version": 2
   },
   "file_extension": ".py",
   "mimetype": "text/x-python",
   "name": "python",
   "nbconvert_exporter": "python",
   "pygments_lexer": "ipython2",
   "version": "2.7.6"
  }
 },
 "nbformat": 4,
 "nbformat_minor": 0
}