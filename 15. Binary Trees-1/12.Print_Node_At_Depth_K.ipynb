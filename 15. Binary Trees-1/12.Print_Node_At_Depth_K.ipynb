{
 "cells": [
  {
   "cell_type": "code",
   "execution_count": 1,
   "metadata": {
    "collapsed": true
   },
   "outputs": [],
   "source": [
    "class Binary_Tree:\n",
    "\n",
    "    def __init__(self, data):\n",
    "        self.data = data\n",
    "        self.left = None\n",
    "        self.right = None\n",
    "\n",
    "\n",
    "\n",
    "def Take_input():\n",
    "\n",
    "    input_data = int(input(\"Enter the data: \"))\n",
    "\n",
    "    if input_data == -1:\n",
    "        return None\n",
    "\n",
    "    root = Binary_Tree(input_data)\n",
    "    left_tree = Take_input()\n",
    "    right_tree = Take_input()\n",
    "\n",
    "    root.left = left_tree\n",
    "    root.right = right_tree\n",
    "\n",
    "    return root\n",
    "\n",
    "\n",
    "def Nodes_at_K(root, k):\n",
    "    if root is None:\n",
    "        return\n",
    "    if k == 0:\n",
    "        print(root.data)\n",
    "        return\n",
    "    Nodes_at_K(root.left, k-1)\n",
    "    Nodes_at_K(root.right, k-1)"
   ]
  },
  {
   "cell_type": "code",
   "execution_count": 2,
   "outputs": [
    {
     "name": "stdout",
     "output_type": "stream",
     "text": [
      "3\n"
     ]
    }
   ],
   "source": [
    "x = Take_input()\n",
    "Nodes_at_K(x, 2)"
   ],
   "metadata": {
    "collapsed": false,
    "pycharm": {
     "name": "#%%\n"
    }
   }
  }
 ],
 "metadata": {
  "kernelspec": {
   "display_name": "Python 3",
   "language": "python",
   "name": "python3"
  },
  "language_info": {
   "codemirror_mode": {
    "name": "ipython",
    "version": 2
   },
   "file_extension": ".py",
   "mimetype": "text/x-python",
   "name": "python",
   "nbconvert_exporter": "python",
   "pygments_lexer": "ipython2",
   "version": "2.7.6"
  }
 },
 "nbformat": 4,
 "nbformat_minor": 0
}