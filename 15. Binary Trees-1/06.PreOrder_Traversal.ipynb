{
 "cells": [
  {
   "cell_type": "code",
   "execution_count": 2,
   "metadata": {
    "collapsed": true
   },
   "outputs": [],
   "source": [
    "class Binary_Tree:\n",
    "\n",
    "    def __init__(self, data):\n",
    "        self.data = data\n",
    "        self.left  = None\n",
    "        self.right = None\n",
    "\n",
    "def Take_tree_input():\n",
    "    input_data = int(input(\"Enter the data: \"))\n",
    "\n",
    "    if input_data == -1:\n",
    "        return None\n",
    "    root = Binary_Tree(input_data)\n",
    "    left_tree = Take_tree_input()\n",
    "    right_tree = Take_tree_input()\n",
    "    root.left = left_tree\n",
    "    root.right = right_tree\n",
    "    return root\n",
    "\n",
    "def Print_tree_in_PreOrder(root_node):\n",
    "\n",
    "    if root_node is None:\n",
    "        return\n",
    "    print(root_node.data, end=': ')\n",
    "    if root_node.left is not None:\n",
    "        print(\"L ->\", root_node.left.data, end=', ')\n",
    "    if root_node.right is not None:\n",
    "        print(\"R ->\", root_node.right.data, end='')\n",
    "\n",
    "    print()\n",
    "    Print_tree_in_PreOrder(root_node.left)\n",
    "    Print_tree_in_PreOrder(root_node.right)"
   ]
  },
  {
   "cell_type": "code",
   "execution_count": 3,
   "outputs": [
    {
     "name": "stdout",
     "output_type": "stream",
     "text": [
      "1: L -> 2, R -> 3\n",
      "2: L -> 4, R -> 5\n",
      "4: \n",
      "5: \n",
      "3: \n"
     ]
    }
   ],
   "source": [
    "tree_nodes = Take_tree_input()\n",
    "Print_tree_in_PreOrder(tree_nodes)\n"
   ],
   "metadata": {
    "collapsed": false,
    "pycharm": {
     "name": "#%%\n"
    }
   }
  }
 ],
 "metadata": {
  "kernelspec": {
   "display_name": "Python 3",
   "language": "python",
   "name": "python3"
  },
  "language_info": {
   "codemirror_mode": {
    "name": "ipython",
    "version": 2
   },
   "file_extension": ".py",
   "mimetype": "text/x-python",
   "name": "python",
   "nbconvert_exporter": "python",
   "pygments_lexer": "ipython2",
   "version": "2.7.6"
  }
 },
 "nbformat": 4,
 "nbformat_minor": 0
}