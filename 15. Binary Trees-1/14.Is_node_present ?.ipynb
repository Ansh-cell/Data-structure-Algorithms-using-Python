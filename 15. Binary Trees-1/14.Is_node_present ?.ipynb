{
 "cells": [
  {
   "cell_type": "code",
   "execution_count": 14,
   "metadata": {
    "collapsed": true
   },
   "outputs": [],
   "source": [
    "class Binary_Tree:\n",
    "\n",
    "    def __init__(self, data):\n",
    "        self.data = data\n",
    "        self.left = None\n",
    "        self.right = None\n",
    "\n",
    "\n",
    "def Take_Input():\n",
    "\n",
    "    input_data = int(input(\"Enter the data: \"))\n",
    "\n",
    "    if input_data == -1:\n",
    "        return None\n",
    "\n",
    "    root = Binary_Tree(input_data)\n",
    "    left_tree = Take_Input()\n",
    "    right_tree = Take_Input()\n",
    "    root.left = left_tree\n",
    "    root.right = right_tree\n",
    "    return root\n",
    "\n",
    "def check_for_node(root, num):\n",
    "\n",
    "    if root.data == num:\n",
    "        return True\n",
    "\n",
    "    if root.left is None and root.right is None:\n",
    "        return\n",
    "\n",
    "    left_tree = check_for_node(root.left, num)\n",
    "    right_tree = check_for_node(root.right, num)\n",
    "\n",
    "    if left_tree is True or right_tree is True:\n",
    "        return True\n",
    "    else:\n",
    "        return False"
   ]
  },
  {
   "cell_type": "code",
   "execution_count": 13,
   "outputs": [
    {
     "data": {
      "text/plain": "False"
     },
     "execution_count": 13,
     "metadata": {},
     "output_type": "execute_result"
    }
   ],
   "source": [
    "x = Take_Input()\n",
    "check_for_node(x, 2)"
   ],
   "metadata": {
    "collapsed": false,
    "pycharm": {
     "name": "#%%\n"
    }
   }
  }
 ],
 "metadata": {
  "kernelspec": {
   "display_name": "Python 3",
   "language": "python",
   "name": "python3"
  },
  "language_info": {
   "codemirror_mode": {
    "name": "ipython",
    "version": 2
   },
   "file_extension": ".py",
   "mimetype": "text/x-python",
   "name": "python",
   "nbconvert_exporter": "python",
   "pygments_lexer": "ipython2",
   "version": "2.7.6"
  }
 },
 "nbformat": 4,
 "nbformat_minor": 0
}