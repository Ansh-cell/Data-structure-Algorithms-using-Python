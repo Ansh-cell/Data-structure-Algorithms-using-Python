{
 "cells": [
  {
   "cell_type": "code",
   "execution_count": 2,
   "metadata": {
    "collapsed": true
   },
   "outputs": [],
   "source": [
    "class Binary_Tree:\n",
    "\n",
    "    def __init__(self, data):\n",
    "        self.data = data\n",
    "        self.left = None\n",
    "        self.right = None\n",
    "\n",
    "\n",
    "def Take_input_node():\n",
    "\n",
    "    input_data = int(input(\"Enter the data: \"))\n",
    "\n",
    "    if input_data == -1:\n",
    "        return None\n",
    "\n",
    "    root = Binary_Tree(input_data)\n",
    "    left_tree = Take_input_node()\n",
    "    right_tree = Take_input_node()\n",
    "    root.left = left_tree\n",
    "    root.right = right_tree\n",
    "\n",
    "    return root\n",
    "\n",
    "def Greater_than_X(root_node, X):\n",
    "\n",
    "    if root_node is None:\n",
    "        return 0\n",
    "\n",
    "    left_tree = Greater_than_X(root_node.left, X)\n",
    "    right_tree = Greater_than_X(root_node.right, X)\n",
    "\n",
    "    if root_node.data > X:\n",
    "        return 1 + left_tree + right_tree\n",
    "    return left_tree + right_tree\n"
   ]
  },
  {
   "cell_type": "code",
   "execution_count": 4,
   "outputs": [
    {
     "data": {
      "text/plain": "0"
     },
     "execution_count": 4,
     "metadata": {},
     "output_type": "execute_result"
    }
   ],
   "source": [
    "root_tree = Take_input_node()\n",
    "Greater_than_X(root_tree, 3)"
   ],
   "metadata": {
    "collapsed": false,
    "pycharm": {
     "name": "#%%\n"
    }
   }
  }
 ],
 "metadata": {
  "kernelspec": {
   "display_name": "Python 3",
   "language": "python",
   "name": "python3"
  },
  "language_info": {
   "codemirror_mode": {
    "name": "ipython",
    "version": 2
   },
   "file_extension": ".py",
   "mimetype": "text/x-python",
   "name": "python",
   "nbconvert_exporter": "python",
   "pygments_lexer": "ipython2",
   "version": "2.7.6"
  }
 },
 "nbformat": 4,
 "nbformat_minor": 0
}