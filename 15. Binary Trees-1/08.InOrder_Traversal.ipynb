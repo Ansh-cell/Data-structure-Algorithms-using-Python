{
 "cells": [
  {
   "cell_type": "code",
   "execution_count": 1,
   "metadata": {
    "collapsed": true
   },
   "outputs": [],
   "source": [
    "class Binary_Tree:\n",
    "\n",
    "    def __init__(self, data):\n",
    "        self.data = data\n",
    "        self.left = None\n",
    "        self.right = None\n",
    "\n",
    "\n",
    "def Take_input_nodes():\n",
    "    input_data = int(input(\"Enter the data: \"))\n",
    "\n",
    "    if input_data == -1:\n",
    "        return None\n",
    "    root = Binary_Tree(input_data)\n",
    "    left_tree = Take_input_nodes()\n",
    "    right_tree = Take_input_nodes()\n",
    "    root.left = left_tree\n",
    "    root.right = right_tree\n",
    "    return root\n",
    "\n",
    "def Print_Tree_in_PostOrder(root_Node):\n",
    "\n",
    "    if root_Node is None:\n",
    "        return\n",
    "    if root_Node is not None:\n",
    "        Print_Tree_in_PostOrder(root_Node.left)\n",
    "        print(root_Node.data)\n",
    "        Print_Tree_in_PostOrder(root_Node.right)"
   ]
  },
  {
   "cell_type": "code",
   "execution_count": 2,
   "outputs": [
    {
     "name": "stdout",
     "output_type": "stream",
     "text": [
      "4\n",
      "2\n",
      "5\n",
      "1\n",
      "3\n"
     ]
    }
   ],
   "source": [
    "tree_root = Take_input_nodes()\n",
    "Print_Tree_in_PostOrder(tree_root)"
   ],
   "metadata": {
    "collapsed": false,
    "pycharm": {
     "name": "#%%\n"
    }
   }
  }
 ],
 "metadata": {
  "kernelspec": {
   "display_name": "Python 3",
   "language": "python",
   "name": "python3"
  },
  "language_info": {
   "codemirror_mode": {
    "name": "ipython",
    "version": 2
   },
   "file_extension": ".py",
   "mimetype": "text/x-python",
   "name": "python",
   "nbconvert_exporter": "python",
   "pygments_lexer": "ipython2",
   "version": "2.7.6"
  }
 },
 "nbformat": 4,
 "nbformat_minor": 0
}