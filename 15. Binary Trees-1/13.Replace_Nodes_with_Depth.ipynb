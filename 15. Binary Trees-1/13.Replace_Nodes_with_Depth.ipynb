{
 "cells": [
  {
   "cell_type": "code",
   "execution_count": 7,
   "metadata": {
    "collapsed": true
   },
   "outputs": [],
   "source": [
    "class Binary_Tree:\n",
    "\n",
    "    def __init__(self, data):\n",
    "        self.data = data\n",
    "        self.left = None\n",
    "        self.right = None\n",
    "\n",
    "\n",
    "def Take_Input():\n",
    "\n",
    "    input_data = int(input(\"Enter the data: \"))\n",
    "\n",
    "    if input_data == -1:\n",
    "        return None\n",
    "\n",
    "    root = Binary_Tree(input_data)\n",
    "    left_tree = Take_Input()\n",
    "    right_tree = Take_Input()\n",
    "    root.left = left_tree\n",
    "    root.right = right_tree\n",
    "    return root\n",
    "\n",
    "def printTree(root):\n",
    "    if root is None:\n",
    "        return\n",
    "    print(root.data, end=': ')\n",
    "    if root.left is not None:\n",
    "        print(\"L ->\", root.left.data, end=',')\n",
    "    if root.right is not None:\n",
    "        print(\" R ->\", root.right.data, end='')\n",
    "    print()\n",
    "    printTree(root.left)\n",
    "    printTree(root.right)\n",
    "\n",
    "def Replace_nodes_with_depth(root, d = 0):\n",
    "    if root.left is None and root.right is None:\n",
    "        root.data = d\n",
    "        return\n",
    "    root.data = d\n",
    "    Replace_nodes_with_depth(root.left, d + 1)\n",
    "    Replace_nodes_with_depth(root.right, d + 1)"
   ]
  },
  {
   "cell_type": "code",
   "execution_count": 9,
   "outputs": [
    {
     "name": "stdout",
     "output_type": "stream",
     "text": [
      "4: \n",
      "0: \n"
     ]
    }
   ],
   "source": [
    "x = Take_Input()\n",
    "printTree(x)\n",
    "Replace_nodes_with_depth(x, 0)\n",
    "printTree(x)"
   ],
   "metadata": {
    "collapsed": false,
    "pycharm": {
     "name": "#%%\n"
    }
   }
  }
 ],
 "metadata": {
  "kernelspec": {
   "display_name": "Python 3",
   "language": "python",
   "name": "python3"
  },
  "language_info": {
   "codemirror_mode": {
    "name": "ipython",
    "version": 2
   },
   "file_extension": ".py",
   "mimetype": "text/x-python",
   "name": "python",
   "nbconvert_exporter": "python",
   "pygments_lexer": "ipython2",
   "version": "2.7.6"
  }
 },
 "nbformat": 4,
 "nbformat_minor": 0
}