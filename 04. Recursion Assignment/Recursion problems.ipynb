{
 "cells": [
  {
   "cell_type": "markdown",
   "metadata": {},
   "source": [
    "1. Geometric Sum"
   ]
  },
  {
   "cell_type": "code",
   "execution_count": 4,
   "metadata": {},
   "outputs": [],
   "source": [
    "def geometric_sum(n,k): # argument: (n, k) \n",
    "    if k == 0:\n",
    "        return 1\n",
    "    if n == 0:\n",
    "        return f'Invalid number {n}'\n",
    "    a = geometric_sum(n, k-1)\n",
    "    b = 1 / pow(n,k)\n",
    "    return a + b"
   ]
  },
  {
   "cell_type": "code",
   "execution_count": 8,
   "metadata": {},
   "outputs": [
    {
     "data": {
      "text/plain": [
       "1.75"
      ]
     },
     "execution_count": 8,
     "metadata": {},
     "output_type": "execute_result"
    }
   ],
   "source": [
    "geometric_sum(2,2)"
   ]
  },
  {
   "cell_type": "code",
   "execution_count": 10,
   "metadata": {},
   "outputs": [
    {
     "data": {
      "image/png": "[encoded data removed]",
      "text/plain": [
       "<IPython.core.display.Image object>"
      ]
     },
     "execution_count": 10,
     "metadata": {},
     "output_type": "execute_result"
    }
   ],
   "source": [
    "from IPython.display import Image\n",
    "Image(filename='/Users/DataScienceTreasures/Downloads/geometric.png')\n",
    "\n",
    "# formula: 1/2^0 + 1/2^1 + 1/2^2 + ...... \n",
    "# formula in terms of k: 1/2^0 + 1/2^1 + 1/2^2 + ...... + 1/2^k-1 + 1/2^k "
   ]
  },
  {
   "cell_type": "code",
   "execution_count": 11,
   "metadata": {},
   "outputs": [],
   "source": [
    "# recursion calling smaller output 👆🏻"
   ]
  },
  {
   "cell_type": "markdown",
   "metadata": {},
   "source": [
    "2. check if string is palindrome or not"
   ]
  },
  {
   "cell_type": "code",
   "execution_count": 12,
   "metadata": {},
   "outputs": [],
   "source": [
    "def check_Palindrome(s, si, ei):\n",
    "    \n",
    "    if len(s) == 1 or len(s) == 0:\n",
    "        return True\n",
    "    \n",
    "    if s[si] != s[ei]:\n",
    "        return False\n",
    "    else:\n",
    "        return True\n",
    "    \n",
    "    check_Palindrome(s,si+1, ei-1)\n",
    "    return check_Palindrome"
   ]
  },
  {
   "cell_type": "code",
   "execution_count": 13,
   "metadata": {},
   "outputs": [
    {
     "data": {
      "text/plain": [
       "True"
      ]
     },
     "execution_count": 13,
     "metadata": {},
     "output_type": "execute_result"
    }
   ],
   "source": [
    "s = 'racecar'\n",
    "check_Palindrome(s,0,len(s)-1)"
   ]
  },
  {
   "cell_type": "markdown",
   "metadata": {},
   "source": [
    "3. sum of digits"
   ]
  },
  {
   "cell_type": "code",
   "execution_count": 14,
   "metadata": {},
   "outputs": [],
   "source": [
    "def sum_of_digits(n):\n",
    "    num = str(n)\n",
    "    if len(num) == 1:\n",
    "        return int(num)\n",
    "    a = sum_of_digits(num[:len(num)-1])\n",
    "    return int(a) + int(num[len(num)-1])"
   ]
  },
  {
   "cell_type": "code",
   "execution_count": 15,
   "metadata": {},
   "outputs": [
    {
     "data": {
      "text/plain": [
       "10"
      ]
     },
     "execution_count": 15,
     "metadata": {},
     "output_type": "execute_result"
    }
   ],
   "source": [
    "n = 1234\n",
    "sum_of_digits(n)"
   ]
  },
  {
   "cell_type": "markdown",
   "metadata": {},
   "source": [
    "4. Multiplication without inbuild funtion and '*' sign (Recusion)"
   ]
  },
  {
   "cell_type": "code",
   "execution_count": 18,
   "metadata": {},
   "outputs": [],
   "source": [
    "def multiplication(n, m):\n",
    "    if m == 1:\n",
    "        return n\n",
    "    if m == 0:\n",
    "        return 0\n",
    "    \n",
    "    a = multiplication(n, m-1)\n",
    "    return a + n"
   ]
  },
  {
   "cell_type": "code",
   "execution_count": 19,
   "metadata": {},
   "outputs": [
    {
     "data": {
      "text/plain": [
       "6"
      ]
     },
     "execution_count": 19,
     "metadata": {},
     "output_type": "execute_result"
    }
   ],
   "source": [
    "multiplication(2,3) # 2^3"
   ]
  },
  {
   "cell_type": "markdown",
   "metadata": {},
   "source": [
    "5. count number of zero in a integer"
   ]
  },
  {
   "cell_type": "code",
   "execution_count": 30,
   "metadata": {},
   "outputs": [],
   "source": [
    "def count(n):\n",
    "    if n == 0:\n",
    "        return 1\n",
    "    if n < 10:\n",
    "        return 0\n",
    "    elif n % 10 == 0:\n",
    "        return count(n//10) + 1\n",
    "    return count(n//10)"
   ]
  },
  {
   "cell_type": "code",
   "execution_count": 31,
   "metadata": {},
   "outputs": [
    {
     "data": {
      "text/plain": [
       "4"
      ]
     },
     "execution_count": 31,
     "metadata": {},
     "output_type": "execute_result"
    }
   ],
   "source": [
    "n = 10101010\n",
    "count(n)"
   ]
  },
  {
   "cell_type": "markdown",
   "metadata": {},
   "source": [
    "6. convert string to int without using int() or inbuild funtion using recursion"
   ]
  },
  {
   "cell_type": "code",
   "execution_count": 32,
   "metadata": {},
   "outputs": [],
   "source": [
    "def string_to_int(string):\n",
    "    \n",
    "    if len(string) == 1:\n",
    "        return ord(string[0]) - ord('0')\n",
    "    \n",
    "    a = string_to_int(string[1:])\n",
    "    \n",
    "    b = ord(string[0]) - ord('0')\n",
    "    \n",
    "    return b * (pow(10,len(string)-1)) + a"
   ]
  },
  {
   "cell_type": "code",
   "execution_count": 33,
   "metadata": {},
   "outputs": [
    {
     "data": {
      "text/plain": [
       "1234"
      ]
     },
     "execution_count": 33,
     "metadata": {},
     "output_type": "execute_result"
    }
   ],
   "source": [
    "string = '1234'\n",
    "string_to_int(string)"
   ]
  },
  {
   "cell_type": "markdown",
   "metadata": {},
   "source": [
    "7. insert '*' symbol when adjacent char are same"
   ]
  },
  {
   "cell_type": "code",
   "execution_count": 34,
   "metadata": {},
   "outputs": [],
   "source": [
    "def pair_star(stri):\n",
    "    \n",
    "    if len(stri) == 0 or len(stri) == 1:\n",
    "        return stri\n",
    "    \n",
    "    if stri[0] == stri[1]:\n",
    "        smalleroutput = pair_star(stri[1:])\n",
    "        return stri[0] + '*' + smalleroutput\n",
    "    else:\n",
    "        smalleroutput = pair_star(stri[1:])\n",
    "        return stri[0] + smalleroutput"
   ]
  },
  {
   "cell_type": "code",
   "execution_count": 35,
   "metadata": {},
   "outputs": [
    {
     "data": {
      "text/plain": [
       "'a*a*ab'"
      ]
     },
     "execution_count": 35,
     "metadata": {},
     "output_type": "execute_result"
    }
   ],
   "source": [
    "n = 'aaab'\n",
    "pair_star(n)"
   ]
  },
  {
   "cell_type": "markdown",
   "metadata": {},
   "source": [
    "8. check string is trur or false according to the rules "
   ]
  },
  {
   "cell_type": "code",
   "execution_count": 48,
   "metadata": {},
   "outputs": [],
   "source": [
    "# rules: 1.The string begins with an 'a'\n",
    "#        2.Each 'a' is followed by nothing or an 'a' or \"bb\"\n",
    "#        3.Each \"bb\" is followed by nothing or an 'a'\n",
    "\n",
    "def check(s):\n",
    "    \n",
    "    if len(s) == 0:\n",
    "        return False\n",
    "    if len(s) == 1:\n",
    "        if s[0] == 'a':\n",
    "            return True\n",
    "        else:\n",
    "            return False\n",
    "    if s[0] == 'a':\n",
    "        return check(s[1:])\n",
    "    elif s[0] == 'b':\n",
    "        if s[1] == 'b':\n",
    "            return check(s[2:])\n",
    "        else:\n",
    "            return False\n",
    "    else:\n",
    "        return False\n",
    "        "
   ]
  },
  {
   "cell_type": "code",
   "execution_count": 49,
   "metadata": {},
   "outputs": [
    {
     "data": {
      "text/plain": [
       "True"
      ]
     },
     "execution_count": 49,
     "metadata": {},
     "output_type": "execute_result"
    }
   ],
   "source": [
    "check('abba')"
   ]
  }
 ],
 "metadata": {
  "kernelspec": {
   "display_name": "Python 3",
   "language": "python",
   "name": "python3"
  },
  "language_info": {
   "codemirror_mode": {
    "name": "ipython",
    "version": 3
   },
   "file_extension": ".py",
   "mimetype": "text/x-python",
   "name": "python",
   "nbconvert_exporter": "python",
   "pygments_lexer": "ipython3",
   "version": "3.8.3"
  }
 },
 "nbformat": 4,
 "nbformat_minor": 4
}
