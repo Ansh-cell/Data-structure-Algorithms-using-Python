{
 "cells": [
  {
   "cell_type": "code",
   "execution_count": 3,
   "outputs": [],
   "source": [
    "def merge(a1, a2, a):\n",
    "    i = 0\n",
    "    j = 0\n",
    "    k = 0\n",
    "\n",
    "    while i < len(a1) and j < len(a2):\n",
    "\n",
    "        if a1[i] < a2[j]:\n",
    "            a[k] = a1[i]\n",
    "            i += 1\n",
    "            k += 1\n",
    "        else:\n",
    "            a[k] = a2[j]\n",
    "            j += 1\n",
    "            k += 1\n",
    "    while i < len(a1):\n",
    "        a[k] = a1[i]\n",
    "        i += 1\n",
    "        k += 1\n",
    "    while j < len(a2):\n",
    "        a[k] = a2[j]\n",
    "        j += 1\n",
    "        k += 1\n",
    "\n",
    "\n",
    "def merge_sort(arr):\n",
    "    if len(arr) == 0 or len(arr) == 1:\n",
    "        return arr\n",
    "\n",
    "    mid = len(arr) // 2\n",
    "\n",
    "    a1 = arr[0:mid]\n",
    "    a2 = arr[mid:]\n",
    "\n",
    "    merge_sort(a1)\n",
    "    merge_sort(a2)\n",
    "\n",
    "    merge(a1, a2, arr)"
   ],
   "metadata": {
    "collapsed": false,
    "pycharm": {
     "name": "#%%\n"
    }
   }
  },
  {
   "cell_type": "code",
   "execution_count": 4,
   "outputs": [],
   "source": [
    "def selection_sort(arr):  # argument: (arr) --> arr = array/list\n",
    "\n",
    "    length = len(arr)  # find the length of array/list\n",
    "\n",
    "    for i in range(length - 1):  # will run loop till the end of list\n",
    "\n",
    "        minindex = i  # our min-element index = i\n",
    "\n",
    "        for j in range(i + 1, length):  # will start after the ith element\n",
    "\n",
    "            if arr[j] < arr[minindex]:  # if j element is less then ith element then we found min-element then i\n",
    "\n",
    "                minindex = j  # so our next min-element is j (then we just found)\n",
    "\n",
    "        arr[i], arr[minindex] = arr[minindex], arr[i]"
   ],
   "metadata": {
    "collapsed": false,
    "pycharm": {
     "name": "#%%\n"
    }
   }
  },
  {
   "cell_type": "code",
   "execution_count": 5,
   "outputs": [],
   "source": [
    "def create_rev_array(n):\n",
    "    a = []\n",
    "    for i in range(n, 0, -1):\n",
    "        a.append(i)\n",
    "    return a"
   ],
   "metadata": {
    "collapsed": false,
    "pycharm": {
     "name": "#%%\n"
    }
   }
  },
  {
   "cell_type": "code",
   "execution_count": 29,
   "outputs": [],
   "source": [
    "import time\n",
    "n = 100000"
   ],
   "metadata": {
    "collapsed": false,
    "pycharm": {
     "name": "#%%\n"
    }
   }
  },
  {
   "cell_type": "code",
   "execution_count": 20,
   "outputs": [
    {
     "name": "stdout",
     "output_type": "stream",
     "text": [
      "9.703636169433594e-05\n"
     ]
    }
   ],
   "source": [
    "a= create_rev_array(n)\n",
    "start = time.time()\n",
    "merge_sort(a)\n",
    "end = time.time()\n",
    "print(end - start)"
   ],
   "metadata": {
    "collapsed": false,
    "pycharm": {
     "name": "#%%\n"
    }
   }
  },
  {
   "cell_type": "code",
   "execution_count": 30,
   "outputs": [
    {
     "name": "stdout",
     "output_type": "stream",
     "text": [
      "452.7199079990387\n"
     ]
    }
   ],
   "source": [
    "a= create_rev_array(n)\n",
    "start = time.time()\n",
    "selection_sort(a)\n",
    "end = time.time()\n",
    "print(end - start)"
   ],
   "metadata": {
    "collapsed": false,
    "pycharm": {
     "name": "#%%\n"
    }
   }
  },
  {
   "cell_type": "code",
   "execution_count": 9,
   "outputs": [
    {
     "data": {
      "text/plain": "<Figure size 432x288 with 1 Axes>",
      "image/png": "[encoded data removed]"
     },
     "metadata": {
      "needs_background": "light"
     },
     "output_type": "display_data"
    }
   ],
   "source": [
    "import matplotlib.pyplot as plt\n",
    "\n",
    "# create data\n",
    "x1 = [10,100,1000,10000, 100000]\n",
    "y1 = [0.0001049041748046875, 0.0005950927734375, 0.004733085632324219, 0.06113791465759277, 0.5195739269256592]\n",
    "y2 = [0.00011014938354492188, 0.0006420612335205078, 0.0607600212097168, 3.688335657119751, 452.7199079990387]\n",
    "# plot lines\n",
    "plt.plot(x1, y1, label = \"Merge Sort\")\n",
    "plt.plot(x1, y2, label = \"Selection Sort\")\n",
    "plt.xlabel('length of list')\n",
    "plt.ylabel('Time taken in seconds')\n",
    "plt.legend()\n",
    "plt.show()"
   ],
   "metadata": {
    "collapsed": false,
    "pycharm": {
     "name": "#%%\n"
    }
   }
  }
 ],
 "metadata": {
  "kernelspec": {
   "display_name": "Python 3",
   "language": "python",
   "name": "python3"
  },
  "language_info": {
   "codemirror_mode": {
    "name": "ipython",
    "version": 2
   },
   "file_extension": ".py",
   "mimetype": "text/x-python",
   "name": "python",
   "nbconvert_exporter": "python",
   "pygments_lexer": "ipython2",
   "version": "2.7.6"
  }
 },
 "nbformat": 4,
 "nbformat_minor": 0
}