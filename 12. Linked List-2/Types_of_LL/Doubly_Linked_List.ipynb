{
 "cells": [
  {
   "cell_type": "code",
   "execution_count": 19,
   "metadata": {
    "collapsed": true
   },
   "outputs": [],
   "source": [
    "class Node:\n",
    "\n",
    "    def __init__(self, data):\n",
    "        self.data = data\n",
    "        self.next = None\n",
    "        self.previous = None\n",
    "\n",
    "def take_input():\n",
    "\n",
    "    input_data = [int(element) for element in input().split()]\n",
    "    head = None\n",
    "    tail = None\n",
    "    temp = None\n",
    "    for curr_data in input_data:\n",
    "\n",
    "        if curr_data == -1:\n",
    "            return head\n",
    "        node = Node(curr_data)\n",
    "        if head is None:\n",
    "            head = node\n",
    "            tail = node\n",
    "            tail.previous = None\n",
    "            temp = node\n",
    "        else:\n",
    "            tail.next = node\n",
    "            tail.previous = temp\n",
    "            tail = node\n",
    "            temp = node\n",
    "\n",
    "    return head\n",
    "\n",
    "def Print_LL(head_of_ll):\n",
    "    print('None' + ' <- ', end='')\n",
    "    while head_of_ll.next is not None:\n",
    "        print(str(head_of_ll.data) + ' <-> ',end='')\n",
    "        head_of_ll = head_of_ll.next\n",
    "    print(str(head_of_ll.data) + ' -> ' + 'None',end='')\n",
    "    return"
   ]
  },
  {
   "cell_type": "code",
   "execution_count": 29,
   "outputs": [
    {
     "name": "stdout",
     "output_type": "stream",
     "text": [
      "None <- 1 <-> 2 <-> 3 <-> 4 <-> 5 -> None"
     ]
    }
   ],
   "source": [
    "LL = take_input()\n",
    "Print_LL(LL)\n"
   ],
   "metadata": {
    "collapsed": false,
    "pycharm": {
     "name": "#%%\n"
    }
   }
  }
 ],
 "metadata": {
  "kernelspec": {
   "display_name": "Python 3",
   "language": "python",
   "name": "python3"
  },
  "language_info": {
   "codemirror_mode": {
    "name": "ipython",
    "version": 2
   },
   "file_extension": ".py",
   "mimetype": "text/x-python",
   "name": "python",
   "nbconvert_exporter": "python",
   "pygments_lexer": "ipython2",
   "version": "2.7.6"
  }
 },
 "nbformat": 4,
 "nbformat_minor": 0
}