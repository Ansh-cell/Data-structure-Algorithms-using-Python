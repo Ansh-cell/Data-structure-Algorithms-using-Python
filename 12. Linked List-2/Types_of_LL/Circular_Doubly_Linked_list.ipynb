{
 "cells": [
  {
   "cell_type": "code",
   "execution_count": 7,
   "metadata": {
    "collapsed": true
   },
   "outputs": [],
   "source": [
    "class Node:\n",
    "\n",
    "    def __init__(self, data):\n",
    "        self.data = data\n",
    "        self.next = None\n",
    "        self.previous = None\n",
    "\n",
    "\n",
    "def take_input():\n",
    "    input_data = [int(element) for element in input().split()]\n",
    "    head, tail, temp, first_node = None, None, None, None\n",
    "    last_node = None\n",
    "    for curr_data in input_data:\n",
    "\n",
    "        if curr_data == -1:\n",
    "            head.previous = last_node\n",
    "            tail.next = first_node\n",
    "            return head\n",
    "\n",
    "        node = Node(curr_data)\n",
    "\n",
    "        if head is None:\n",
    "            head, tail, temp, first_node, last_node = node, node, node, node, node\n",
    "        else:\n",
    "            tail.next = node\n",
    "            tail = node\n",
    "            tail.previous = temp\n",
    "            temp = tail\n",
    "            last_node = node\n",
    "\n",
    "    head.previous = last_node\n",
    "    tail.next = first_node\n",
    "    return head\n",
    "\n",
    "def Print_LL(head_of_ll):\n",
    "    start = head_of_ll.next\n",
    "    print(str(head_of_ll.data) + ' <-> ',end='')\n",
    "    while head_of_ll != start:\n",
    "        print(str(start.data) + ' <-> ',end='')\n",
    "        start = start.next\n",
    "    print(str(head_of_ll.data) + ' <-> ' + '...',end='')\n",
    "    return"
   ]
  },
  {
   "cell_type": "code",
   "execution_count": 8,
   "outputs": [
    {
     "name": "stdout",
     "output_type": "stream",
     "text": [
      "1 <-> 2 <-> 3 <-> 4 <-> 1 <-> ..."
     ]
    }
   ],
   "source": [
    "h = take_input()\n",
    "Print_LL(h)\n"
   ],
   "metadata": {
    "collapsed": false,
    "pycharm": {
     "name": "#%%\n"
    }
   }
  }
 ],
 "metadata": {
  "kernelspec": {
   "display_name": "Python 3",
   "language": "python",
   "name": "python3"
  },
  "language_info": {
   "codemirror_mode": {
    "name": "ipython",
    "version": 2
   },
   "file_extension": ".py",
   "mimetype": "text/x-python",
   "name": "python",
   "nbconvert_exporter": "python",
   "pygments_lexer": "ipython2",
   "version": "2.7.6"
  }
 },
 "nbformat": 4,
 "nbformat_minor": 0
}