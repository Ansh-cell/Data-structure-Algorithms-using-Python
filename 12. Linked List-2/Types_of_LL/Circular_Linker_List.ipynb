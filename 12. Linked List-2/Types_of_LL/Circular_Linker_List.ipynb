{
 "cells": [
  {
   "cell_type": "code",
   "execution_count": 30,
   "metadata": {
    "collapsed": true
   },
   "outputs": [],
   "source": [
    "class Node:\n",
    "\n",
    "    def __init__(self, data):\n",
    "        self.data = data\n",
    "        self.next = None\n",
    "\n",
    "def take_input():\n",
    "\n",
    "    input_data = [int(element) for element in input().split()]\n",
    "    head = None\n",
    "    tail = None\n",
    "    first_node = None\n",
    "    for curr_data in input_data:\n",
    "\n",
    "        if curr_data == -1:\n",
    "            tail.next = first_node\n",
    "            return head\n",
    "\n",
    "        node = Node(curr_data)\n",
    "\n",
    "        if head is None:\n",
    "            head = node\n",
    "            tail = node\n",
    "            first_node = node\n",
    "        else:\n",
    "            tail.next = node\n",
    "            tail = node\n",
    "\n",
    "    tail.next = first_node\n",
    "\n",
    "    return head\n",
    "\n",
    "def Print_LL(head_of_node):\n",
    "    start = head_of_node.next\n",
    "    print(str(head_of_node.data) + ' -> ',end='')\n",
    "    while head_of_node != start:\n",
    "        print(str(start.data) + ' -> ',end='')\n",
    "        start = start.next\n",
    "    print(str(head_of_node.data) + ' -> ... ')\n",
    "    return"
   ]
  },
  {
   "cell_type": "code",
   "execution_count": 31,
   "outputs": [
    {
     "name": "stdout",
     "output_type": "stream",
     "text": [
      "1 -> 2 -> 3 -> 4 -> 1 -> ... \n"
     ]
    }
   ],
   "source": [
    "h = take_input()\n",
    "Print_LL(h)"
   ],
   "metadata": {
    "collapsed": false,
    "pycharm": {
     "name": "#%%\n"
    }
   }
  },
  {
   "cell_type": "code",
   "execution_count": null,
   "outputs": [],
   "source": [],
   "metadata": {
    "collapsed": false,
    "pycharm": {
     "name": "#%%\n"
    }
   }
  }
 ],
 "metadata": {
  "kernelspec": {
   "display_name": "Python 3",
   "language": "python",
   "name": "python3"
  },
  "language_info": {
   "codemirror_mode": {
    "name": "ipython",
    "version": 2
   },
   "file_extension": ".py",
   "mimetype": "text/x-python",
   "name": "python",
   "nbconvert_exporter": "python",
   "pygments_lexer": "ipython2",
   "version": "2.7.6"
  }
 },
 "nbformat": 4,
 "nbformat_minor": 0
}