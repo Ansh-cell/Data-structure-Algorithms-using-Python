{
 "cells": [
  {
   "cell_type": "code",
   "execution_count": 1,
   "metadata": {
    "collapsed": true
   },
   "outputs": [],
   "source": [
    "class Node:\n",
    "\n",
    "    def __init__(self, data):\n",
    "        self.data = data\n",
    "        self.next = None\n",
    "\n",
    "def take_input():\n",
    "\n",
    "    input_data = [int(element) for element in input().split()]\n",
    "\n",
    "    head = None\n",
    "    tail = None\n",
    "\n",
    "    for curr_data in input_data:\n",
    "\n",
    "        if curr_data == -1:\n",
    "            return head\n",
    "        node = Node(curr_data)\n",
    "\n",
    "        if head is None:\n",
    "            head = node\n",
    "            tail = node\n",
    "        else:\n",
    "            tail.next = node\n",
    "            tail = node\n",
    "\n",
    "    return head\n",
    "\n",
    "def Print_LL(head_of_node):\n",
    "\n",
    "    while head_of_node is not None:\n",
    "        print(str(head_of_node.data) + ' -> ',end='')\n",
    "        head_of_node = head_of_node.next\n",
    "    print('None')\n",
    "\n",
    "    return\n",
    "\n",
    "def reverse_LL(head):\n",
    "    original_head = head\n",
    "    prev = None\n",
    "    while head:\n",
    "        temp = head\n",
    "        head = head.next\n",
    "        temp.next = prev\n",
    "        prev = temp\n",
    "    return original_head, prev\n",
    "        \n",
    "\n",
    "\n",
    "def reverse_k_nodes(head_of_ll, k):\n",
    "    # 1 -> 2 -> 3 -> 4 -> 5 -> 6 -> 7 -> 8 -> None\n",
    "    tail1 = head_of_ll\n",
    "    count  = 0\n",
    "    head2 = None\n",
    "    tail = None\n",
    "    x = True\n",
    "    if tail1 is None:\n",
    "        return\n",
    "    while x:\n",
    "        if count == k or tail1.next is None:\n",
    "            head2 = tail1.next\n",
    "            tail1.next = None\n",
    "            tail = reverse_LL(head_of_ll)\n",
    "            x = False\n",
    "        else:\n",
    "            tail1 = tail1.next\n",
    "            count += 1\n",
    "\n",
    "    reverse_k_nodes(head2, k)\n",
    "    tail[0].next = tail1[1]\n",
    "\n",
    "    return head_of_ll"
   ]
  },
  {
   "cell_type": "code",
   "execution_count": 2,
   "outputs": [
    {
     "name": "stdout",
     "output_type": "stream",
     "text": [
      "1 -> 2 -> 3 -> 4 -> 5 -> 6 -> None\n"
     ]
    },
    {
     "ename": "TypeError",
     "evalue": "'Node' object is not subscriptable",
     "output_type": "error",
     "traceback": [
      "\u001B[0;31m---------------------------------------------------------------------------\u001B[0m",
      "\u001B[0;31mTypeError\u001B[0m                                 Traceback (most recent call last)",
      "\u001B[0;32m/var/folders/x2/lrf09j9528x27kg9knf4rhnm0000gp/T/ipykernel_25179/593963979.py\u001B[0m in \u001B[0;36m<module>\u001B[0;34m\u001B[0m\n\u001B[1;32m      1\u001B[0m \u001B[0mheady\u001B[0m \u001B[0;34m=\u001B[0m \u001B[0mtake_input\u001B[0m\u001B[0;34m(\u001B[0m\u001B[0;34m)\u001B[0m\u001B[0;34m\u001B[0m\u001B[0;34m\u001B[0m\u001B[0m\n\u001B[1;32m      2\u001B[0m \u001B[0mPrint_LL\u001B[0m\u001B[0;34m(\u001B[0m\u001B[0mheady\u001B[0m\u001B[0;34m)\u001B[0m\u001B[0;34m\u001B[0m\u001B[0;34m\u001B[0m\u001B[0m\n\u001B[0;32m----> 3\u001B[0;31m \u001B[0mx\u001B[0m \u001B[0;34m=\u001B[0m \u001B[0mreverse_k_nodes\u001B[0m\u001B[0;34m(\u001B[0m\u001B[0mheady\u001B[0m\u001B[0;34m,\u001B[0m \u001B[0;36m3\u001B[0m\u001B[0;34m)\u001B[0m\u001B[0;34m\u001B[0m\u001B[0;34m\u001B[0m\u001B[0m\n\u001B[0m\u001B[1;32m      4\u001B[0m \u001B[0mPrint_LL\u001B[0m\u001B[0;34m(\u001B[0m\u001B[0mx\u001B[0m\u001B[0;34m)\u001B[0m\u001B[0;34m\u001B[0m\u001B[0;34m\u001B[0m\u001B[0m\n\u001B[1;32m      5\u001B[0m \u001B[0;34m\u001B[0m\u001B[0m\n",
      "\u001B[0;32m/var/folders/x2/lrf09j9528x27kg9knf4rhnm0000gp/T/ipykernel_25179/612888047.py\u001B[0m in \u001B[0;36mreverse_k_nodes\u001B[0;34m(head_of_ll, k)\u001B[0m\n\u001B[1;32m     67\u001B[0m             \u001B[0mcount\u001B[0m \u001B[0;34m+=\u001B[0m \u001B[0;36m1\u001B[0m\u001B[0;34m\u001B[0m\u001B[0;34m\u001B[0m\u001B[0m\n\u001B[1;32m     68\u001B[0m \u001B[0;34m\u001B[0m\u001B[0m\n\u001B[0;32m---> 69\u001B[0;31m     \u001B[0mreverse_k_nodes\u001B[0m\u001B[0;34m(\u001B[0m\u001B[0mhead2\u001B[0m\u001B[0;34m,\u001B[0m \u001B[0mk\u001B[0m\u001B[0;34m)\u001B[0m\u001B[0;34m\u001B[0m\u001B[0;34m\u001B[0m\u001B[0m\n\u001B[0m\u001B[1;32m     70\u001B[0m     \u001B[0mtail\u001B[0m\u001B[0;34m[\u001B[0m\u001B[0;36m0\u001B[0m\u001B[0;34m]\u001B[0m\u001B[0;34m.\u001B[0m\u001B[0mnext\u001B[0m \u001B[0;34m=\u001B[0m \u001B[0mtail1\u001B[0m\u001B[0;34m[\u001B[0m\u001B[0;36m1\u001B[0m\u001B[0;34m]\u001B[0m\u001B[0;34m\u001B[0m\u001B[0;34m\u001B[0m\u001B[0m\n\u001B[1;32m     71\u001B[0m \u001B[0;34m\u001B[0m\u001B[0m\n",
      "\u001B[0;32m/var/folders/x2/lrf09j9528x27kg9knf4rhnm0000gp/T/ipykernel_25179/612888047.py\u001B[0m in \u001B[0;36mreverse_k_nodes\u001B[0;34m(head_of_ll, k)\u001B[0m\n\u001B[1;32m     68\u001B[0m \u001B[0;34m\u001B[0m\u001B[0m\n\u001B[1;32m     69\u001B[0m     \u001B[0mreverse_k_nodes\u001B[0m\u001B[0;34m(\u001B[0m\u001B[0mhead2\u001B[0m\u001B[0;34m,\u001B[0m \u001B[0mk\u001B[0m\u001B[0;34m)\u001B[0m\u001B[0;34m\u001B[0m\u001B[0;34m\u001B[0m\u001B[0m\n\u001B[0;32m---> 70\u001B[0;31m     \u001B[0mtail\u001B[0m\u001B[0;34m[\u001B[0m\u001B[0;36m0\u001B[0m\u001B[0;34m]\u001B[0m\u001B[0;34m.\u001B[0m\u001B[0mnext\u001B[0m \u001B[0;34m=\u001B[0m \u001B[0mtail1\u001B[0m\u001B[0;34m[\u001B[0m\u001B[0;36m1\u001B[0m\u001B[0;34m]\u001B[0m\u001B[0;34m\u001B[0m\u001B[0;34m\u001B[0m\u001B[0m\n\u001B[0m\u001B[1;32m     71\u001B[0m \u001B[0;34m\u001B[0m\u001B[0m\n\u001B[1;32m     72\u001B[0m     \u001B[0;32mreturn\u001B[0m \u001B[0mhead_of_ll\u001B[0m\u001B[0;34m\u001B[0m\u001B[0;34m\u001B[0m\u001B[0m\n",
      "\u001B[0;31mTypeError\u001B[0m: 'Node' object is not subscriptable"
     ]
    }
   ],
   "source": [
    "heady = take_input()\n",
    "Print_LL(heady)\n",
    "x = reverse_k_nodes(heady, 3)\n",
    "Print_LL(x)"
   ],
   "metadata": {
    "collapsed": false,
    "pycharm": {
     "name": "#%%\n"
    }
   }
  },
  {
   "cell_type": "code",
   "execution_count": null,
   "outputs": [],
   "source": [],
   "metadata": {
    "collapsed": false,
    "pycharm": {
     "name": "#%%\n"
    }
   }
  }
 ],
 "metadata": {
  "kernelspec": {
   "name": "python3",
   "language": "python",
   "display_name": "Python 3 (ipykernel)"
  },
  "language_info": {
   "codemirror_mode": {
    "name": "ipython",
    "version": 2
   },
   "file_extension": ".py",
   "mimetype": "text/x-python",
   "name": "python",
   "nbconvert_exporter": "python",
   "pygments_lexer": "ipython2",
   "version": "2.7.6"
  }
 },
 "nbformat": 4,
 "nbformat_minor": 0
}