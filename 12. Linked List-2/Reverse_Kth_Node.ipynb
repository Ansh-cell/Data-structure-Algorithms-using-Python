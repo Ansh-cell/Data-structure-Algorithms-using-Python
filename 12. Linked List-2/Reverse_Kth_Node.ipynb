{
 "cells": [
  {
   "cell_type": "code",
   "execution_count": 1,
   "metadata": {
    "collapsed": true
   },
   "outputs": [],
   "source": [
    "class Node:\n",
    "\n",
    "    def __init__(self, data):\n",
    "        self.data = data\n",
    "        self.next = None\n",
    "\n",
    "def take_input():\n",
    "\n",
    "    input_data = [int(element) for element in input().split()]\n",
    "\n",
    "    head = None\n",
    "    tail = None\n",
    "\n",
    "    for curr_data in input_data:\n",
    "\n",
    "        if curr_data == -1:\n",
    "            return head\n",
    "        node = Node(curr_data)\n",
    "\n",
    "        if head is None:\n",
    "            head = node\n",
    "            tail = node\n",
    "        else:\n",
    "            tail.next = node\n",
    "            tail = node\n",
    "\n",
    "    return head\n",
    "\n",
    "def Print_LL(head_of_node):\n",
    "\n",
    "    while head_of_node is not None:\n",
    "        print(str(head_of_node.data) + ' -> ',end='')\n",
    "        head_of_node = head_of_node.next\n",
    "    print('None')\n",
    "\n",
    "    return\n",
    "\n",
    "def reverse_k_nodes(head_of_ll, k):\n",
    "    # 1 -> 2 -> 3 -> 4 -> 5 -> 6 -> 7 -> 8 -> None\n",
    "    head = head_of_ll\n",
    "    count  = 1\n",
    "    previous = None\n",
    "    tail = head_of_ll\n",
    "    while head_of_ll is not None:\n",
    "\n",
    "        if count == k:\n",
    "            "
   ]
  }
 ],
 "metadata": {
  "kernelspec": {
   "display_name": "Python 3",
   "language": "python",
   "name": "python3"
  },
  "language_info": {
   "codemirror_mode": {
    "name": "ipython",
    "version": 2
   },
   "file_extension": ".py",
   "mimetype": "text/x-python",
   "name": "python",
   "nbconvert_exporter": "python",
   "pygments_lexer": "ipython2",
   "version": "2.7.6"
  }
 },
 "nbformat": 4,
 "nbformat_minor": 0
}