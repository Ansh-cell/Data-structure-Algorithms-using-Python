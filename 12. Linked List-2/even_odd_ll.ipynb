{
 "cells": [
  {
   "cell_type": "code",
   "execution_count": 22,
   "metadata": {
    "collapsed": true
   },
   "outputs": [],
   "source": [
    "class Node:\n",
    "\n",
    "    def __init__(self, data):\n",
    "        self.data = data\n",
    "        self.next = None\n",
    "\n",
    "\n",
    "def take_input():\n",
    "\n",
    "    input_data = [int(element) for element in input().split()]\n",
    "    head = None\n",
    "    tail = None\n",
    "\n",
    "    for curr_data in input_data:\n",
    "\n",
    "        if curr_data == -1:\n",
    "            return head\n",
    "\n",
    "        node = Node(curr_data)\n",
    "\n",
    "        if head is None:\n",
    "            head = node\n",
    "            tail = node\n",
    "        else:\n",
    "            tail.next = node\n",
    "            tail = node\n",
    "\n",
    "    return head\n",
    "\n",
    "def Print_LL(head_of_LL):\n",
    "\n",
    "    while head_of_LL is not None:\n",
    "        print(str(head_of_LL.data) + ' -> ',end=\"\")\n",
    "        head_of_LL = head_of_LL.next\n",
    "    print('None')\n",
    "    return\n",
    "\n",
    "\n",
    "def odd_even_LL(head_of_Linked_List):\n",
    "    head_of_odd, tail_of_odd = None, None\n",
    "    head_of_even, tail_of_even = None, None\n",
    "    while head_of_Linked_List is not None:\n",
    "        if head_of_Linked_List.data % 2 == 0:\n",
    "            if head_of_even is None:\n",
    "                head_of_even = head_of_Linked_List\n",
    "                tail_of_even = head_of_Linked_List\n",
    "                head_of_Linked_List = head_of_Linked_List.next\n",
    "            else:\n",
    "                tail_of_even.next = head_of_Linked_List\n",
    "                tail_of_even = head_of_Linked_List\n",
    "                head_of_Linked_List = head_of_Linked_List.next\n",
    "        else:\n",
    "            if head_of_odd is None:\n",
    "                head_of_odd = head_of_Linked_List\n",
    "                tail_of_odd = head_of_Linked_List\n",
    "                head_of_Linked_List = head_of_Linked_List.next\n",
    "            else:\n",
    "                tail_of_odd.next = head_of_Linked_List\n",
    "                tail_of_odd = head_of_Linked_List\n",
    "                head_of_Linked_List = head_of_Linked_List.next\n",
    "    if head_of_odd is None:\n",
    "        tail_of_even.next = None\n",
    "        return head_of_even\n",
    "    if head_of_even is None:\n",
    "        tail_of_odd.next = None\n",
    "        return head_of_odd\n",
    "    else:\n",
    "        tail_of_even.next = None\n",
    "        tail_of_odd.next = None\n",
    "        tail_of_odd.next = head_of_even\n",
    "    return head_of_odd"
   ]
  },
  {
   "cell_type": "code",
   "execution_count": 26,
   "outputs": [
    {
     "name": "stdout",
     "output_type": "stream",
     "text": [
      "1 -> 2 -> 3 -> 4 -> 5 -> None\n",
      "1 -> 3 -> 5 -> 2 -> 4 -> None\n"
     ]
    }
   ],
   "source": [
    "x = take_input()\n",
    "Print_LL(x)\n",
    "y = odd_even_LL(x)\n",
    "Print_LL(y)"
   ],
   "metadata": {
    "collapsed": false,
    "pycharm": {
     "name": "#%%\n"
    }
   }
  }
 ],
 "metadata": {
  "kernelspec": {
   "display_name": "Python 3",
   "language": "python",
   "name": "python3"
  },
  "language_info": {
   "codemirror_mode": {
    "name": "ipython",
    "version": 2
   },
   "file_extension": ".py",
   "mimetype": "text/x-python",
   "name": "python",
   "nbconvert_exporter": "python",
   "pygments_lexer": "ipython2",
   "version": "2.7.6"
  }
 },
 "nbformat": 4,
 "nbformat_minor": 0
}