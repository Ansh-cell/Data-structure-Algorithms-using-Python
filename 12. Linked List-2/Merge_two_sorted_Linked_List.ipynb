{
 "cells": [
  {
   "cell_type": "code",
   "execution_count": 41,
   "metadata": {
    "collapsed": true
   },
   "outputs": [],
   "source": [
    "class Node:\n",
    "\n",
    "    def __init__(self, data):\n",
    "        self.data = data\n",
    "        self.next = None\n",
    "\n",
    "\n",
    "def take_input1():\n",
    "\n",
    "    input_ele_LL_1 = [int(element1) for element1 in input().split()]\n",
    "    head1 = None\n",
    "    tail1 = None\n",
    "\n",
    "    for curr_data1 in input_ele_LL_1:\n",
    "\n",
    "        if curr_data1 == -1:\n",
    "            return head1\n",
    "\n",
    "        node1 = Node(curr_data1)\n",
    "\n",
    "        if head1 is None:\n",
    "            head1 = node1\n",
    "            tail1 = node1\n",
    "        else:\n",
    "            tail1.next = node1\n",
    "            tail1 = node1\n",
    "\n",
    "    return head1\n",
    "\n",
    "def take_input2():\n",
    "\n",
    "    input_ele_LL_2 = [int(element2) for element2 in input().split()]\n",
    "    head2 = None\n",
    "    tail2 = None\n",
    "\n",
    "    for curr_data2 in input_ele_LL_2:\n",
    "\n",
    "        if curr_data2 == -1:\n",
    "            return head2\n",
    "        node2 = Node(curr_data2)\n",
    "\n",
    "        if head2 is None:\n",
    "            head2 = node2\n",
    "            tail2 = node2\n",
    "        else:\n",
    "            tail2.next = node2\n",
    "            tail2 = node2\n",
    "\n",
    "    return head2\n",
    "\n",
    "def Print_LL(head):\n",
    "\n",
    "    while head is not None:\n",
    "        print(str(head.data) + ' -> ',end=\"\")\n",
    "        head = head.next\n",
    "    print(\"None\")\n",
    "    return\n",
    "\n",
    "def merge_LL(head_1, head_2):\n",
    "    final_head = None\n",
    "    final_tail = None\n",
    "    another_tail = None\n",
    "    connecting_tail = None\n",
    "    if head_1 is None:\n",
    "        return head_2\n",
    "    if head_2 is None:\n",
    "        return head_1\n",
    "    if head_1.data <= head_2.data:\n",
    "        final_head = head_1\n",
    "        final_tail = head_1.next\n",
    "        connecting_tail = head_1\n",
    "        another_tail = head_2\n",
    "    if head_2.data < head_1.data:\n",
    "        final_head = head_2\n",
    "        final_tail = head_2\n",
    "        another_tail = head_1\n",
    "        connecting_tail = head_2\n",
    "    while final_tail and another_tail:\n",
    "        if another_tail.data < final_tail.data:\n",
    "            connecting_tail.next = another_tail\n",
    "            connecting_tail = another_tail\n",
    "            another_tail = another_tail.next\n",
    "        else:\n",
    "            connecting_tail.next = final_tail\n",
    "            connecting_tail = final_tail\n",
    "            final_tail = final_tail.next\n",
    "    if final_tail is None:\n",
    "        connecting_tail.next = another_tail\n",
    "    elif another_tail is None:\n",
    "        connecting_tail.next = final_tail\n",
    "\n",
    "    return final_head"
   ]
  },
  {
   "cell_type": "code",
   "execution_count": 43,
   "outputs": [
    {
     "name": "stdout",
     "output_type": "stream",
     "text": [
      "1 -> 3 -> 5 -> None\n",
      "1 -> None\n",
      "1 -> 1 -> 3 -> 5 -> None\n"
     ]
    }
   ],
   "source": [
    "LL_1 = take_input1()\n",
    "LL_2 = take_input2()\n",
    "Print_LL(LL_1)\n",
    "Print_LL(LL_2)\n",
    "x = merge_LL(LL_1, LL_2)\n",
    "Print_LL(x)"
   ],
   "metadata": {
    "collapsed": false,
    "pycharm": {
     "name": "#%%\n"
    }
   }
  },
  {
   "cell_type": "code",
   "execution_count": null,
   "outputs": [],
   "source": [],
   "metadata": {
    "collapsed": false,
    "pycharm": {
     "name": "#%%\n"
    }
   }
  }
 ],
 "metadata": {
  "kernelspec": {
   "display_name": "Python 3",
   "language": "python",
   "name": "python3"
  },
  "language_info": {
   "codemirror_mode": {
    "name": "ipython",
    "version": 2
   },
   "file_extension": ".py",
   "mimetype": "text/x-python",
   "name": "python",
   "nbconvert_exporter": "python",
   "pygments_lexer": "ipython2",
   "version": "2.7.6"
  }
 },
 "nbformat": 4,
 "nbformat_minor": 0
}