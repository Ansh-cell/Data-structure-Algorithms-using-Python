{
 "cells": [
  {
   "cell_type": "code",
   "execution_count": 1,
   "metadata": {
    "collapsed": true
   },
   "outputs": [],
   "source": [
    "class Node:\n",
    "\n",
    "    def __init__(self, data):\n",
    "        self.data = data\n",
    "        self.next = None\n",
    "\n",
    "\n",
    "def take_input():\n",
    "\n",
    "    input_data = [int(element) for element in input().split()]\n",
    "    head = None\n",
    "    tail = None\n",
    "\n",
    "    for curr_data in input_data:\n",
    "\n",
    "        if curr_data == -1:\n",
    "            return head\n",
    "\n",
    "        node = Node(curr_data)\n",
    "\n",
    "        if head is None:\n",
    "            head = node\n",
    "            tail = node\n",
    "        else:\n",
    "            tail.next = node\n",
    "            tail = node\n",
    "    return head\n",
    "\n",
    "def Print_LL(head_of_ll):\n",
    "\n",
    "    while head_of_ll is not None:\n",
    "        print(str(head_of_ll.data) + ' -> ',end='')\n",
    "        head_of_ll = head_of_ll.next\n",
    "    print('None')\n",
    "    return\n",
    "\n",
    "def delete_N_Node(M, N, Head_of_LL):\n",
    "    first_end = None\n",
    "    original_M = M\n",
    "    original_N = N\n",
    "    new_head = Head_of_LL\n",
    "    previous = None\n",
    "    while Head_of_LL is not None:\n",
    "\n",
    "        if M:\n",
    "            first_end = Head_of_LL\n",
    "            Head_of_LL = Head_of_LL.next\n",
    "            M -= 1\n",
    "        else:\n",
    "            if N:\n",
    "                previous = Head_of_LL\n",
    "                Head_of_LL = Head_of_LL.next\n",
    "                del previous\n",
    "                previous = None\n",
    "                N -= 1\n",
    "        if N == 0 or Head_of_LL is None:\n",
    "            M = original_M\n",
    "            first_end.next = Head_of_LL\n",
    "            N = original_N\n",
    "\n",
    "    return new_head"
   ]
  },
  {
   "cell_type": "code",
   "execution_count": 2,
   "outputs": [
    {
     "name": "stdout",
     "output_type": "stream",
     "text": [
      "1 -> 2 -> 3 -> 4 -> 5 -> 6 -> 7 -> 8 -> 9 -> None\n",
      "1 -> 2 -> 3 -> 6 -> 7 -> 8 -> None\n"
     ]
    }
   ],
   "source": [
    "x = take_input()\n",
    "Print_LL(x)\n",
    "y = delete_N_Node(3, 2, x)\n",
    "Print_LL(y)"
   ],
   "metadata": {
    "collapsed": false,
    "pycharm": {
     "name": "#%%\n"
    }
   }
  }
 ],
 "metadata": {
  "kernelspec": {
   "display_name": "Python 3",
   "language": "python",
   "name": "python3"
  },
  "language_info": {
   "codemirror_mode": {
    "name": "ipython",
    "version": 2
   },
   "file_extension": ".py",
   "mimetype": "text/x-python",
   "name": "python",
   "nbconvert_exporter": "python",
   "pygments_lexer": "ipython2",
   "version": "2.7.6"
  }
 },
 "nbformat": 4,
 "nbformat_minor": 0
}