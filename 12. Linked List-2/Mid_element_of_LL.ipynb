{
 "cells": [
  {
   "cell_type": "code",
   "execution_count": 17,
   "metadata": {
    "collapsed": true
   },
   "outputs": [],
   "source": [
    "# example: Linked_List = 1->2->3->4->5 --> lenght = 5 --> odd number, Mid_ele = 3, index = 2\n",
    "# example: Linked_List = 1->2->3->4 --> lenght = 4 --> Even number, Mid_ele = 2, index = 1\n",
    "\n",
    "class Node:\n",
    "\n",
    "    def __init__(self, data):\n",
    "        self.data = data\n",
    "        self.next = None\n",
    "\n",
    "\n",
    "def take_input():\n",
    "\n",
    "    input_from_under = [int(element) for element in input().split()]\n",
    "    head = None\n",
    "    tail = None\n",
    "    count = 0\n",
    "\n",
    "    for curr_data in input_from_under:\n",
    "\n",
    "        if curr_data == -1:\n",
    "            return\n",
    "        node = Node(curr_data)\n",
    "\n",
    "        if head is None:\n",
    "            head = node\n",
    "            tail = node\n",
    "            count += 1\n",
    "        else:\n",
    "            tail.next = node\n",
    "            tail = node\n",
    "            count += 1\n",
    "\n",
    "    return head, count\n",
    "\n",
    "def Print_LL(head_of_LL):\n",
    "    while head_of_LL is not None:\n",
    "        print(str(head_of_LL.data) + ' -> ' , end='')\n",
    "        head_of_LL = head_of_LL.next\n",
    "    print('None')\n",
    "    return\n",
    "\n",
    "def mid_element(head_of_LL):\n",
    "\n",
    "    slow_head = head_of_LL[0]\n",
    "    fast_head = head_of_LL[0]\n",
    "    lenght = head_of_LL[1]\n",
    "\n",
    "    mid_ele_index = (lenght - 1) / 2\n",
    "\n",
    "    if lenght % 2 == 0:\n",
    "        while fast_head.next.next is not None:\n",
    "            slow_head = slow_head.next\n",
    "            fast_head = fast_head.next.next\n",
    "        return slow_head.data\n",
    "    else:\n",
    "        while fast_head.next is not None:\n",
    "            slow_head = slow_head.next\n",
    "            fast_head = fast_head.next.next\n",
    "        return slow_head.data"
   ]
  },
  {
   "cell_type": "code",
   "execution_count": 18,
   "outputs": [
    {
     "name": "stdout",
     "output_type": "stream",
     "text": [
      "1 -> 2 -> 3 -> 4 -> 5 -> None\n",
      "3\n"
     ]
    }
   ],
   "source": [
    "head = take_input()\n",
    "Print_LL(head[0])\n",
    "mid_ele = mid_element(head)\n",
    "print(mid_ele)"
   ],
   "metadata": {
    "collapsed": false,
    "pycharm": {
     "name": "#%%\n"
    }
   }
  }
 ],
 "metadata": {
  "kernelspec": {
   "display_name": "Python 3",
   "language": "python",
   "name": "python3"
  },
  "language_info": {
   "codemirror_mode": {
    "name": "ipython",
    "version": 2
   },
   "file_extension": ".py",
   "mimetype": "text/x-python",
   "name": "python",
   "nbconvert_exporter": "python",
   "pygments_lexer": "ipython2",
   "version": "2.7.6"
  }
 },
 "nbformat": 4,
 "nbformat_minor": 0
}