{
 "cells": [
  {
   "cell_type": "code",
   "execution_count": 30,
   "metadata": {
    "collapsed": true
   },
   "outputs": [],
   "source": [
    "class Node:\n",
    "\n",
    "    def __init__(self, data):\n",
    "        self.data = data\n",
    "        self.next = None\n",
    "\n",
    "\n",
    "def take_input():\n",
    "\n",
    "    input_data = [int(element) for element in input().split()]\n",
    "    head = None\n",
    "    tail = None\n",
    "\n",
    "    for curr_data in input_data:\n",
    "\n",
    "        if curr_data == -1:\n",
    "            return head\n",
    "        node = Node(curr_data)\n",
    "\n",
    "        if head is None:\n",
    "            head = node\n",
    "            tail = node\n",
    "        else:\n",
    "            tail.next = node\n",
    "            tail = node\n",
    "    return head\n",
    "\n",
    "def Print_LL(head_of_LL):\n",
    "\n",
    "    while head_of_LL is not None:\n",
    "        print(str(head_of_LL.data) + ' -> ',end='')\n",
    "        head_of_LL = head_of_LL.next\n",
    "    print('None')\n",
    "    return\n",
    "\n",
    "def swap_two_nodes(i, j, head_of_ll):\n",
    "    prev1, curr1 = None, None\n",
    "    prev2, curr2 = None, None\n",
    "    tail = head_of_ll\n",
    "    previous = None\n",
    "    index = 0\n",
    "    head = head_of_ll\n",
    "    while head_of_ll is not None:\n",
    "        if index is i:\n",
    "            curr1 = head_of_ll\n",
    "            prev1 = previous\n",
    "        if index is j:\n",
    "            curr2 = head_of_ll\n",
    "            prev2 = previous\n",
    "\n",
    "        tail = tail.next\n",
    "        index += 1\n",
    "        previous = head_of_ll\n",
    "        head_of_ll = head_of_ll.next\n",
    "\n",
    "    if (i == 0 or j == 0) and j - i == 1:\n",
    "        curr1.next = curr2.next\n",
    "        curr2.next = curr1\n",
    "        head = curr2\n",
    "    elif i == 0 or j == 0:\n",
    "        temp = curr1.next\n",
    "        curr1.next = curr2.next\n",
    "        curr2.next = temp\n",
    "        prev2.next = curr1\n",
    "        head = curr2\n",
    "    elif j - i == 1:\n",
    "        prev1.next = curr2\n",
    "        curr1.next = None\n",
    "        temp = curr2.next\n",
    "        curr2.next = curr1\n",
    "        curr1.next = temp\n",
    "    else:\n",
    "        prev1.next = curr2\n",
    "        prev2.next = curr1\n",
    "        curr1.next = curr2.next\n",
    "        curr2.next = prev2\n",
    "    return head"
   ]
  },
  {
   "cell_type": "code",
   "execution_count": 31,
   "outputs": [
    {
     "name": "stdout",
     "output_type": "stream",
     "text": [
      "1 -> 2 -> 3 -> 4 -> 5 -> 6 -> None\n",
      "4 -> 2 -> 3 -> 1 -> 5 -> 6 -> None\n"
     ]
    }
   ],
   "source": [
    "x = take_input()\n",
    "Print_LL(x)\n",
    "y = swap_two_nodes(int(input('Enter i')), int(input('Enter j')), x)\n",
    "Print_LL(y)"
   ],
   "metadata": {
    "collapsed": false,
    "pycharm": {
     "name": "#%%\n"
    }
   }
  }
 ],
 "metadata": {
  "kernelspec": {
   "display_name": "Python 3",
   "language": "python",
   "name": "python3"
  },
  "language_info": {
   "codemirror_mode": {
    "name": "ipython",
    "version": 2
   },
   "file_extension": ".py",
   "mimetype": "text/x-python",
   "name": "python",
   "nbconvert_exporter": "python",
   "pygments_lexer": "ipython2",
   "version": "2.7.6"
  }
 },
 "nbformat": 4,
 "nbformat_minor": 0
}