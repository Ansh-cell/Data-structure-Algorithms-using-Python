{
 "cells": [
  {
   "cell_type": "markdown",
   "source": [
    "### INIT METHOD"
   ],
   "metadata": {
    "collapsed": false
   }
  },
  {
   "cell_type": "code",
   "execution_count": 1,
   "outputs": [],
   "source": [
    "# what does init does and how its helpful to us ?\n",
    "# ---> init helps us to define attribute inside a class so we dont have to\n",
    "#      define it every time we create object from class\n",
    "\n",
    "# so to achieve that we will create __init__ function so when we create object\n",
    "# from class right after that we will pass that object to our __init__ function\n",
    "# where we have already define attributes so we dont need to define separately\n",
    "class Student:\n",
    "   def __init__(self):    # one question might ask why are we not passing obj in __init__ function\n",
    "       self.name = 'Ansh' # because python has strong convention that this object we are passing is called self\n",
    "       self.rollno = 19162151009\n",
    "       self.last_name = 'Patel'\n"
   ],
   "metadata": {
    "collapsed": false,
    "pycharm": {
     "name": "#%%\n"
    }
   }
  },
  {
   "cell_type": "code",
   "execution_count": 2,
   "outputs": [
    {
     "data": {
      "text/plain": "{'name': 'Ansh', 'rollno': 19162151009, 'last_name': 'Patel'}"
     },
     "execution_count": 2,
     "metadata": {},
     "output_type": "execute_result"
    }
   ],
   "source": [
    "s4 = Student()\n",
    "s4.__dict__"
   ],
   "metadata": {
    "collapsed": false,
    "pycharm": {
     "name": "#%%\n"
    }
   }
  },
  {
   "cell_type": "code",
   "execution_count": 3,
   "outputs": [
    {
     "data": {
      "text/plain": "{'name': 'Ansh', 'rollno': 19162151009, 'last_name': 'Patel'}"
     },
     "execution_count": 3,
     "metadata": {},
     "output_type": "execute_result"
    }
   ],
   "source": [
    "s5 = Student()\n",
    "s5.__dict__"
   ],
   "metadata": {
    "collapsed": false,
    "pycharm": {
     "name": "#%%\n"
    }
   }
  },
  {
   "cell_type": "code",
   "execution_count": 4,
   "outputs": [
    {
     "data": {
      "text/plain": "({'name': 'Ansh', 'rollno': 19162151009, 'lastname': 'Patel'},\n {'name': 'Asayhem', 'rollno': 191621511, 'lastname': 'евпршпссл'})"
     },
     "execution_count": 4,
     "metadata": {},
     "output_type": "execute_result"
    }
   ],
   "source": [
    "# Now my question is what if i want to have different name, rollno, lastname\n",
    "# according to my objects then i again have to add that attributes separately ?\n",
    "\n",
    "# NO we can pass that as argument to our __init__ function\n",
    "\n",
    "class StudentBetter:\n",
    "   def __init__(self, name, rollno, last_name):\n",
    "      self.name = name\n",
    "      self.rollno = rollno\n",
    "      self.lastname = last_name\n",
    "\n",
    "\n",
    "\n",
    "stu1 = StudentBetter('Ansh', 19162151009, 'Patel')\n",
    "stu2 = StudentBetter('Asayhem', 191621511, 'евпршпссл')\n",
    "\n",
    "stu1.__dict__, stu2.__dict__\n",
    "\n"
   ],
   "metadata": {
    "collapsed": false,
    "pycharm": {
     "name": "#%%\n"
    }
   }
  }
 ],
 "metadata": {
  "kernelspec": {
   "display_name": "Python 3",
   "language": "python",
   "name": "python3"
  },
  "language_info": {
   "codemirror_mode": {
    "name": "ipython",
    "version": 2
   },
   "file_extension": ".py",
   "mimetype": "text/x-python",
   "name": "python",
   "nbconvert_exporter": "python",
   "pygments_lexer": "ipython2",
   "version": "2.7.6"
  }
 },
 "nbformat": 4,
 "nbformat_minor": 0
}