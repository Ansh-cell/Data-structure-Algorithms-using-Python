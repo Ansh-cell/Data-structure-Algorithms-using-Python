{
 "cells": [
  {
   "cell_type": "markdown",
   "source": [
    "## First lets discuss why we need object-oriented programming ?\n",
    "##### <i>1. It's a very useful way of doing programming while doing some kind of development, and it's a default way of doing programming.</i>\n",
    "##### <i>2. We want our code should be very similar to the way we communicate with others in real life</i>\n",
    "##### <i>3. So we basically talk in object-oriented way like hey Asayhem can you pass me that water-bottle.<br> So here i am telling Asayhem (which I consider an object) to pass water-bottle (object) where you need to do something about another object. </i>\n",
    "##### <i>so our code look something like this: Asayhem.pass_me(water-bottle)<br> &nbsp;&nbsp;&nbsp;&nbsp;&nbsp; so when you look at this line you know what this will do right ?<br>&nbsp;&nbsp;&nbsp;&nbsp;&nbsp; here Asayhem --> object & pass_me --> looks like a function which take an argument\n",
    "## Let's look at some words you will encounter when learning Object-oriented programming.\n",
    "##### <i>1. class: what is that ? --> It's just a template on how are my objects looks like.</i><br><i>2.object: it has some functionality which are able to do some work for us. They also have some attributes (data) like pass_me, give_me, play_with_me these are functions and water-bottle, pen, football these are data."
   ],
   "metadata": {
    "collapsed": false,
    "pycharm": {
     "name": "#%% md\n"
    }
   }
  },
  {
   "cell_type": "code",
   "execution_count": 27,
   "outputs": [],
   "source": [
    "# use always camelcase in class name:\n",
    "# --> class student: <its not wrong but many people not prefer it>\n",
    "# --> class Student: <correct way>\n",
    "# but you can't leave class empty why ?\n",
    "# --> When you end a line with the colon,\n",
    "''' you're declaring a compound statement: Python expects a block of code\n",
    " following that statement. The pass keyword is your way of\n",
    " saying that you don't want to enter the block yet.'''\n",
    "\n",
    "class Student:\n",
    "   pass # Let's python know we didn't forget the class body"
   ],
   "metadata": {
    "collapsed": false,
    "pycharm": {
     "name": "#%%\n"
    }
   }
  },
  {
   "cell_type": "code",
   "execution_count": 28,
   "outputs": [
    {
     "name": "stdout",
     "output_type": "stream",
     "text": [
      "<__main__.Student object at 0x7fc8b3db6190>\n",
      "<class '__main__.Student'>\n",
      "<class 'list'>\n"
     ]
    }
   ],
   "source": [
    "s1 = Student() # s1 = object of class Student\n",
    "s2 = Student() # s2 = object of class Student\n",
    "s3 = Student() # s3 = object of class Student\n",
    "print(s1)\n",
    "# it will also show the memory address as well\n",
    "print(type(s1))\n",
    "l = list() # l = object, list() = class\n",
    "print(type(l))"
   ],
   "metadata": {
    "collapsed": false,
    "pycharm": {
     "name": "#%%\n"
    }
   }
  }
 ],
 "metadata": {
  "kernelspec": {
   "display_name": "Python 3",
   "language": "python",
   "name": "python3"
  },
  "language_info": {
   "codemirror_mode": {
    "name": "ipython",
    "version": 2
   },
   "file_extension": ".py",
   "mimetype": "text/x-python",
   "name": "python",
   "nbconvert_exporter": "python",
   "pygments_lexer": "ipython2",
   "version": "2.7.6"
  }
 },
 "nbformat": 4,
 "nbformat_minor": 0
}