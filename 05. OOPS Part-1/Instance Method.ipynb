{
 "cells": [
  {
   "cell_type": "code",
   "execution_count": 1,
   "outputs": [
    {
     "name": "stdout",
     "output_type": "stream",
     "text": [
      "Hello my name is Ansh and my rollno is 19162151009\n"
     ]
    }
   ],
   "source": [
    "# so what is Methods ? --> it's a function we just call methods in OOPS\n",
    "# how can we create that ?\n",
    "\n",
    "class StudentBetter:\n",
    "   def __init__(self, name, rollno, last_name):\n",
    "      self.name = name\n",
    "      self.rollno = rollno\n",
    "      self.lastname = last_name\n",
    "\n",
    "   def print_student(self):\n",
    "      print(f'Hello my name is {self.name} and my rollno is {self.rollno}')\n",
    "\n",
    "\n",
    "stu1 = StudentBetter('Ansh', 19162151009, 'Patel')\n",
    "stu1.print_student()\n",
    "# what happening in above line is this:\n",
    "#       StudentBetter.print_student(stu1) : Behind the scene we are passing\n",
    "#                                           object in print_student()\n",
    "#                                           that's why we use self\n",
    "#                                           in print_student\n",
    "#                                           also to access attributes\n",
    "#                                           like name and rollno"
   ],
   "metadata": {
    "collapsed": false,
    "pycharm": {
     "name": "#%%\n"
    }
   }
  },
  {
   "cell_type": "code",
   "execution_count": 2,
   "outputs": [
    {
     "name": "stdout",
     "output_type": "stream",
     "text": [
      "Hello my name is Ansh and my rollno is 19162151009\n"
     ]
    }
   ],
   "source": [
    "StudentBetter.print_student(stu1) # No difference between the two"
   ],
   "metadata": {
    "collapsed": false,
    "pycharm": {
     "name": "#%%\n"
    }
   }
  },
  {
   "cell_type": "code",
   "execution_count": 4,
   "outputs": [],
   "source": [
    "# i have writen Instance Method because i can directly call method by using objects\n"
   ],
   "metadata": {
    "collapsed": false,
    "pycharm": {
     "name": "#%%\n"
    }
   }
  }
 ],
 "metadata": {
  "kernelspec": {
   "display_name": "Python 3",
   "language": "python",
   "name": "python3"
  },
  "language_info": {
   "codemirror_mode": {
    "name": "ipython",
    "version": 2
   },
   "file_extension": ".py",
   "mimetype": "text/x-python",
   "name": "python",
   "nbconvert_exporter": "python",
   "pygments_lexer": "ipython2",
   "version": "2.7.6"
  }
 },
 "nbformat": 4,
 "nbformat_minor": 0
}