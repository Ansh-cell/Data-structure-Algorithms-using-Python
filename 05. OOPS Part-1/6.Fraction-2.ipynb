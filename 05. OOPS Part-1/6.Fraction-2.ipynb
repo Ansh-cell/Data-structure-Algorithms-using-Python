{
 "cells": [
  {
   "cell_type": "code",
   "execution_count": 11,
   "metadata": {
    "collapsed": true
   },
   "outputs": [
    {
     "name": "stdout",
     "output_type": "stream",
     "text": [
      "10 / 5\n",
      "2\n"
     ]
    }
   ],
   "source": [
    "class Fraction:\n",
    "\n",
    "    def __init__(self, num = 0, den = 1):\n",
    "        if den == 0:\n",
    "            den = 1\n",
    "        self.num = num\n",
    "        self.den = den\n",
    "\n",
    "    def print(self):\n",
    "        if self.num == 0:\n",
    "            print(0)\n",
    "        elif self.den == 1:\n",
    "            print(self.num)\n",
    "        else:\n",
    "            print(f'{self.num} / {self.den}')\n",
    "\n",
    "    def simplify(self):\n",
    "        current = min(self.num, self.den)\n",
    "        while current > 1:\n",
    "            if self.num % current == 0 and self.den % current == 0:\n",
    "                break\n",
    "            current -= 1\n",
    "        self.num = self.num // current\n",
    "        self.den = self.den // current\n",
    "\n",
    "    def add(self, second_object):\n",
    "        newNUM = second_object.den*self.num + second_object.num*self.den\n",
    "        newDEN = second_object.den*self.den\n",
    "\n",
    "        self.num = newNUM\n",
    "        self.den = newDEN\n",
    "\n",
    "    def multiplicatio(self, second_object):\n",
    "        numer = second_object.num*self.num\n",
    "        deno = second_object.den*self.den\n",
    "        print(f'{numer} / {deno}')\n",
    "\n",
    "f = Fraction(10,5)\n",
    "f.print()\n",
    "f.simplify()\n",
    "f.print()"
   ]
  },
  {
   "cell_type": "code",
   "execution_count": 12,
   "outputs": [
    {
     "name": "stdout",
     "output_type": "stream",
     "text": [
      "2 / 3\n",
      "3 / 2\n",
      "13 / 6\n"
     ]
    }
   ],
   "source": [
    "f1 = Fraction(2,3)\n",
    "f2 = Fraction(3,2)\n",
    "f1.print()\n",
    "f2.print()\n",
    "f1.add(f2)\n",
    "f1.print()"
   ],
   "metadata": {
    "collapsed": false,
    "pycharm": {
     "name": "#%%\n"
    }
   }
  },
  {
   "cell_type": "code",
   "execution_count": 13,
   "outputs": [
    {
     "name": "stdout",
     "output_type": "stream",
     "text": [
      "2 / 2\n",
      "2 / 2\n",
      "4 / 4\n"
     ]
    }
   ],
   "source": [
    "\n",
    "f3 = Fraction(2,2)\n",
    "f4 = Fraction(2,2)\n",
    "f3.print()\n",
    "f4.print()\n",
    "f3.multiplicatio(f4)\n"
   ],
   "metadata": {
    "collapsed": false,
    "pycharm": {
     "name": "#%%\n"
    }
   }
  }
 ],
 "metadata": {
  "kernelspec": {
   "display_name": "Python 3",
   "language": "python",
   "name": "python3"
  },
  "language_info": {
   "codemirror_mode": {
    "name": "ipython",
    "version": 2
   },
   "file_extension": ".py",
   "mimetype": "text/x-python",
   "name": "python",
   "nbconvert_exporter": "python",
   "pygments_lexer": "ipython2",
   "version": "2.7.6"
  }
 },
 "nbformat": 4,
 "nbformat_minor": 0
}