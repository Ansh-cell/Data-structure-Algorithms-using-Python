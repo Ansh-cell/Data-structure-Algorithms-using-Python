{
 "cells": [
  {
   "cell_type": "code",
   "execution_count": 3,
   "metadata": {
    "collapsed": true
   },
   "outputs": [
    {
     "name": "stdout",
     "output_type": "stream",
     "text": [
      "Ansh\n",
      "Name:  Ansh\n",
      "Age:  15\n",
      "Percentage:  80\n",
      "Name:  Asayhem\n",
      "Age:  15\n",
      "Percentage:  80\n"
     ]
    }
   ],
   "source": [
    "class Student:\n",
    "\n",
    "    passingPercentage = 40\n",
    "\n",
    "    def __init__(self, name, age=15, percentage = 80):\n",
    "        self.name = name\n",
    "        self.age = age\n",
    "        self.percentage = percentage\n",
    "\n",
    "    def student_details(self):\n",
    "        print(\"Name: \", self.name)\n",
    "        print(\"Age: \", self.age)\n",
    "        print(\"Percentage: \", self.percentage)\n",
    "\n",
    "    def isPassed(self):\n",
    "        if self.percentage > Student.passingPercentage:\n",
    "            print(\"Student is passed\")\n",
    "        else:\n",
    "            print('Student is failed')\n",
    "\n",
    "    @staticmethod\n",
    "    def welcome():\n",
    "        print(\"Welcome to the school\")\n",
    "\n",
    "    @staticmethod\n",
    "    def isage(age):\n",
    "        return age>16\n",
    "\n",
    "\n",
    "\n",
    "s = Student('Ansh')\n",
    "print(s.name)\n",
    "s.student_details()\n",
    "s.name = 'Asayhem'\n",
    "s.student_details()\n",
    "\n",
    "# here you can see i can access the name variable outside the class\n",
    "# not a good habit so that's is called public access modifies\n",
    "# to make it private: only access inside the class we have to change\n",
    "# our code a little bit"
   ]
  },
  {
   "cell_type": "code",
   "execution_count": 18,
   "outputs": [
    {
     "name": "stdout",
     "output_type": "stream",
     "text": [
      "Name:  Ansh\n",
      "Age:  15\n",
      "Percentage:  80\n"
     ]
    },
    {
     "ename": "AttributeError",
     "evalue": "type object 'StudentBetter' has no attribute '__name'",
     "output_type": "error",
     "traceback": [
      "\u001B[0;31m---------------------------------------------------------------------------\u001B[0m",
      "\u001B[0;31mAttributeError\u001B[0m                            Traceback (most recent call last)",
      "\u001B[0;32m/var/folders/x2/lrf09j9528x27kg9knf4rhnm0000gp/T/ipykernel_81259/2136499879.py\u001B[0m in \u001B[0;36m<module>\u001B[0;34m\u001B[0m\n\u001B[1;32m     33\u001B[0m \u001B[0ms1\u001B[0m\u001B[0;34m.\u001B[0m\u001B[0m__name\u001B[0m \u001B[0;34m=\u001B[0m \u001B[0;34m'Asayhem'\u001B[0m \u001B[0;31m# cannot be access\u001B[0m\u001B[0;34m\u001B[0m\u001B[0;34m\u001B[0m\u001B[0m\n\u001B[1;32m     34\u001B[0m \u001B[0ms1\u001B[0m\u001B[0;34m.\u001B[0m\u001B[0mstudent_details\u001B[0m\u001B[0;34m(\u001B[0m\u001B[0;34m)\u001B[0m\u001B[0;34m\u001B[0m\u001B[0;34m\u001B[0m\u001B[0m\n\u001B[0;32m---> 35\u001B[0;31m \u001B[0mprint\u001B[0m\u001B[0;34m(\u001B[0m\u001B[0mStudentBetter\u001B[0m\u001B[0;34m.\u001B[0m\u001B[0m__name\u001B[0m\u001B[0;34m)\u001B[0m\u001B[0;34m\u001B[0m\u001B[0;34m\u001B[0m\u001B[0m\n\u001B[0m\u001B[1;32m     36\u001B[0m \u001B[0;31m# you can see we cannot get Asayhem in Name\u001B[0m\u001B[0;34m\u001B[0m\u001B[0;34m\u001B[0m\u001B[0;34m\u001B[0m\u001B[0m\n\u001B[1;32m     37\u001B[0m \u001B[0;31m# even we cannot access it\u001B[0m\u001B[0;34m\u001B[0m\u001B[0;34m\u001B[0m\u001B[0;34m\u001B[0m\u001B[0m\n",
      "\u001B[0;31mAttributeError\u001B[0m: type object 'StudentBetter' has no attribute '__name'"
     ]
    }
   ],
   "source": [
    "class StudentBetter:\n",
    "\n",
    "    passingPercentage = 40\n",
    "\n",
    "    def __init__(self, name, age=15, percentage = 80):\n",
    "        self.__name = name\n",
    "        self.age = age\n",
    "        self.percentage = percentage\n",
    "\n",
    "    def student_details(self):\n",
    "        print(\"Name: \", self.__name)\n",
    "        print(\"Age: \", self.age)\n",
    "        print(\"Percentage: \", self.percentage)\n",
    "\n",
    "    def isPassed(self):\n",
    "        if self.percentage > Student.passingPercentage:\n",
    "            print(\"Student is passed\")\n",
    "        else:\n",
    "            print('Student is failed')\n",
    "\n",
    "    @staticmethod\n",
    "    def welcome():\n",
    "        print(\"Welcome to the school\")\n",
    "\n",
    "    @staticmethod\n",
    "    def isage(age):\n",
    "        return age>16\n",
    "\n",
    "# i added '__' before variable so now it's private so cannot be access outside the class\n",
    "\n",
    "s1 = StudentBetter('Ansh')\n",
    "s1.name = 'Asayhem' # cannot be access\n",
    "s1.__name = 'Asayhem' # cannot be access\n",
    "s1.student_details()\n",
    "print(StudentBetter.__name)\n",
    "# you can see we cannot get Asayhem in Name\n",
    "# even we cannot access it"
   ],
   "metadata": {
    "collapsed": false,
    "pycharm": {
     "name": "#%%\n"
    }
   }
  },
  {
   "cell_type": "code",
   "execution_count": 19,
   "outputs": [
    {
     "name": "stdout",
     "output_type": "stream",
     "text": [
      "Name:  Asayhem\n",
      "Age:  15\n",
      "Percentage:  80\n"
     ]
    }
   ],
   "source": [
    "# Still there is a concept in Python know as Name Mangling\n",
    "# where you can still access the private variable outside the class\n",
    "\n",
    "# 'DONT USE THIS ANYWHERE IN YOUR CODE UNLESS IT'S EMERGENCY'\n",
    "\n",
    "s1._StudentBetter__name = 'Asayhem'\n",
    "s1.student_details()\n"
   ],
   "metadata": {
    "collapsed": false,
    "pycharm": {
     "name": "#%%\n"
    }
   }
  }
 ],
 "metadata": {
  "kernelspec": {
   "display_name": "Python 3",
   "language": "python",
   "name": "python3"
  },
  "language_info": {
   "codemirror_mode": {
    "name": "ipython",
    "version": 2
   },
   "file_extension": ".py",
   "mimetype": "text/x-python",
   "name": "python",
   "nbconvert_exporter": "python",
   "pygments_lexer": "ipython2",
   "version": "2.7.6"
  }
 },
 "nbformat": 4,
 "nbformat_minor": 0
}