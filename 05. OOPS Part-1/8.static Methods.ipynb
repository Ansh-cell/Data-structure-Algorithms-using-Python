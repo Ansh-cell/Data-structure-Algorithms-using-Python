{
 "cells": [
  {
   "cell_type": "code",
   "execution_count": 1,
   "metadata": {
    "collapsed": true
   },
   "outputs": [
    {
     "name": "stdout",
     "output_type": "stream",
     "text": [
      "Hello my name is Ansh and my rollno is 19162151009\n",
      "Welcome How are you ?\n"
     ]
    }
   ],
   "source": [
    "class StudentBetter:\n",
    "   def __init__(self, name, rollno, last_name):\n",
    "      self.name = name\n",
    "      self.rollno = rollno\n",
    "      self.lastname = last_name\n",
    "\n",
    "   def print_student(self):\n",
    "      print(f'Hello my name is {self.name} and my rollno is {self.rollno}')\n",
    "\n",
    "   @staticmethod # ignore the self argument means the object will not pass in welcome\n",
    "   def welcome():\n",
    "        print('Welcome How are you ?')\n",
    "\n",
    "\n",
    "\n",
    "s = StudentBetter('Ansh', 19162151009, 'Patel')\n",
    "s.print_student()\n",
    "s.welcome()"
   ]
  },
  {
   "cell_type": "code",
   "execution_count": null,
   "outputs": [],
   "source": [],
   "metadata": {
    "collapsed": false,
    "pycharm": {
     "name": "#%%\n"
    }
   }
  }
 ],
 "metadata": {
  "kernelspec": {
   "display_name": "Python 3",
   "language": "python",
   "name": "python3"
  },
  "language_info": {
   "codemirror_mode": {
    "name": "ipython",
    "version": 2
   },
   "file_extension": ".py",
   "mimetype": "text/x-python",
   "name": "python",
   "nbconvert_exporter": "python",
   "pygments_lexer": "ipython2",
   "version": "2.7.6"
  }
 },
 "nbformat": 4,
 "nbformat_minor": 0
}