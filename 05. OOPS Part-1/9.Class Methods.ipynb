{
 "cells": [
  {
   "cell_type": "code",
   "execution_count": 2,
   "metadata": {
    "collapsed": true,
    "pycharm": {
     "name": "#%%\n"
    }
   },
   "outputs": [
    {
     "name": "stdout",
     "output_type": "stream",
     "text": [
      "Name:  Ansh\n",
      "age:  15\n",
      "Percentage:  80\n"
     ]
    }
   ],
   "source": [
    "from datetime import date\n",
    "class Student:\n",
    "\n",
    "    passingPercentage = 40\n",
    "\n",
    "    def __init__(self, name, age=15, percentage=80):\n",
    "        self.name = name\n",
    "        self.age = age\n",
    "        self.percentage = percentage\n",
    "\n",
    "    def student_details(self):\n",
    "        print(\"Name: \", self.name)\n",
    "        print(\"age: \", self.age)\n",
    "        print(\"Percentage: \", self.percentage)\n",
    "\n",
    "    def isPassed(self):\n",
    "        if self.percentage > Student.passingPercentage:\n",
    "            print(\"Student is passed\")\n",
    "        else:\n",
    "            print('Student is failed')\n",
    "\n",
    "    @staticmethod\n",
    "    def welcome():\n",
    "        print(\"Welcome to the school\")\n",
    "\n",
    "    @staticmethod\n",
    "    def isage(age):\n",
    "        return age>16\n",
    "\n",
    "    @classmethod\n",
    "    def birthyear(cls, name, year, percentage):\n",
    "        return cls(name, date.today().year - year, percentage)\n",
    "\n",
    "\n",
    "s = Student('Ansh')\n",
    "s.birthyear('Ansh', 2001, 70)\n",
    "s.student_details()\n"
   ]
  }
 ],
 "metadata": {
  "kernelspec": {
   "display_name": "Python 3",
   "language": "python",
   "name": "python3"
  },
  "language_info": {
   "codemirror_mode": {
    "name": "ipython",
    "version": 2
   },
   "file_extension": ".py",
   "mimetype": "text/x-python",
   "name": "python",
   "nbconvert_exporter": "python",
   "pygments_lexer": "ipython2",
   "version": "2.7.6"
  }
 },
 "nbformat": 4,
 "nbformat_minor": 0
}