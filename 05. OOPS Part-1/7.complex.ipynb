{
 "cells": [
  {
   "cell_type": "code",
   "execution_count": 21,
   "metadata": {
    "collapsed": true,
    "pycharm": {
     "name": "#%%\n"
    }
   },
   "outputs": [
    {
     "name": "stdout",
     "output_type": "stream",
     "text": [
      "2 + 1j\n",
      "1 + 2j\n",
      "4 + 5j\n"
     ]
    }
   ],
   "source": [
    "class Complex:\n",
    "\n",
    "    def __init__(self, first_number = 0, second_number = 0):\n",
    "\n",
    "        self.first_number = first_number\n",
    "        self.second_number = second_number\n",
    "\n",
    "\n",
    "    def printy(self):\n",
    "        print(f'{self.first_number} + {self.second_number}j')\n",
    "\n",
    "\n",
    "    def simplify(self):\n",
    "        if self.second_number == 0:\n",
    "            print(self.first_number)\n",
    "        elif self.first_number == 0 and self.second_number == 0:\n",
    "            print(0)\n",
    "        else:\n",
    "            print(f'{self.second_number}j')\n",
    "\n",
    "    def add(self, second_num):\n",
    "        newreal = second_num.first_number + self.first_number\n",
    "        newcomplex = second_num.second_number + self.second_number\n",
    "\n",
    "        self.first_number = newreal\n",
    "        self.second_number = newcomplex\n",
    "\n",
    "    def multi(self, second_num):\n",
    "\n",
    "        newleft = (second_num.first_number*self.first_number - (second_num.second_number*self.second_number)*-1)\n",
    "        newright = (second_num.second_number*self.first_number + second_num.first_number*self.second_number)\n",
    "\n",
    "        self.first_number = newleft\n",
    "        self.second_number = newright\n",
    "\n",
    "c1 = Complex(2,1)\n",
    "c2 = Complex(1,2)\n",
    "c1.printy()\n",
    "c2.printy()\n",
    "c1.multi(c2)\n",
    "c1.printy()\n"
   ]
  }
 ],
 "metadata": {
  "kernelspec": {
   "display_name": "Python 3",
   "language": "python",
   "name": "python3"
  },
  "language_info": {
   "codemirror_mode": {
    "name": "ipython",
    "version": 2
   },
   "file_extension": ".py",
   "mimetype": "text/x-python",
   "name": "python",
   "nbconvert_exporter": "python",
   "pygments_lexer": "ipython2",
   "version": "2.7.6"
  }
 },
 "nbformat": 4,
 "nbformat_minor": 0
}