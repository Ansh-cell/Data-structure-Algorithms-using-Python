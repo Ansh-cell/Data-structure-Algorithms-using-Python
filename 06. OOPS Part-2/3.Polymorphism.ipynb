{
 "cells": [
  {
   "cell_type": "code",
   "execution_count": 1,
   "outputs": [
    {
     "name": "stdout",
     "output_type": "stream",
     "text": [
      "numberofgear:  4\n",
      "isconvertable:  yes\n"
     ]
    }
   ],
   "source": [
    "class Vehicle:\n",
    "\n",
    "    def __init__(self, color, maxspeed):\n",
    "        self.color = color\n",
    "        self.__maxspeed = maxspeed\n",
    "\n",
    "    def print(self):\n",
    "        print('color: ', self.color)\n",
    "        print('maxspeed: ', self.__maxspeed)\n",
    "class Car(Vehicle):\n",
    "\n",
    "    def __init__(self, color, maxspeed, numberofgear, isconvertable):\n",
    "        super().__init__(color, maxspeed)\n",
    "        self.numberofgear = numberofgear\n",
    "        self.isconvertable = isconvertable\n",
    "\n",
    "\n",
    "    def print(self): # overrides method of Vehicle print\n",
    "        print('numberofgear: ', self.numberofgear)\n",
    "        print('isconvertable: ', self.isconvertable)\n",
    "\n",
    "\n",
    "c = Car('Red', 50, 4, 'yes')\n",
    "c.print() # this will print it's own method first"
   ],
   "metadata": {
    "collapsed": false,
    "pycharm": {
     "name": "#%%\n"
    }
   }
  },
  {
   "cell_type": "code",
   "execution_count": 2,
   "outputs": [
    {
     "name": "stdout",
     "output_type": "stream",
     "text": [
      "color:  Red\n",
      "maxspeed:  50\n",
      "numberofgear:  4\n",
      "isconvertable:  yes\n"
     ]
    }
   ],
   "source": [
    "class Vehicle:\n",
    "\n",
    "    def __init__(self, color, maxspeed):\n",
    "        self.color = color\n",
    "        self.__maxspeed = maxspeed\n",
    "\n",
    "    def print(self):\n",
    "        print('color: ', self.color)\n",
    "        print('maxspeed: ', self.__maxspeed)\n",
    "class Car(Vehicle):\n",
    "\n",
    "    def __init__(self, color, maxspeed, numberofgear, isconvertable):\n",
    "        super().__init__(color, maxspeed)\n",
    "        self.numberofgear = numberofgear\n",
    "        self.isconvertable = isconvertable\n",
    "\n",
    "\n",
    "    def print(self):\n",
    "        super().print()\n",
    "        print('numberofgear: ', self.numberofgear)\n",
    "        print('isconvertable: ', self.isconvertable)\n",
    "\n",
    "\n",
    "c = Car('Red', 50, 4, 'yes')\n",
    "c.print()\n",
    "\n"
   ],
   "metadata": {
    "collapsed": false,
    "pycharm": {
     "name": "#%%\n"
    }
   }
  }
 ],
 "metadata": {
  "kernelspec": {
   "display_name": "Python 3",
   "language": "python",
   "name": "python3"
  },
  "language_info": {
   "codemirror_mode": {
    "name": "ipython",
    "version": 2
   },
   "file_extension": ".py",
   "mimetype": "text/x-python",
   "name": "python",
   "nbconvert_exporter": "python",
   "pygments_lexer": "ipython2",
   "version": "2.7.6"
  }
 },
 "nbformat": 4,
 "nbformat_minor": 0
}