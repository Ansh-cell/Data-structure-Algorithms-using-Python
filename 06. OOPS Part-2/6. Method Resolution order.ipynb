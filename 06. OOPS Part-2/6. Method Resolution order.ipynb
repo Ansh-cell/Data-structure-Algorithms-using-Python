{
 "cells": [
  {
   "cell_type": "code",
   "execution_count": 1,
   "metadata": {
    "collapsed": true
   },
   "outputs": [
    {
     "name": "stdout",
     "output_type": "stream",
     "text": [
      "Name of child:  Aaju\n",
      "[<class '__main__.Child'>, <class '__main__.Mother'>, <class '__main__.Father'>, <class 'object'>]\n"
     ]
    }
   ],
   "source": [
    "class Mother:\n",
    "\n",
    "    def __init__(self):\n",
    "        self.name = 'Aaju'\n",
    "\n",
    "    def print(self):\n",
    "\n",
    "        print(\"Print of mother is called\")\n",
    "\n",
    "class Father:\n",
    "\n",
    "    def __init__(self):\n",
    "\n",
    "        self.name = 'Ajay'\n",
    "\n",
    "    def print(self):\n",
    "\n",
    "        print(\"Print of father is called\")\n",
    "\n",
    "\n",
    "class Child(Mother, Father):\n",
    "\n",
    "    def __init__(self):\n",
    "        super().__init__()\n",
    "\n",
    "    def printchild(self):\n",
    "\n",
    "        print(\"Name of child: \", self.name)\n",
    "\n",
    "c = Child()\n",
    "c.printchild()\n",
    "print(Child.mro()) # This will show us the order in which we will go"
   ]
  },
  {
   "cell_type": "code",
   "execution_count": 3,
   "outputs": [
    {
     "name": "stdout",
     "output_type": "stream",
     "text": [
      "Name of child:  Ajay\n"
     ]
    }
   ],
   "source": [
    "class Mother:\n",
    "\n",
    "    def __init__(self):\n",
    "        self.name = 'Aaju'\n",
    "        super().__init__()\n",
    "    def print(self):\n",
    "\n",
    "        print(\"Print of mother is called\")\n",
    "\n",
    "class Father:\n",
    "\n",
    "    def __init__(self):\n",
    "\n",
    "        self.name = 'Ajay'\n",
    "\n",
    "    def print(self):\n",
    "\n",
    "        print(\"Print of father is called\")\n",
    "\n",
    "\n",
    "class Child(Mother, Father):\n",
    "\n",
    "    def __init__(self):\n",
    "        super().__init__()\n",
    "\n",
    "    def printchild(self):\n",
    "\n",
    "        print(\"Name of child: \", self.name)\n",
    "\n",
    "c = Child()\n",
    "c.printchild() # goes to mother then father then print"
   ],
   "metadata": {
    "collapsed": false,
    "pycharm": {
     "name": "#%%\n"
    }
   }
  },
  {
   "cell_type": "code",
   "execution_count": 1,
   "outputs": [
    {
     "name": "stdout",
     "output_type": "stream",
     "text": [
      "Name of child:  Ajay\n"
     ]
    }
   ],
   "source": [
    "class Mother:\n",
    "\n",
    "    def __init__(self):\n",
    "        self.name = 'Aaju'\n",
    "        super().__init__()\n",
    "    def print(self):\n",
    "\n",
    "        print(\"Print of mother is called\")\n",
    "\n",
    "class Father:\n",
    "\n",
    "    def __init__(self):\n",
    "\n",
    "        self.name = 'Ajay'\n",
    "        super().__init__()\n",
    "    def print(self):\n",
    "\n",
    "        print(\"Print of father is called\")\n",
    "\n",
    "\n",
    "class Child(Mother, Father):\n",
    "\n",
    "    def __init__(self):\n",
    "        super().__init__()\n",
    "\n",
    "    def printchild(self):\n",
    "\n",
    "        print(\"Name of child: \", self.name)\n",
    "\n",
    "c = Child()\n",
    "c.printchild() # goes to mother then father then object\n",
    "# but object doesnt have anything so father will be print"
   ],
   "metadata": {
    "collapsed": false,
    "pycharm": {
     "name": "#%%\n"
    }
   }
  }
 ],
 "metadata": {
  "kernelspec": {
   "display_name": "Python 3",
   "language": "python",
   "name": "python3"
  },
  "language_info": {
   "codemirror_mode": {
    "name": "ipython",
    "version": 2
   },
   "file_extension": ".py",
   "mimetype": "text/x-python",
   "name": "python",
   "nbconvert_exporter": "python",
   "pygments_lexer": "ipython2",
   "version": "2.7.6"
  }
 },
 "nbformat": 4,
 "nbformat_minor": 0
}