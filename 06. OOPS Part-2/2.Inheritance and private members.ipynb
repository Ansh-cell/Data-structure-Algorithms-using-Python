{
 "cells": [
  {
   "cell_type": "code",
   "execution_count": 3,
   "metadata": {
    "collapsed": true,
    "pycharm": {
     "name": "#%%\n"
    }
   },
   "outputs": [
    {
     "name": "stdout",
     "output_type": "stream",
     "text": [
      "color:  Red\n",
      "maxspeed:  50\n",
      "numberofgear:  4\n",
      "isconvertable:  yes\n"
     ]
    }
   ],
   "source": [
    "class Vehicle:\n",
    "\n",
    "    def __init__(self, color, maxspeed):\n",
    "        self.color = color\n",
    "        self.__maxspeed = maxspeed\n",
    "\n",
    "    def getmaxspeed(self):\n",
    "        return self.__maxspeed\n",
    "\n",
    "    def setmaxspeed(self, maxspeed):\n",
    "        self.__maxspeed = maxspeed\n",
    "class Car(Vehicle):\n",
    "\n",
    "    def __init__(self, color, maxspeed, numberofgear, isconvertable):\n",
    "        super().__init__(color, maxspeed)\n",
    "        self.numberofgear = numberofgear\n",
    "        self.isconvertable = isconvertable\n",
    "\n",
    "\n",
    "    def print_car(self):\n",
    "        print('color: ', self.color)\n",
    "        print('maxspeed: ', self.getmaxspeed())\n",
    "        print('numberofgear: ', self.numberofgear)\n",
    "        print('isconvertable: ', self.isconvertable)\n",
    "\n",
    "\n",
    "c = Car('Red', 50, 4, 'yes')\n",
    "c.print_car()"
   ]
  },
  {
   "cell_type": "code",
   "execution_count": 5,
   "outputs": [
    {
     "name": "stdout",
     "output_type": "stream",
     "text": [
      "color:  Red\n",
      "maxspeed:  50\n",
      "numberofgear:  4\n",
      "isconvertable:  yes\n"
     ]
    }
   ],
   "source": [
    "class Vehicle:\n",
    "\n",
    "    def __init__(self, color, maxspeed):\n",
    "        self.color = color\n",
    "        self.__maxspeed = maxspeed\n",
    "\n",
    "    def print(self):\n",
    "        print('color: ', self.color)\n",
    "        print('maxspeed: ', self.__maxspeed)\n",
    "class Car(Vehicle):\n",
    "\n",
    "    def __init__(self, color, maxspeed, numberofgear, isconvertable):\n",
    "        super().__init__(color, maxspeed)\n",
    "        self.numberofgear = numberofgear\n",
    "        self.isconvertable = isconvertable\n",
    "\n",
    "\n",
    "    def print_car(self):\n",
    "        super().print() # or self.print()\n",
    "        print('numberofgear: ', self.numberofgear)\n",
    "        print('isconvertable: ', self.isconvertable)\n",
    "\n",
    "\n",
    "c = Car('Red', 50, 4, 'yes')\n",
    "c.print_car()"
   ],
   "metadata": {
    "collapsed": false,
    "pycharm": {
     "name": "#%%\n"
    }
   }
  }
 ],
 "metadata": {
  "kernelspec": {
   "display_name": "Python 3",
   "language": "python",
   "name": "python3"
  },
  "language_info": {
   "codemirror_mode": {
    "name": "ipython",
    "version": 2
   },
   "file_extension": ".py",
   "mimetype": "text/x-python",
   "name": "python",
   "nbconvert_exporter": "python",
   "pygments_lexer": "ipython2",
   "version": "2.7.6"
  }
 },
 "nbformat": 4,
 "nbformat_minor": 0
}