{
 "cells": [
  {
   "cell_type": "code",
   "execution_count": 2,
   "metadata": {
    "collapsed": true,
    "pycharm": {
     "name": "#%%\n"
    }
   },
   "outputs": [
    {
     "name": "stdout",
     "output_type": "stream",
     "text": [
      "Name of child:  Aaju\n"
     ]
    }
   ],
   "source": [
    "class Mother:\n",
    "\n",
    "    def __init__(self):\n",
    "        self.name = 'Aaju'\n",
    "\n",
    "    def print(self):\n",
    "\n",
    "        print(\"Print of mother is called\")\n",
    "\n",
    "class Father:\n",
    "\n",
    "    def __init__(self):\n",
    "\n",
    "        self.name = 'Ajay'\n",
    "\n",
    "    def print(self):\n",
    "\n",
    "        print(\"Print of father is called\")\n",
    "\n",
    "\n",
    "class Child(Mother, Father):\n",
    "\n",
    "    def __init__(self):\n",
    "        super().__init__()\n",
    "\n",
    "    def printchild(self):\n",
    "\n",
    "        print(\"Name of child: \", self.name)\n",
    "\n",
    "c = Child()\n",
    "c.printchild()\n"
   ]
  }
 ],
 "metadata": {
  "kernelspec": {
   "display_name": "Python 3",
   "language": "python",
   "name": "python3"
  },
  "language_info": {
   "codemirror_mode": {
    "name": "ipython",
    "version": 2
   },
   "file_extension": ".py",
   "mimetype": "text/x-python",
   "name": "python",
   "nbconvert_exporter": "python",
   "pygments_lexer": "ipython2",
   "version": "2.7.6"
  }
 },
 "nbformat": 4,
 "nbformat_minor": 0
}