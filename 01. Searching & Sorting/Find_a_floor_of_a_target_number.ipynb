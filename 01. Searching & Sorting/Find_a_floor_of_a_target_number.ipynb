{
 "cells": [
  {
   "cell_type": "code",
   "execution_count": 8,
   "metadata": {
    "collapsed": true
   },
   "outputs": [],
   "source": [
    "class Floor:\n",
    "\n",
    "    def __init__(self, array, target):\n",
    "        self.array = array\n",
    "        self.target = target\n",
    "\n",
    "    def Floor_of_a_number(self):\n",
    "        start = 0\n",
    "        end = len(self.array) - 1\n",
    "\n",
    "        while start <= end:\n",
    "            mid_element = int(start + (end - start) / 2)\n",
    "            if self.target == self.array[mid_element]:\n",
    "                return self.array[mid_element]\n",
    "            elif self.target < self.array[mid_element]:\n",
    "                end = mid_element - 1\n",
    "            else:\n",
    "                start = mid_element + 1\n",
    "        if start >= len(self.array):\n",
    "            return -1\n",
    "        return self.array[start]"
   ]
  },
  {
   "cell_type": "code",
   "execution_count": 10,
   "outputs": [
    {
     "name": "stdout",
     "output_type": "stream",
     "text": [
      "86\n"
     ]
    }
   ],
   "source": [
    "arr = [1, 2, 3, 4, 5, 77, 86]\n",
    "target = 86\n",
    "f = Floor(arr, target)\n",
    "print(f.Floor_of_a_number())"
   ],
   "metadata": {
    "collapsed": false,
    "pycharm": {
     "name": "#%%\n"
    }
   }
  }
 ],
 "metadata": {
  "kernelspec": {
   "display_name": "Python 3",
   "language": "python",
   "name": "python3"
  },
  "language_info": {
   "codemirror_mode": {
    "name": "ipython",
    "version": 2
   },
   "file_extension": ".py",
   "mimetype": "text/x-python",
   "name": "python",
   "nbconvert_exporter": "python",
   "pygments_lexer": "ipython2",
   "version": "2.7.6"
  }
 },
 "nbformat": 4,
 "nbformat_minor": 0
}