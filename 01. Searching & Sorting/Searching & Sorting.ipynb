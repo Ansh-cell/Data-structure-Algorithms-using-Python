{
 "cells": [
  {
   "cell_type": "markdown",
   "metadata": {},
   "source": [
    "1. Binary Search"
   ]
  },
  {
   "cell_type": "code",
   "execution_count": 2,
   "metadata": {},
   "outputs": [
    {
     "name": "stdout",
     "output_type": "stream",
     "text": [
      "3\n"
     ]
    }
   ],
   "source": [
    "def BinarySearch(arr, x):        # argument: (arr, x) --> arr = array, x = element we need to search\n",
    "    start = 0                    # where we need to start searching\n",
    "    end = len(arr) - 1           # where we need to end searching\n",
    "    \n",
    "    while(start <= end): # start index will be <= end index if start > end that means we cross end index and we didn't find x\n",
    "        mid = (start+end) // 2   # middle element of a list/array \n",
    "        \n",
    "        if arr[mid] == x:        # if middle element == x (element we are searching) then return it's index\n",
    "            return mid\n",
    "        elif arr[mid] < x:       # if middle element is less then x then we will that element on right side of list\n",
    "            start = mid + 1      # start searching after then middle element \n",
    "        else:                    # # if middle > x then we will found our element on left side so start index will remain same\n",
    "            end = mid - 1        # our end index will be before our middle element\n",
    "    return -1                    # didnt find element return -1 (no element found)\n",
    "\n",
    "arr = [1,3,4,7,9,11,23,45]\n",
    "index = BinarySearch(arr, 7)\n",
    "print(index)"
   ]
  },
  {
   "cell_type": "markdown",
   "metadata": {},
   "source": [
    "2. Selection sort"
   ]
  },
  {
   "cell_type": "code",
   "execution_count": 3,
   "metadata": {},
   "outputs": [],
   "source": [
    "def selection_sort(arr):                         # argument: (arr) --> arr = array/list\n",
    "    lenght = len(arr)                            # find the lenght of array/list\n",
    "    for i in range(lenght-1):                    # will run loop till the end of list\n",
    "        minindex = i                             # our min-element index = i \n",
    "        for j in range(i+1,lenght):              # will start after the ith element\n",
    "            if arr[j] < arr[minindex]:           # if j element is less then ith element then we found min-element then i \n",
    "                 minindex = j                    # so our next min-element is j (then we just found)\n",
    "        arr[i], arr[minindex] = arr[minindex], arr[i]     # after the whole iteration finish we will have two things\n",
    "                              #  |                        # 1. our ith element and 2. element lesser then ith element so we will\n",
    "                              #  |--------------- swap them so at first position we will get min-element from the whole list"
   ]
  },
  {
   "cell_type": "code",
   "execution_count": 4,
   "metadata": {},
   "outputs": [
    {
     "name": "stdout",
     "output_type": "stream",
     "text": [
      "[1, 2, 2, 3, 4, 8]\n"
     ]
    }
   ],
   "source": [
    "arr = [2,4,1,2,8,3]\n",
    "selection_sort(arr)\n",
    "print(arr)"
   ]
  },
  {
   "cell_type": "markdown",
   "metadata": {},
   "source": [
    "3. Bubble_Sort"
   ]
  },
  {
   "cell_type": "code",
   "execution_count": 5,
   "metadata": {},
   "outputs": [
    {
     "name": "stdout",
     "output_type": "stream",
     "text": [
      "[1, 2, 2, 3, 4, 8]\n"
     ]
    }
   ],
   "source": [
    "def Bubble_sort(arr):  \n",
    "    \n",
    "    lenght = len(arr)\n",
    "    \n",
    "    for i in range(lenght-1):\n",
    "        for j in range(lenght-1-i):\n",
    "            if arr[j] > arr[j+1]:\n",
    "                arr[j],arr[j+1] = arr[j+1],arr[j]\n",
    "\n",
    "\n",
    "arr = [2,4,1,2,8,3]\n",
    "Bubble_sort(arr)\n",
    "print(arr)"
   ]
  },
  {
   "cell_type": "markdown",
   "metadata": {},
   "source": [
    "4. Insertion_Sort"
   ]
  },
  {
   "cell_type": "code",
   "execution_count": 6,
   "metadata": {},
   "outputs": [
    {
     "name": "stdout",
     "output_type": "stream",
     "text": [
      "[1, 2, 2, 3, 4, 8]\n"
     ]
    }
   ],
   "source": [
    "def insertionSort(arr):\n",
    "    \n",
    "    lenght = len(arr)\n",
    "    for i in range(1,lenght):\n",
    "        temp = arr[i]\n",
    "        j = i - 1\n",
    "        while(j>=0 and arr[j] > temp):\n",
    "            arr[j+1] = arr[j]\n",
    "            j = j - 1\n",
    "        arr[j+1] = temp\n",
    "            \n",
    "arr = [2,4,1,2,8,3]\n",
    "insertionSort(arr)\n",
    "print(arr)"
   ]
  }
 ],
 "metadata": {
  "kernelspec": {
   "display_name": "Python 3",
   "language": "python",
   "name": "python3"
  },
  "language_info": {
   "codemirror_mode": {
    "name": "ipython",
    "version": 3
   },
   "file_extension": ".py",
   "mimetype": "text/x-python",
   "name": "python",
   "nbconvert_exporter": "python",
   "pygments_lexer": "ipython3",
   "version": "3.8.3"
  }
 },
 "nbformat": 4,
 "nbformat_minor": 4
}
