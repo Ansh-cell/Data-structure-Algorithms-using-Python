{
 "cells": [
  {
   "cell_type": "code",
   "execution_count": 4,
   "metadata": {
    "collapsed": true
   },
   "outputs": [
    {
     "name": "stderr",
     "output_type": "stream",
     "text": [
      "<>:33: SyntaxWarning: \"is\" with a literal. Did you mean \"==\"?\n",
      "<>:37: SyntaxWarning: \"is\" with a literal. Did you mean \"==\"?\n",
      "<>:41: SyntaxWarning: \"is\" with a literal. Did you mean \"==\"?\n",
      "<>:33: SyntaxWarning: \"is\" with a literal. Did you mean \"==\"?\n",
      "<>:37: SyntaxWarning: \"is\" with a literal. Did you mean \"==\"?\n",
      "<>:41: SyntaxWarning: \"is\" with a literal. Did you mean \"==\"?\n",
      "/var/folders/x2/lrf09j9528x27kg9knf4rhnm0000gp/T/ipykernel_4283/1217863958.py:33: SyntaxWarning: \"is\" with a literal. Did you mean \"==\"?\n",
      "  elif element is ')':\n",
      "/var/folders/x2/lrf09j9528x27kg9knf4rhnm0000gp/T/ipykernel_4283/1217863958.py:37: SyntaxWarning: \"is\" with a literal. Did you mean \"==\"?\n",
      "  elif element is '}':\n",
      "/var/folders/x2/lrf09j9528x27kg9knf4rhnm0000gp/T/ipykernel_4283/1217863958.py:41: SyntaxWarning: \"is\" with a literal. Did you mean \"==\"?\n",
      "  elif element is ']':\n"
     ]
    }
   ],
   "source": [
    "class stack:\n",
    "\n",
    "    def __init__(self):\n",
    "        self.__data_or_array = []\n",
    "\n",
    "    def push(self, item):\n",
    "        return self.__data_or_array.append(item)\n",
    "\n",
    "    def pop(self):\n",
    "        if self.isEmpty():\n",
    "            return None\n",
    "        return self.__data_or_array.pop()\n",
    "\n",
    "    def isEmpty(self):\n",
    "        return self.size() == 0\n",
    "\n",
    "    def size(self):\n",
    "        return len(self.__data_or_array)\n",
    "\n",
    "    def top(self):\n",
    "        if self.isEmpty():\n",
    "            return None\n",
    "        return self.__data_or_array[len(self.__data_or_array) - 1]\n",
    "\n",
    "def string_check():\n",
    "    input_string = input(\"Enter the string: \")\n",
    "    l = []\n",
    "    for element in input_string.strip():\n",
    "\n",
    "        if element in '({[':\n",
    "            l.append(element)\n",
    "        elif element is ')':\n",
    "            if not l or l[-1] != '(':\n",
    "                return False\n",
    "            l.pop()\n",
    "        elif element is '}':\n",
    "            if not l or l[-1] != '{':\n",
    "                return False\n",
    "            l.pop()\n",
    "        elif element is ']':\n",
    "            if not l or l[-1] != '[':\n",
    "                return False\n",
    "            l.pop()\n",
    "    if not l:\n",
    "        return True\n",
    "    return False"
   ]
  },
  {
   "cell_type": "code",
   "execution_count": 6,
   "outputs": [
    {
     "name": "stdout",
     "output_type": "stream",
     "text": [
      "False\n"
     ]
    }
   ],
   "source": [
    "ans = string_check()\n",
    "print(ans)"
   ],
   "metadata": {
    "collapsed": false,
    "pycharm": {
     "name": "#%%\n"
    }
   }
  }
 ],
 "metadata": {
  "kernelspec": {
   "display_name": "Python 3",
   "language": "python",
   "name": "python3"
  },
  "language_info": {
   "codemirror_mode": {
    "name": "ipython",
    "version": 2
   },
   "file_extension": ".py",
   "mimetype": "text/x-python",
   "name": "python",
   "nbconvert_exporter": "python",
   "pygments_lexer": "ipython2",
   "version": "2.7.6"
  }
 },
 "nbformat": 4,
 "nbformat_minor": 0
}