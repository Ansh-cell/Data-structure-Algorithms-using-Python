{
 "cells": [
  {
   "cell_type": "code",
   "execution_count": 33,
   "outputs": [],
   "source": [
    "class stack:\n",
    "\n",
    "    def __init__(self):\n",
    "        self.__data_or_array = []\n",
    "\n",
    "    def push(self, item):\n",
    "        return self.__data_or_array.append(item)\n",
    "\n",
    "    def pop(self):\n",
    "        if self.isEmpty():\n",
    "            return None\n",
    "        return self.__data_or_array.pop()\n",
    "\n",
    "    def isEmpty(self):\n",
    "        return self.size() == 0\n",
    "\n",
    "    def size(self):\n",
    "        return len(self.__data_or_array)\n",
    "\n",
    "    def top(self):\n",
    "        if self.isEmpty():\n",
    "            return None\n",
    "        return self.__data_or_array[len(self.__data_or_array) - 1]\n",
    "\n",
    "\n",
    "def string_check():\n",
    "\n",
    "    s = stack()\n",
    "    input_string = str(input(\"Enter the string ti check: \"))\n",
    "    check = True\n",
    "    for element in input_string.strip():\n",
    "        if s.isEmpty() and element in [')', '}', ']']:\n",
    "            return False\n",
    "        if s.top():\n",
    "            data = s.top()\n",
    "            if data not in [')', '}', ']', '{', '[']:\n",
    "                if element == ')':\n",
    "                    s.pop()\n",
    "                    check = False\n",
    "            elif data not in [')', '(', ']', '}', '[']:\n",
    "                if element == '}':\n",
    "                    s.pop()\n",
    "                    check = False\n",
    "            elif data not in [')', '}', '(', '{', ']']:\n",
    "                if element == ']':\n",
    "                    s.pop()\n",
    "                    check = False\n",
    "        if check:\n",
    "            if element in ['(', ')', '{', '}', '[', ']']:\n",
    "                s.push(element)\n",
    "        check = True\n",
    "    if s.isEmpty():\n",
    "        return True\n",
    "    else:\n",
    "        return False"
   ],
   "metadata": {
    "collapsed": false,
    "pycharm": {
     "name": "#%%\n"
    }
   }
  },
  {
   "cell_type": "code",
   "execution_count": 39,
   "outputs": [
    {
     "name": "stdout",
     "output_type": "stream",
     "text": [
      "False\n"
     ]
    }
   ],
   "source": [
    "x = string_check()\n",
    "print(x)"
   ],
   "metadata": {
    "collapsed": false,
    "pycharm": {
     "name": "#%%\n"
    }
   }
  }
 ],
 "metadata": {
  "kernelspec": {
   "display_name": "Python 3",
   "language": "python",
   "name": "python3"
  },
  "language_info": {
   "codemirror_mode": {
    "name": "ipython",
    "version": 2
   },
   "file_extension": ".py",
   "mimetype": "text/x-python",
   "name": "python",
   "nbconvert_exporter": "python",
   "pygments_lexer": "ipython2",
   "version": "2.7.6"
  }
 },
 "nbformat": 4,
 "nbformat_minor": 0
}