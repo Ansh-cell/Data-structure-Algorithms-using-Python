{
 "cells": [
  {
   "cell_type": "code",
   "execution_count": 6,
   "metadata": {
    "collapsed": true
   },
   "outputs": [],
   "source": [
    "class Node:\n",
    "\n",
    "    def __init__(self, data):\n",
    "        self.data = data\n",
    "        self.next = None\n",
    "\n",
    "class Stack:\n",
    "\n",
    "    def __init__(self):\n",
    "        self.__head = None\n",
    "        self.__count = 0\n",
    "\n",
    "    def push(self, element):\n",
    "\n",
    "        node = Node(element)\n",
    "        node.next = self.__head\n",
    "        self.__head = node\n",
    "        self.__count += 1\n",
    "\n",
    "    def pop(self):\n",
    "\n",
    "        if self.isEmpty():\n",
    "            print(\"Hey Stack is empty\")\n",
    "            return\n",
    "        data = self.__head.data\n",
    "        self.__head = self.__head.next\n",
    "        self.__count -= 1\n",
    "        return data\n",
    "\n",
    "    def top(self):\n",
    "        if self.isEmpty():\n",
    "            print(\"Hey Stack is empty\")\n",
    "            return\n",
    "        data = self.__head.data\n",
    "        return data\n",
    "\n",
    "    def isEmpty(self):\n",
    "        return self.size() == 0\n",
    "\n",
    "    def size(self):\n",
    "        return self.__count"
   ]
  },
  {
   "cell_type": "code",
   "execution_count": 12,
   "outputs": [
    {
     "name": "stdout",
     "output_type": "stream",
     "text": [
      "13\n",
      "Hey Stack is empty\n"
     ]
    }
   ],
   "source": [
    "s = Stack()\n",
    "s.push(12)\n",
    "s.push(100)\n",
    "s.push(13)\n",
    "x = s.top()\n",
    "print(x)\n",
    "s.size()\n",
    "s.pop()\n",
    "s.size()\n",
    "s.top()\n",
    "s.pop()\n",
    "s.pop()\n",
    "s.pop()"
   ],
   "metadata": {
    "collapsed": false,
    "pycharm": {
     "name": "#%%\n"
    }
   }
  }
 ],
 "metadata": {
  "kernelspec": {
   "display_name": "Python 3",
   "language": "python",
   "name": "python3"
  },
  "language_info": {
   "codemirror_mode": {
    "name": "ipython",
    "version": 2
   },
   "file_extension": ".py",
   "mimetype": "text/x-python",
   "name": "python",
   "nbconvert_exporter": "python",
   "pygments_lexer": "ipython2",
   "version": "2.7.6"
  }
 },
 "nbformat": 4,
 "nbformat_minor": 0
}