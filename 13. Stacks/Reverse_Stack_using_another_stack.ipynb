{
 "cells": [
  {
   "cell_type": "code",
   "execution_count": 1,
   "metadata": {
    "collapsed": true,
    "pycharm": {
     "name": "#%%\n"
    }
   },
   "outputs": [
    {
     "name": "stdout",
     "output_type": "stream",
     "text": [
      "1234"
     ]
    }
   ],
   "source": [
    "class stack:\n",
    "\n",
    "    def __init__(self):\n",
    "        self.__data_or_array = []\n",
    "\n",
    "    def push(self, item):\n",
    "        return self.__data_or_array.append(item)\n",
    "\n",
    "    def pop(self):\n",
    "        if self.isEmpty():\n",
    "            return None\n",
    "        return self.__data_or_array.pop()\n",
    "\n",
    "    def isEmpty(self):\n",
    "        return self.size() == 0\n",
    "\n",
    "    def size(self):\n",
    "        return len(self.__data_or_array)\n",
    "\n",
    "    def top(self):\n",
    "        if self.isEmpty():\n",
    "            return None\n",
    "        return self.__data_or_array[len(self.__data_or_array) - 1]\n",
    "\n",
    "def reverse_stack(stack1, stack2):\n",
    "\n",
    "    if len(stack1) <= 1:\n",
    "        return\n",
    "\n",
    "    while len(stack1) != 1:\n",
    "        element = stack1.pop()\n",
    "        stack2.append(element)\n",
    "\n",
    "    last_element = stack1.pop()\n",
    "\n",
    "    while len(stack2) != 0:\n",
    "        element = stack2.pop()\n",
    "        stack1.append(element)\n",
    "\n",
    "    reverse_stack(stack1, stack2)\n",
    "    stack1.append(last_element)\n",
    "\n",
    "s1 = [int(ele) for ele in input().split()]\n",
    "s2 = []\n",
    "\n",
    "reverse_stack(s1, s2)\n",
    "\n",
    "while len(s1) != 0:\n",
    "    print(s1.pop(), end='')\n"
   ]
  }
 ],
 "metadata": {
  "kernelspec": {
   "display_name": "Python 3",
   "language": "python",
   "name": "python3"
  },
  "language_info": {
   "codemirror_mode": {
    "name": "ipython",
    "version": 2
   },
   "file_extension": ".py",
   "mimetype": "text/x-python",
   "name": "python",
   "nbconvert_exporter": "python",
   "pygments_lexer": "ipython2",
   "version": "2.7.6"
  }
 },
 "nbformat": 4,
 "nbformat_minor": 0
}