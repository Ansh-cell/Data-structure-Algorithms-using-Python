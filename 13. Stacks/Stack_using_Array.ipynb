{
 "cells": [
  {
   "cell_type": "code",
   "execution_count": 5,
   "metadata": {
    "collapsed": true,
    "pycharm": {
     "name": "#%%\n"
    }
   },
   "outputs": [],
   "source": [
    "# for user it is a stack but for us its an array\n",
    "# we will use array to implement stack\n",
    "\n",
    "class stack:\n",
    "    def __init__(self):\n",
    "        self.__data_or_Array = []\n",
    "\n",
    "    def push(self, item):\n",
    "        self.__data_or_Array.append(item)\n",
    "    def pop(self):\n",
    "        if self.isEmpty():\n",
    "            print(\"Hey stack is empty\")\n",
    "            return\n",
    "        return self.__data_or_Array.pop()\n",
    "    def top(self):\n",
    "        if self.isEmpty():\n",
    "            print(\"Hey stack is empty\")\n",
    "            return\n",
    "        return self.__data_or_Array[len(self.__data_or_Array) - 1]\n",
    "    def isEmpty(self):\n",
    "         return self.size() == 0\n",
    "    def size(self):\n",
    "        return len(self.__data_or_Array)"
   ]
  },
  {
   "cell_type": "code",
   "execution_count": 11,
   "outputs": [
    {
     "data": {
      "text/plain": "2"
     },
     "execution_count": 11,
     "metadata": {},
     "output_type": "execute_result"
    }
   ],
   "source": [
    "s = stack()\n",
    "s.push(1)\n",
    "s.push(2)\n",
    "s.push(12)\n",
    "s.top()\n",
    "s.pop()\n",
    "s.isEmpty()\n",
    "s.size()"
   ],
   "metadata": {
    "collapsed": false,
    "pycharm": {
     "name": "#%%\n"
    }
   }
  }
 ],
 "metadata": {
  "kernelspec": {
   "display_name": "Python 3",
   "language": "python",
   "name": "python3"
  },
  "language_info": {
   "codemirror_mode": {
    "name": "ipython",
    "version": 2
   },
   "file_extension": ".py",
   "mimetype": "text/x-python",
   "name": "python",
   "nbconvert_exporter": "python",
   "pygments_lexer": "ipython2",
   "version": "2.7.6"
  }
 },
 "nbformat": 4,
 "nbformat_minor": 0
}