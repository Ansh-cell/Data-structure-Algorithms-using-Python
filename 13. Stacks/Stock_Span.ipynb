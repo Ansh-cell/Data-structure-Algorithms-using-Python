{
 "cells": [
  {
   "cell_type": "code",
   "execution_count": 72,
   "metadata": {
    "collapsed": true,
    "pycharm": {
     "name": "#%%\n"
    }
   },
   "outputs": [
    {
     "name": "stdout",
     "output_type": "stream",
     "text": [
      "[1, 2, 3, 4, 1, 1, 2, 8]\n"
     ]
    }
   ],
   "source": [
    "input_element = input(\"Enter the elements: \").split(',')\n",
    "input_list = list(input_element)\n",
    "span = 1\n",
    "count = 0\n",
    "ans = []\n",
    "for x in input_list:\n",
    "    index_2 = count\n",
    "    while index_2 >= 0:\n",
    "        previous_index = index_2 - 1\n",
    "        if previous_index <= -1:\n",
    "            break\n",
    "        if int(input_list[previous_index]) >= int(x):\n",
    "            break\n",
    "        if int(input_list[previous_index]) < int(x):\n",
    "            span += 1\n",
    "        index_2 -= 1\n",
    "    count += 1\n",
    "    ans.append(span)\n",
    "    span = 1\n",
    "\n",
    "print(ans)"
   ]
  }
 ],
 "metadata": {
  "kernelspec": {
   "display_name": "Python 3",
   "language": "python",
   "name": "python3"
  },
  "language_info": {
   "codemirror_mode": {
    "name": "ipython",
    "version": 2
   },
   "file_extension": ".py",
   "mimetype": "text/x-python",
   "name": "python",
   "nbconvert_exporter": "python",
   "pygments_lexer": "ipython2",
   "version": "2.7.6"
  }
 },
 "nbformat": 4,
 "nbformat_minor": 0
}