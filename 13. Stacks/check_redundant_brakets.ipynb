{
 "cells": [
  {
   "cell_type": "code",
   "execution_count": 63,
   "metadata": {
    "collapsed": true,
    "pycharm": {
     "name": "#%%\n"
    }
   },
   "outputs": [],
   "source": [
    "class stack:\n",
    "\n",
    "    def __init__(self):\n",
    "        self.__array = []\n",
    "\n",
    "    def pop(self):\n",
    "        if self.isEmpty():\n",
    "            return None\n",
    "        return self.__array.pop()\n",
    "\n",
    "    def push(self, element):\n",
    "        return self.__array.append(element)\n",
    "\n",
    "    def top(self):\n",
    "        if self.isEmpty():\n",
    "            return None\n",
    "        return self.__array[len(self.__array) - 1]\n",
    "\n",
    "    def size(self):\n",
    "        return len(self.__array)\n",
    "\n",
    "    def isEmpty(self):\n",
    "        return self.size() == 0\n",
    "\n",
    "\n",
    "def check_redundant_brackets():\n",
    "    s = stack()\n",
    "    count = 0\n",
    "    input_element = [ele for ele in input().strip()]\n",
    "    for i in input_element:\n",
    "\n",
    "        if i in ')}]':\n",
    "            data = i\n",
    "            if len(input_element) == 1:\n",
    "                return False\n",
    "            try:\n",
    "                while s.top() not in '([{':\n",
    "                    if s.top() in '([{':\n",
    "                        break\n",
    "                    else:\n",
    "                        s.pop()\n",
    "                        count += 1\n",
    "\n",
    "                if count != 0:\n",
    "                    data2 = s.top()\n",
    "                    if data2 == '(' and data == ')':\n",
    "                        s.pop()\n",
    "                        count = 0\n",
    "                    elif data2 == '{' and data == '}':\n",
    "                        s.pop()\n",
    "                        count = 0\n",
    "                    elif data2 == '[' and data == ']':\n",
    "                        s.pop()\n",
    "                        count = 0\n",
    "                    else:\n",
    "                        return False\n",
    "                else:\n",
    "                    return False\n",
    "            except TypeError:\n",
    "                return False\n",
    "\n",
    "        else:\n",
    "            s.push(i)\n",
    "\n",
    "    if s.isEmpty():\n",
    "        return True\n",
    "    return False"
   ]
  },
  {
   "cell_type": "code",
   "execution_count": 66,
   "outputs": [
    {
     "name": "stdout",
     "output_type": "stream",
     "text": [
      "False\n"
     ]
    }
   ],
   "source": [
    "x = check_redundant_brackets()\n",
    "print(x)"
   ],
   "metadata": {
    "collapsed": false,
    "pycharm": {
     "name": "#%%\n"
    }
   }
  }
 ],
 "metadata": {
  "kernelspec": {
   "display_name": "Python 3",
   "language": "python",
   "name": "python3"
  },
  "language_info": {
   "codemirror_mode": {
    "name": "ipython",
    "version": 2
   },
   "file_extension": ".py",
   "mimetype": "text/x-python",
   "name": "python",
   "nbconvert_exporter": "python",
   "pygments_lexer": "ipython2",
   "version": "2.7.6"
  }
 },
 "nbformat": 4,
 "nbformat_minor": 0
}