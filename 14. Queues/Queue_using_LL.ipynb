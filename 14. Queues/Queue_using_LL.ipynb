{
 "cells": [
  {
   "cell_type": "code",
   "execution_count": 21,
   "metadata": {
    "collapsed": true
   },
   "outputs": [],
   "source": [
    "class Node:\n",
    "\n",
    "    def __init__(self, data):\n",
    "        self.data = data\n",
    "        self.next = None\n",
    "\n",
    "class Queue:\n",
    "\n",
    "    def __init__(self):\n",
    "        self.__head = None\n",
    "        self.__count = 0\n",
    "        self.__tail = None\n",
    "\n",
    "\n",
    "    def Enqueue(self, item):\n",
    "        node = Node(item)\n",
    "        if self.__head is None:\n",
    "            self.__head = node\n",
    "            self.__tail = node\n",
    "            self.__count += 1\n",
    "        else:\n",
    "            self.__tail.next = node\n",
    "            self.__tail = node\n",
    "            self.__count += 1\n",
    "\n",
    "    def Dequeue(self):\n",
    "        if self.IsEmpty():\n",
    "            print(\"Hey Queue is Empty\")\n",
    "            return None\n",
    "        element = self.__head.data\n",
    "        self.__head = self.__head.next\n",
    "        self.__count -= 1\n",
    "        return element\n",
    "\n",
    "    def Size(self):\n",
    "        return self.__count\n",
    "\n",
    "    def Front(self):\n",
    "        if self.IsEmpty():\n",
    "            print(\"Hey Queue is Empty\")\n",
    "            return None\n",
    "        return self.__head.data\n",
    "\n",
    "    def IsEmpty(self):\n",
    "        return self.Size() == 0"
   ]
  },
  {
   "cell_type": "code",
   "execution_count": 22,
   "outputs": [
    {
     "name": "stdout",
     "output_type": "stream",
     "text": [
      "Hey Queue is Empty\n"
     ]
    }
   ],
   "source": [
    "q = Queue()\n",
    "q.Enqueue(1)\n",
    "q.Dequeue()\n",
    "q.Size()\n",
    "q.IsEmpty()\n",
    "q.Front()"
   ],
   "metadata": {
    "collapsed": false,
    "pycharm": {
     "name": "#%%\n"
    }
   }
  }
 ],
 "metadata": {
  "kernelspec": {
   "display_name": "Python 3",
   "language": "python",
   "name": "python3"
  },
  "language_info": {
   "codemirror_mode": {
    "name": "ipython",
    "version": 2
   },
   "file_extension": ".py",
   "mimetype": "text/x-python",
   "name": "python",
   "nbconvert_exporter": "python",
   "pygments_lexer": "ipython2",
   "version": "2.7.6"
  }
 },
 "nbformat": 4,
 "nbformat_minor": 0
}