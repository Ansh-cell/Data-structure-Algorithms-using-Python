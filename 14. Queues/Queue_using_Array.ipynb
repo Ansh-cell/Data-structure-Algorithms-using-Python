{
 "cells": [
  {
   "cell_type": "code",
   "execution_count": 4,
   "metadata": {
    "collapsed": true
   },
   "outputs": [],
   "source": [
    "class Queue:\n",
    "\n",
    "    def __init__(self):\n",
    "        self.__Array = []\n",
    "\n",
    "    def Enqueue(self, data):\n",
    "        self.__Array.append(data)\n",
    "\n",
    "    def Dequeue(self):\n",
    "        if self.IsEmpty():\n",
    "            print(\"Hey Queue is Empty\")\n",
    "            return None\n",
    "        data = self.__Array.pop(self.Size() - self.Size())\n",
    "        return data\n",
    "\n",
    "    def Front(self):\n",
    "        if self.IsEmpty():\n",
    "            print(\"Hey Queue is Empty\")\n",
    "            return None\n",
    "        return self.__Array[self.Size() - (self.Size() - 1)]\n",
    "\n",
    "    def IsEmpty(self):\n",
    "        return self.Size() == 0\n",
    "\n",
    "    def Size(self):\n",
    "        return len(self.__Array)\n"
   ]
  },
  {
   "cell_type": "code",
   "execution_count": 8,
   "outputs": [
    {
     "name": "stdout",
     "output_type": "stream",
     "text": [
      "Hey Queue is Empty\n",
      "1\n",
      "2\n",
      "3\n"
     ]
    }
   ],
   "source": [
    "q = Queue()\n",
    "q.Enqueue(1)\n",
    "q.Dequeue()\n",
    "q.Size()\n",
    "q.Front()\n",
    "q.IsEmpty()\n",
    "q.Enqueue(1)\n",
    "q.Enqueue(2)\n",
    "q.Enqueue(3)\n"
   ],
   "metadata": {
    "collapsed": false,
    "pycharm": {
     "name": "#%%\n"
    }
   }
  }
 ],
 "metadata": {
  "kernelspec": {
   "display_name": "Python 3",
   "language": "python",
   "name": "python3"
  },
  "language_info": {
   "codemirror_mode": {
    "name": "ipython",
    "version": 2
   },
   "file_extension": ".py",
   "mimetype": "text/x-python",
   "name": "python",
   "nbconvert_exporter": "python",
   "pygments_lexer": "ipython2",
   "version": "2.7.6"
  }
 },
 "nbformat": 4,
 "nbformat_minor": 0
}