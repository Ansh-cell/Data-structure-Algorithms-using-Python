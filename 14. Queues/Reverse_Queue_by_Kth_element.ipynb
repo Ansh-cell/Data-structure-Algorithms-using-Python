{
 "cells": [
  {
   "cell_type": "code",
   "execution_count": 29,
   "metadata": {
    "collapsed": true
   },
   "outputs": [],
   "source": [
    "class Queue:\n",
    "\n",
    "    def __init__(self):\n",
    "        self.__Array = []\n",
    "\n",
    "    def Enqueue(self, item):\n",
    "        self.__Array.append(item)\n",
    "\n",
    "    def Dequeue(self):\n",
    "        if self.Isempty():\n",
    "            return None\n",
    "        data = self.__Array.pop(len(self.__Array) - len(self.__Array))\n",
    "        return data\n",
    "\n",
    "    def Size(self):\n",
    "        return len(self.__Array)\n",
    "\n",
    "    def Isempty(self):\n",
    "        return self.Size() == 0\n",
    "\n",
    "    def Front(self):\n",
    "        if self.Isempty():\n",
    "            return None\n",
    "        data = self.__Array[len(self.__Array) - len(self.__Array)]\n",
    "        return data\n",
    "\n",
    "\n",
    "def Reverse_Kth(object, input_kth_ele):\n",
    "    if not input_kth_ele:\n",
    "        return\n",
    "    popped_data = object.Dequeue()\n",
    "    input_kth_ele -= 1\n",
    "    Reverse_Kth(object, input_kth_ele)\n",
    "    object.Enqueue(popped_data)"
   ]
  },
  {
   "cell_type": "code",
   "execution_count": 36,
   "outputs": [
    {
     "name": "stdout",
     "output_type": "stream",
     "text": [
      "3\n",
      "2\n",
      "1\n",
      "4\n",
      "5\n"
     ]
    }
   ],
   "source": [
    "q = Queue()\n",
    "q.Enqueue(1)\n",
    "q.Enqueue(2)\n",
    "q.Enqueue(3)\n",
    "q.Enqueue(4)\n",
    "q.Enqueue(5)\n",
    "input_kth = int(input(\"Enter the kth number: \"))\n",
    "Reverse_Kth(q, input_kth)\n",
    "for i in range(q.Size() - input_kth):\n",
    "        data = q.Dequeue()\n",
    "        q.Enqueue(data)\n",
    "while not q.Isempty():\n",
    "    print(q.Dequeue())"
   ],
   "metadata": {
    "collapsed": false,
    "pycharm": {
     "name": "#%%\n"
    }
   }
  }
 ],
 "metadata": {
  "kernelspec": {
   "display_name": "Python 3",
   "language": "python",
   "name": "python3"
  },
  "language_info": {
   "codemirror_mode": {
    "name": "ipython",
    "version": 2
   },
   "file_extension": ".py",
   "mimetype": "text/x-python",
   "name": "python",
   "nbconvert_exporter": "python",
   "pygments_lexer": "ipython2",
   "version": "2.7.6"
  }
 },
 "nbformat": 4,
 "nbformat_minor": 0
}