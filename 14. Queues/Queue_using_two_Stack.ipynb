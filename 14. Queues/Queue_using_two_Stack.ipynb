{
 "cells": [
  {
   "cell_type": "code",
   "execution_count": 5,
   "metadata": {
    "collapsed": true
   },
   "outputs": [],
   "source": [
    "class Queue_using_two_stack:\n",
    "\n",
    "    def __init__(self):\n",
    "        self.__Array1 = []\n",
    "        self.__Array2 = []\n",
    "\n",
    "    def Enqueue(self, data):\n",
    "        self.__Array1.append(data)\n",
    "\n",
    "    def Dequeue(self):\n",
    "        if self.IsEmpty_of_Queue():\n",
    "            print(\"Hey Queue is Empty\")\n",
    "            return None\n",
    "        while not self.IsEmpty_of_Queue():\n",
    "            data = self.__Array1.pop()\n",
    "            self.__Array2.append(data)\n",
    "        popped_element = self.__Array2.pop()\n",
    "        while not self.IsEmpty_2():\n",
    "            data = self.__Array2.pop()\n",
    "            self.__Array1.append(data)\n",
    "        return popped_element\n",
    "\n",
    "    def Front(self):\n",
    "        if self.IsEmpty_of_Queue():\n",
    "            print(\"Hey Queue is Empty\")\n",
    "            return None\n",
    "        while not self.IsEmpty_of_Queue():\n",
    "            data = self.__Array1.pop()\n",
    "            self.__Array2.append(data)\n",
    "        front_element = self.__Array2[len(self.__Array2) - len(self.__Array2)]\n",
    "        while not self.IsEmpty_2():\n",
    "            data = self.__Array2.pop()\n",
    "            self.__Array1.append(data)\n",
    "        return front_element\n",
    "\n",
    "    def Size_of_Queue(self):\n",
    "        return len(self.__Array1)\n",
    "\n",
    "    def size_2(self):\n",
    "        return len(self.__Array2)\n",
    "\n",
    "    def IsEmpty_of_Queue(self):\n",
    "        return self.Size_of_Queue() == 0\n",
    "\n",
    "    def IsEmpty_2(self):\n",
    "        return self.size_2() == 0"
   ]
  },
  {
   "cell_type": "code",
   "execution_count": 8,
   "outputs": [
    {
     "name": "stdout",
     "output_type": "stream",
     "text": [
      "Hey Queue is Empty\n",
      "Hey Queue is Empty\n"
     ]
    },
    {
     "data": {
      "text/plain": "11"
     },
     "execution_count": 8,
     "metadata": {},
     "output_type": "execute_result"
    }
   ],
   "source": [
    "q = Queue_using_two_stack()\n",
    "q.Enqueue(1)\n",
    "q.Enqueue(2)\n",
    "q.Dequeue()\n",
    "q.Dequeue()\n",
    "q.Size_of_Queue()\n",
    "q.IsEmpty_of_Queue()\n",
    "q.Dequeue()\n",
    "q.Front()\n",
    "q.Enqueue(11)\n",
    "q.Front()\n"
   ],
   "metadata": {
    "collapsed": false,
    "pycharm": {
     "name": "#%%\n"
    }
   }
  }
 ],
 "metadata": {
  "kernelspec": {
   "display_name": "Python 3",
   "language": "python",
   "name": "python3"
  },
  "language_info": {
   "codemirror_mode": {
    "name": "ipython",
    "version": 2
   },
   "file_extension": ".py",
   "mimetype": "text/x-python",
   "name": "python",
   "nbconvert_exporter": "python",
   "pygments_lexer": "ipython2",
   "version": "2.7.6"
  }
 },
 "nbformat": 4,
 "nbformat_minor": 0
}