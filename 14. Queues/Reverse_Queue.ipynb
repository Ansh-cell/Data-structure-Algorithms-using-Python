{
 "cells": [
  {
   "cell_type": "code",
   "execution_count": 7,
   "metadata": {
    "collapsed": true
   },
   "outputs": [],
   "source": [
    "class Queue:\n",
    "\n",
    "    def __init__(self):\n",
    "        self.__Array = []\n",
    "\n",
    "    def Enqueue(self, item):\n",
    "        self.__Array.append(item)\n",
    "\n",
    "    def Dequeue(self):\n",
    "        if self.Isempty():\n",
    "            return None\n",
    "        data = self.__Array.pop(len(self.__Array) - len(self.__Array))\n",
    "        return data\n",
    "\n",
    "    def Size(self):\n",
    "        return len(self.__Array)\n",
    "\n",
    "    def Isempty(self):\n",
    "        return self.Size() == 0\n",
    "\n",
    "    def Front(self):\n",
    "        if self.Isempty():\n",
    "            return None\n",
    "        data = self.__Array[len(self.__Array) - len(self.__Array)]\n",
    "        return data\n",
    "\n",
    "def Reverse(obj):\n",
    "\n",
    "    if obj.Size() == 1:\n",
    "        return\n",
    "    x = obj.Dequeue()\n",
    "    Reverse(obj)\n",
    "    obj.Enqueue(x)\n",
    "\n"
   ]
  },
  {
   "cell_type": "code",
   "execution_count": 14,
   "outputs": [
    {
     "name": "stdout",
     "output_type": "stream",
     "text": [
      "11\n",
      "3\n",
      "2\n",
      "1\n"
     ]
    }
   ],
   "source": [
    "q = Queue()\n",
    "q.Enqueue(1)\n",
    "q.Enqueue(2)\n",
    "q.Enqueue(3)\n",
    "q.Enqueue(11)\n",
    "Reverse(q)\n",
    "\n",
    "while not q.Isempty():\n",
    "    print(q.Dequeue())"
   ],
   "metadata": {
    "collapsed": false,
    "pycharm": {
     "name": "#%%\n"
    }
   }
  }
 ],
 "metadata": {
  "kernelspec": {
   "display_name": "Python 3",
   "language": "python",
   "name": "python3"
  },
  "language_info": {
   "codemirror_mode": {
    "name": "ipython",
    "version": 2
   },
   "file_extension": ".py",
   "mimetype": "text/x-python",
   "name": "python",
   "nbconvert_exporter": "python",
   "pygments_lexer": "ipython2",
   "version": "2.7.6"
  }
 },
 "nbformat": 4,
 "nbformat_minor": 0
}