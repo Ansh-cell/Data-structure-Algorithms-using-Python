{
 "cells": [
  {
   "cell_type": "code",
   "execution_count": 12,
   "metadata": {
    "collapsed": true
   },
   "outputs": [],
   "source": [
    "class Node:\n",
    "\n",
    "    def __init__(self, data):\n",
    "        self.data = data\n",
    "        self.address_of_next_node = None\n",
    "\n",
    "\n",
    "def Take_Input():\n",
    "\n",
    "    Input = [int(element) for element in input().split()]\n",
    "\n",
    "    head = None\n",
    "    tail = None\n",
    "\n",
    "    for current_data in Input:\n",
    "\n",
    "        if current_data == -1:\n",
    "            return\n",
    "        new_Node = Node(current_data)\n",
    "\n",
    "        if head is None:\n",
    "            head = new_Node\n",
    "            tail = new_Node\n",
    "        else:\n",
    "            tail.address_of_next_node = new_Node\n",
    "            tail = new_Node\n",
    "\n",
    "    return head\n",
    "\n",
    "def Print_LL(head):\n",
    "\n",
    "    while head is not None:\n",
    "        print(str(head.data) + \" -> \",end=\"\")\n",
    "        head = head.address_of_next_node\n",
    "    print(\"None\")\n",
    "    return\n",
    "\n",
    "def Delete(head, i):\n",
    "\n",
    "    if i < 0:\n",
    "        return head\n",
    "\n",
    "    if head is None:\n",
    "        return\n",
    "\n",
    "    if i == 0:\n",
    "        new_head = head.address_of_next_node\n",
    "        del head\n",
    "        return new_head\n",
    "\n",
    "    smaller_List = Delete(head.address_of_next_node, i - 1)\n",
    "    head.address_of_next_node = smaller_List\n",
    "    return head"
   ]
  },
  {
   "cell_type": "code",
   "execution_count": 15,
   "outputs": [
    {
     "name": "stdout",
     "output_type": "stream",
     "text": [
      "1 -> 2 -> 3 -> None\n",
      "2 -> 3 -> None\n"
     ]
    }
   ],
   "source": [
    "first_head_node = Take_Input()\n",
    "Print_LL(first_head_node)\n",
    "x = Delete(first_head_node, int(input(\"Enter ith element: \")))\n",
    "Print_LL(x)"
   ],
   "metadata": {
    "collapsed": false,
    "pycharm": {
     "name": "#%%\n"
    }
   }
  }
 ],
 "metadata": {
  "kernelspec": {
   "display_name": "Python 3",
   "language": "python",
   "name": "python3"
  },
  "language_info": {
   "codemirror_mode": {
    "name": "ipython",
    "version": 2
   },
   "file_extension": ".py",
   "mimetype": "text/x-python",
   "name": "python",
   "nbconvert_exporter": "python",
   "pygments_lexer": "ipython2",
   "version": "2.7.6"
  }
 },
 "nbformat": 4,
 "nbformat_minor": 0
}