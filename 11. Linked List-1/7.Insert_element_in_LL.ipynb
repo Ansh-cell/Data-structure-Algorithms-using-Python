{
 "cells": [
  {
   "cell_type": "code",
   "execution_count": 44,
   "metadata": {
    "collapsed": true,
    "pycharm": {
     "name": "#%%\n"
    }
   },
   "outputs": [],
   "source": [
    "class Node:\n",
    "\n",
    "    def __init__(self, data):\n",
    "\n",
    "        self.data = data\n",
    "        self.address_of_next_node = None\n",
    "\n",
    "\n",
    "def Take_Input():\n",
    "\n",
    "    Input = [int(element) for element in input().split()]\n",
    "    head = None\n",
    "    tail = None\n",
    "    count = 0\n",
    "\n",
    "    for current_data in Input:\n",
    "\n",
    "        if current_data == -1:\n",
    "            break\n",
    "\n",
    "        new_Node = Node(current_data)\n",
    "\n",
    "        if head is None:\n",
    "            head = new_Node\n",
    "            tail = new_Node\n",
    "            count += 1\n",
    "        else:\n",
    "            tail.address_of_next_node = new_Node\n",
    "            tail = new_Node\n",
    "            count += 1\n",
    "\n",
    "    return head, count\n",
    "\n",
    "def Print_LL(head):\n",
    "    while head is not None:\n",
    "        print(str(head.data) + \" -> \",end=\"\")\n",
    "        head = head.address_of_next_node\n",
    "    print(\"None\")\n",
    "    return\n",
    "\n",
    "def lenght_of_LL(head):\n",
    "    return head[1]\n",
    "\n",
    "\n",
    "def Insert(head):\n",
    "    insert_node_index = int(input(\"Enter the ith position where you want to insert new node: \"))\n",
    "    insert_node_data = int(input(\"Enter the inserted node data: \"))\n",
    "\n",
    "    if insert_node_index < 0 or insert_node_index > lenght_of_LL(head):\n",
    "        return head\n",
    "    count = 0\n",
    "    previous = None\n",
    "    current = head[0]\n",
    "    while count < insert_node_index:\n",
    "        previous = current\n",
    "        current = current.address_of_next_node\n",
    "        count += 1\n",
    "    insert_node = Node(insert_node_data)\n",
    "    if previous is not None:\n",
    "        previous.address_of_next_node = insert_node\n",
    "    else:\n",
    "        head = insert_node\n",
    "    insert_node.address_of_next_node = current\n",
    "\n",
    "    return head"
   ]
  },
  {
   "cell_type": "code",
   "execution_count": 46,
   "outputs": [
    {
     "name": "stdout",
     "output_type": "stream",
     "text": [
      "1 -> 2 -> None\n",
      "11 -> 1 -> 2 -> None\n"
     ]
    }
   ],
   "source": [
    "head_of_LL = Take_Input()\n",
    "Print_LL(head_of_LL[0])\n",
    "x = Insert(head_of_LL)\n",
    "Print_LL(x)\n"
   ],
   "metadata": {
    "collapsed": false,
    "pycharm": {
     "name": "#%%\n"
    }
   }
  }
 ],
 "metadata": {
  "kernelspec": {
   "display_name": "Python 3",
   "language": "python",
   "name": "python3"
  },
  "language_info": {
   "codemirror_mode": {
    "name": "ipython",
    "version": 2
   },
   "file_extension": ".py",
   "mimetype": "text/x-python",
   "name": "python",
   "nbconvert_exporter": "python",
   "pygments_lexer": "ipython2",
   "version": "2.7.6"
  }
 },
 "nbformat": 4,
 "nbformat_minor": 0
}