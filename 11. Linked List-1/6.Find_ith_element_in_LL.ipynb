{
 "cells": [
  {
   "cell_type": "code",
   "execution_count": 33,
   "metadata": {
    "collapsed": true,
    "pycharm": {
     "name": "#%%\n"
    }
   },
   "outputs": [
    {
     "name": "stdout",
     "output_type": "stream",
     "text": [
      "Linked List: 1 -> 2 -> 3 -> 4 -> None\n",
      "Lenght of Linked List is: 4\n",
      "2th element is: 3\n"
     ]
    }
   ],
   "source": [
    "class Node:\n",
    "\n",
    "    def __init__(self, data):\n",
    "        self.data = data\n",
    "        self.address_of_next_node = None\n",
    "\n",
    "def Take_Input():\n",
    "\n",
    "    Input = [int(element) for element in input().split()]\n",
    "    head = None\n",
    "    tail = None\n",
    "    count = 0\n",
    "    for current_data in Input:\n",
    "\n",
    "        if current_data == -1:\n",
    "            break\n",
    "\n",
    "        new_Node = Node(current_data)\n",
    "\n",
    "        if head is None:\n",
    "            head = new_Node\n",
    "            tail = head\n",
    "            count += 1\n",
    "        else:\n",
    "            tail.address_of_next_node = new_Node\n",
    "            tail = new_Node\n",
    "            count += 1\n",
    "    return head, count\n",
    "\n",
    "def Print_LL(head):\n",
    "    print(\"Linked List: \",end=\"\")\n",
    "    while head is not None:\n",
    "        print(str(head.data) + \" -> \", end=\"\")\n",
    "        head = head.address_of_next_node\n",
    "    print(\"None\")\n",
    "    return\n",
    "\n",
    "def Print_Length_of_LL(head):\n",
    "    return head[1]\n",
    "\n",
    "def Print_ith_element_in_LL(head):\n",
    "    input_of_ith = int(input(\"Enter the ith element: \"))\n",
    "    if input_of_ith > (Print_Length_of_LL(head) - 1):\n",
    "        return\n",
    "    else:\n",
    "        current = head[0]\n",
    "        count = 0\n",
    "        while current is None or count < input_of_ith:\n",
    "            count += 1\n",
    "            current = current.address_of_next_node\n",
    "        print(f'{input_of_ith}th element is: {current.data}')\n",
    "\n",
    "head_of_ll = Take_Input()\n",
    "Print_LL(head_of_ll[0])\n",
    "x = Print_Length_of_LL(head_of_ll)\n",
    "print(f'Lenght of Linked List is: {x}')\n",
    "Print_ith_element_in_LL(head_of_ll)\n"
   ]
  }
 ],
 "metadata": {
  "kernelspec": {
   "display_name": "Python 3",
   "language": "python",
   "name": "python3"
  },
  "language_info": {
   "codemirror_mode": {
    "name": "ipython",
    "version": 2
   },
   "file_extension": ".py",
   "mimetype": "text/x-python",
   "name": "python",
   "nbconvert_exporter": "python",
   "pygments_lexer": "ipython2",
   "version": "2.7.6"
  }
 },
 "nbformat": 4,
 "nbformat_minor": 0
}