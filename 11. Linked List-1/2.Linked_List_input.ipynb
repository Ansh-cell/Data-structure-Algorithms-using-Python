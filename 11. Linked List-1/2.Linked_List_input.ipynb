{
 "cells": [
  {
   "cell_type": "code",
   "execution_count": null,
   "metadata": {
    "collapsed": true
   },
   "outputs": [],
   "source": [
    "class Node:\n",
    "\n",
    "    def __init__(self, data):\n",
    "\n",
    "        self.data = data\n",
    "        self.next = None\n",
    "\n",
    "def takeInput():\n",
    "\n",
    "    inputList = [int(element) for element in input().split()]\n",
    "    head = None\n",
    "    for currentData in inputList:\n",
    "        if currentData == -1:\n",
    "            break\n",
    "        newNode = Node(currentData)\n",
    "        if head is None:\n",
    "            head = newNode\n",
    "        else:\n",
    "            curr = head\n",
    "            while curr.next is not None:\n",
    "                curr = curr.next\n",
    "            curr.next = newNode\n",
    "    return head\n",
    "\n",
    "head_of_Node = takeInput()"
   ]
  }
 ],
 "metadata": {
  "kernelspec": {
   "name": "pycharm-a7c1b96d",
   "language": "python",
   "display_name": "PyCharm (Data-structure-Algorithms-using-Python)"
  },
  "language_info": {
   "codemirror_mode": {
    "name": "ipython",
    "version": 2
   },
   "file_extension": ".py",
   "mimetype": "text/x-python",
   "name": "python",
   "nbconvert_exporter": "python",
   "pygments_lexer": "ipython2",
   "version": "2.7.6"
  }
 },
 "nbformat": 4,
 "nbformat_minor": 0
}