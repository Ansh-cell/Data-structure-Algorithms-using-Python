{
 "cells": [
  {
   "cell_type": "code",
   "execution_count": 2,
   "metadata": {
    "collapsed": true,
    "pycharm": {
     "name": "#%%\n"
    }
   },
   "outputs": [
    {
     "name": "stdout",
     "output_type": "stream",
     "text": [
      "1 -> 2 -> 3 -> None\n"
     ]
    }
   ],
   "source": [
    "class Node:\n",
    "\n",
    "    def __init__(self, data):\n",
    "        # Node =  data + address of next node\n",
    "        self.data = data # data\n",
    "        self.address_of_next_node = None # address-> None by default as we dont know\n",
    "        # address of next node\n",
    "\n",
    "def print_linked_list(head):\n",
    "    while head is not None: # this loop will end at the last node because last node doesnt have address\n",
    "        print(str(head.data) + \" -> \", end=\"\")\n",
    "        head = head.address_of_next_node #\n",
    "    print(\"None\")\n",
    "    return\n",
    "\n",
    "def takeInput():\n",
    "\n",
    "    inputList = [int(element) for element in input().split()]\n",
    "    head = None\n",
    "    for currentData in inputList:\n",
    "        if currentData == -1:\n",
    "            break\n",
    "        newNode = Node(currentData)\n",
    "        if head is None:\n",
    "            head = newNode\n",
    "        else:\n",
    "            curr = head\n",
    "            while curr.address_of_next_node is not None:\n",
    "                curr = curr.address_of_next_node\n",
    "            curr.address_of_next_node = newNode\n",
    "    return head\n",
    "\n",
    "head_of_Node = takeInput() # input with space like : 1 2 3 4 5 6\n",
    "print_linked_list(head_of_Node)"
   ]
  }
 ],
 "metadata": {
  "kernelspec": {
   "display_name": "Python 3",
   "language": "python",
   "name": "python3"
  },
  "language_info": {
   "codemirror_mode": {
    "name": "ipython",
    "version": 2
   },
   "file_extension": ".py",
   "mimetype": "text/x-python",
   "name": "python",
   "nbconvert_exporter": "python",
   "pygments_lexer": "ipython2",
   "version": "2.7.6"
  }
 },
 "nbformat": 4,
 "nbformat_minor": 0
}