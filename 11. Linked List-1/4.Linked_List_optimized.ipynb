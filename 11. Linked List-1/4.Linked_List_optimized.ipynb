{
 "cells": [
  {
   "cell_type": "code",
   "execution_count": 9,
   "metadata": {
    "collapsed": true,
    "pycharm": {
     "name": "#%%\n"
    }
   },
   "outputs": [
    {
     "name": "stdout",
     "output_type": "stream",
     "text": [
      "1 -> 2 -> 3 -> 4 -> 5 -> None\n"
     ]
    }
   ],
   "source": [
    "class Node:\n",
    "\n",
    "    def __init__(self, data):\n",
    "        self.data = data\n",
    "        self.address_of_next_node = None\n",
    "\n",
    "\n",
    "def print_linked_list(head):\n",
    "    while head is not None: # this loop will end at the last node because last node doesnt have address\n",
    "        print(str(head.data) + \" -> \", end=\"\")\n",
    "        head = head.address_of_next_node #\n",
    "    print(\"None\")\n",
    "    return\n",
    "\n",
    "def take_input():\n",
    "    inputList = [int(element) for element in input().split()]\n",
    "    head = None\n",
    "    last_node = None\n",
    "    for currentData in inputList:\n",
    "\n",
    "        if currentData == -1:\n",
    "            break\n",
    "\n",
    "        newNode = Node(currentData)\n",
    "\n",
    "        if head is None:\n",
    "            head = newNode # head address of first node\n",
    "            last_node = head\n",
    "        else:\n",
    "            last_node.address_of_next_node = newNode\n",
    "            last_node = newNode\n",
    "\n",
    "    return head\n",
    "\n",
    "head_of_Node = take_input() # input with space like : 1 2 3 4 5 6\n",
    "print_linked_list(head_of_Node)\n"
   ]
  }
 ],
 "metadata": {
  "kernelspec": {
   "display_name": "Python 3",
   "language": "python",
   "name": "python3"
  },
  "language_info": {
   "codemirror_mode": {
    "name": "ipython",
    "version": 2
   },
   "file_extension": ".py",
   "mimetype": "text/x-python",
   "name": "python",
   "nbconvert_exporter": "python",
   "pygments_lexer": "ipython2",
   "version": "2.7.6"
  }
 },
 "nbformat": 4,
 "nbformat_minor": 0
}