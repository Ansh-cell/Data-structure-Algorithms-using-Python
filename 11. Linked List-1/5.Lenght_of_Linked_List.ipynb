{
 "cells": [
  {
   "cell_type": "code",
   "execution_count": 9,
   "metadata": {
    "collapsed": true,
    "pycharm": {
     "name": "#%%\n"
    }
   },
   "outputs": [
    {
     "name": "stdout",
     "output_type": "stream",
     "text": [
      "None\n",
      "0\n"
     ]
    }
   ],
   "source": [
    "class Node:\n",
    "    def __init__(self, data):\n",
    "        self.data = data\n",
    "        self.address_of_next_node = None\n",
    "\n",
    "def Take_Input():\n",
    "    Input = [int(element) for element in input().split()]\n",
    "    head = None\n",
    "    tail = None\n",
    "    count = 0\n",
    "    for current_data in Input:\n",
    "        if current_data == -1:\n",
    "            break\n",
    "        new_Node = Node(current_data)\n",
    "        if head is None:\n",
    "            head = new_Node\n",
    "            tail = head\n",
    "            count += 1\n",
    "        else:\n",
    "            tail.address_of_next_node = new_Node\n",
    "            tail = new_Node\n",
    "            count += 1\n",
    "\n",
    "    return head, count\n",
    "\n",
    "def Print_Linked_List(head):\n",
    "\n",
    "    while head is not None:\n",
    "        print(str(head.data) + \" -> \", end=\"\")\n",
    "        head = head.address_of_next_node\n",
    "    print(\"None\")\n",
    "    return\n",
    "\n",
    "def Print_Lenght_of_LL(head):\n",
    "    print(head[1])\n",
    "head = Take_Input()\n",
    "Print_Linked_List(head[0])\n",
    "Print_Lenght_of_LL(head)"
   ]
  }
 ],
 "metadata": {
  "kernelspec": {
   "display_name": "Python 3",
   "language": "python",
   "name": "python3"
  },
  "language_info": {
   "codemirror_mode": {
    "name": "ipython",
    "version": 2
   },
   "file_extension": ".py",
   "mimetype": "text/x-python",
   "name": "python",
   "nbconvert_exporter": "python",
   "pygments_lexer": "ipython2",
   "version": "2.7.6"
  }
 },
 "nbformat": 4,
 "nbformat_minor": 0
}