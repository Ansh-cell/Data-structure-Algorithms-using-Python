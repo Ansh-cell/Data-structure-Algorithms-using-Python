{
 "cells": [
  {
   "cell_type": "code",
   "execution_count": 3,
   "metadata": {
    "collapsed": true
   },
   "outputs": [],
   "source": [
    "class Node:\n",
    "\n",
    "    def __init__(self, data):\n",
    "        self.data = data\n",
    "        self.next = None\n",
    "\n",
    "\n",
    "def take_input():\n",
    "\n",
    "    Input = [int(element) for element in input().split()]\n",
    "    tail = None\n",
    "    head = None\n",
    "\n",
    "    for current_data in Input:\n",
    "\n",
    "        if current_data == -1:\n",
    "            return\n",
    "\n",
    "        new_Node = Node(current_data)\n",
    "\n",
    "        if head is None:\n",
    "            head = new_Node\n",
    "            tail = new_Node\n",
    "        else:\n",
    "            tail.next = new_Node\n",
    "            tail = new_Node\n",
    "    return head\n",
    "\n",
    "def Print_LL(head):\n",
    "\n",
    "    while head is not None:\n",
    "        print(str(head.data) + \" -> \",end=\"\")\n",
    "        head = head.next\n",
    "    print(\"None\")\n",
    "    return\n",
    "\n",
    "def reverse(head):\n",
    "\n",
    "    if head is None or head.next is None:\n",
    "        return head\n",
    "    smallerhead = reverse(head.next)\n",
    "    curr = smallerhead\n",
    "    while curr.next is not None:\n",
    "        curr = curr.next\n",
    "    curr.next = head\n",
    "    head.next = None\n",
    "    return smallerhead"
   ]
  },
  {
   "cell_type": "code",
   "execution_count": 5,
   "outputs": [
    {
     "name": "stdout",
     "output_type": "stream",
     "text": [
      "None\n",
      "None\n"
     ]
    }
   ],
   "source": [
    "head = take_input()\n",
    "Print_LL(head)\n",
    "head = reverse(head)\n",
    "Print_LL(head)"
   ],
   "metadata": {
    "collapsed": false,
    "pycharm": {
     "name": "#%%\n"
    }
   }
  }
 ],
 "metadata": {
  "kernelspec": {
   "display_name": "Python 3",
   "language": "python",
   "name": "python3"
  },
  "language_info": {
   "codemirror_mode": {
    "name": "ipython",
    "version": 2
   },
   "file_extension": ".py",
   "mimetype": "text/x-python",
   "name": "python",
   "nbconvert_exporter": "python",
   "pygments_lexer": "ipython2",
   "version": "2.7.6"
  }
 },
 "nbformat": 4,
 "nbformat_minor": 0
}