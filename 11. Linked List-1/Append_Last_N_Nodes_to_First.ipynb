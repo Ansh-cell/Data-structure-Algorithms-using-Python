{
 "cells": [
  {
   "cell_type": "code",
   "execution_count": 87,
   "metadata": {
    "collapsed": true,
    "pycharm": {
     "name": "#%%\n"
    }
   },
   "outputs": [],
   "source": [
    "class Node:\n",
    "\n",
    "    def __init__(self, data):\n",
    "        self.data = data\n",
    "        self.address_of_next_node = None\n",
    "\n",
    "def take_input():\n",
    "\n",
    "    Input = [int(element) for element in input().split()]\n",
    "\n",
    "    head = None\n",
    "    tail = None\n",
    "    count = 0\n",
    "    for current_data in Input:\n",
    "\n",
    "        if current_data == -1:\n",
    "            return head\n",
    "\n",
    "        new_Node = Node(current_data)\n",
    "        if head is None:\n",
    "            head = new_Node\n",
    "            tail = new_Node\n",
    "            count += 1\n",
    "        else:\n",
    "            tail.address_of_next_node = new_Node\n",
    "            tail = new_Node\n",
    "            count += 1\n",
    "    return head, count\n",
    "\n",
    "def Print_LL(head):\n",
    "    while head is not None:\n",
    "        print(str(head.data) + \" -> \",end=\"\")\n",
    "        head = head.address_of_next_node\n",
    "    print(\"None\")\n",
    "    return\n",
    "\n",
    "def Append_Nth_Nodes_First(head, n):\n",
    "    Universal_head = head[0]\n",
    "    original = head[0]\n",
    "    nth_head = 0\n",
    "    if head[1] - n == 1:\n",
    "        nth_head = Universal_head\n",
    "        loop = 0\n",
    "    else:\n",
    "        loop = (head[1] - n) - 1\n",
    "    for count in range(loop):\n",
    "        nth_head = Universal_head.address_of_next_node\n",
    "        Universal_head = nth_head\n",
    "    second_head = nth_head.address_of_next_node\n",
    "    second_tail = nth_head.address_of_next_node\n",
    "    nth_head.address_of_next_node = None\n",
    "    while second_tail is not None:\n",
    "        if second_tail.address_of_next_node is None:\n",
    "            second_tail.address_of_next_node = original\n",
    "            break\n",
    "        second_tail = second_tail.address_of_next_node\n",
    "    return second_head"
   ]
  },
  {
   "cell_type": "code",
   "execution_count": 88,
   "outputs": [
    {
     "name": "stdout",
     "output_type": "stream",
     "text": [
      "1 -> 2 -> 3 -> 4 -> None\n",
      "1\n",
      "2 -> 3 -> 4 -> 1 -> None\n"
     ]
    }
   ],
   "source": [
    "heady = take_input()\n",
    "Print_LL(heady[0])\n",
    "x = Append_Nth_Nodes_First(heady, int(input(\"Enter Nth Node: \")))\n",
    "Print_LL(x)\n"
   ],
   "metadata": {
    "collapsed": false,
    "pycharm": {
     "name": "#%%\n"
    }
   }
  }
 ],
 "metadata": {
  "kernelspec": {
   "display_name": "Python 3",
   "language": "python",
   "name": "python3"
  },
  "language_info": {
   "codemirror_mode": {
    "name": "ipython",
    "version": 2
   },
   "file_extension": ".py",
   "mimetype": "text/x-python",
   "name": "python",
   "nbconvert_exporter": "python",
   "pygments_lexer": "ipython2",
   "version": "2.7.6"
  }
 },
 "nbformat": 4,
 "nbformat_minor": 0
}