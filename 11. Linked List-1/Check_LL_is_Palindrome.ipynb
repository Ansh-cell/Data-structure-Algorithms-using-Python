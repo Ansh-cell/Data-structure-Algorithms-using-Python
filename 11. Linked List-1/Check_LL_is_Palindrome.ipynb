{
 "cells": [
  {
   "cell_type": "code",
   "execution_count": 6,
   "metadata": {
    "collapsed": true
   },
   "outputs": [],
   "source": [
    "import math\n",
    "class Node:\n",
    "\n",
    "    def __init__(self, data):\n",
    "        self.data = data\n",
    "        self.address_of_next_node = None\n",
    "\n",
    "def take_input():\n",
    "\n",
    "    Input = [int(element) for element in input().split()]\n",
    "    head = None\n",
    "    tail = None\n",
    "    count = 0\n",
    "    for current_data in Input:\n",
    "        if current_data == -1:\n",
    "            return\n",
    "        new_Node = Node(current_data)\n",
    "        if head is None:\n",
    "            head = new_Node\n",
    "            tail = new_Node\n",
    "            count += 1\n",
    "        else:\n",
    "            tail.address_of_next_node = new_Node\n",
    "            tail = new_Node\n",
    "            count += 1\n",
    "    return head, count\n",
    "\n",
    "def Print_LL(head):\n",
    "    while head is not None:\n",
    "        print(str(head.data) + \" -> \",end=\"\")\n",
    "        head = head.address_of_next_node\n",
    "    print(\"None\")\n",
    "    return\n",
    "\n",
    "def reverse_LL(head):\n",
    "    previous = None\n",
    "    while head:\n",
    "        temp = head\n",
    "        if head.address_of_next_node is None:\n",
    "            temp.address_of_next_node = previous\n",
    "            break\n",
    "        head = head.address_of_next_node\n",
    "        temp.address_of_next_node = previous\n",
    "        previous = temp\n",
    "    return head\n",
    "\n",
    "def check_LL_for_Palindrome(head, lenght):\n",
    "    head_1 = None\n",
    "    head_2 = None\n",
    "    if lenght % 2 == 0:\n",
    "        breaking = lenght / 2\n",
    "        loop_end = int(breaking - 1)\n",
    "    else:\n",
    "        breaking = lenght / 2\n",
    "        loop_end = int(math.ceil(breaking) - 1)\n",
    "\n",
    "    if loop_end == 0:\n",
    "        head_1 = head\n",
    "        head_2 = head.address_of_next_node\n",
    "        head_1.address_of_next_node = None\n",
    "        head_2.address_of_next_node = None\n",
    "        if head_1.data is head_2.data:\n",
    "            return True\n",
    "        else:\n",
    "            return False\n",
    "    else:\n",
    "        head_1 = head\n",
    "        tail = head\n",
    "        for i in range(loop_end):\n",
    "            tail = head.address_of_next_node\n",
    "            head_2 = tail.address_of_next_node\n",
    "            tail.address_of_next_node = None\n",
    "\n",
    "        reversing = reverse_LL(head_2)\n",
    "        while reversing is not None:\n",
    "            if head_1.data is not reversing.data:\n",
    "                return False\n",
    "            reversing = reversing.address_of_next_node\n",
    "            head_1 = head_1.address_of_next_node\n",
    "        return True\n",
    "\n"
   ]
  },
  {
   "cell_type": "code",
   "execution_count": 13,
   "outputs": [
    {
     "name": "stdout",
     "output_type": "stream",
     "text": [
      "1 -> 1 -> 2 -> 1 -> 1 -> None\n"
     ]
    },
    {
     "data": {
      "text/plain": "True"
     },
     "execution_count": 13,
     "metadata": {},
     "output_type": "execute_result"
    }
   ],
   "source": [
    "heady = take_input()\n",
    "Print_LL(heady[0])\n",
    "check_LL_for_Palindrome(head=heady[0], lenght=heady[1])"
   ],
   "metadata": {
    "collapsed": false,
    "pycharm": {
     "name": "#%%\n"
    }
   }
  }
 ],
 "metadata": {
  "kernelspec": {
   "name": "pycharm-a7c1b96d",
   "language": "python",
   "display_name": "PyCharm (Data-structure-Algorithms-using-Python)"
  },
  "language_info": {
   "codemirror_mode": {
    "name": "ipython",
    "version": 2
   },
   "file_extension": ".py",
   "mimetype": "text/x-python",
   "name": "python",
   "nbconvert_exporter": "python",
   "pygments_lexer": "ipython2",
   "version": "2.7.6"
  }
 },
 "nbformat": 4,
 "nbformat_minor": 0
}