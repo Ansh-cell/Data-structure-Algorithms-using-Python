{
 "cells": [
  {
   "cell_type": "code",
   "execution_count": 6,
   "metadata": {
    "collapsed": true
   },
   "outputs": [],
   "source": [
    "class Node:\n",
    "\n",
    "    def __init__(self, data):\n",
    "        self.data = data\n",
    "        self.next = None\n",
    "\n",
    "\n",
    "def take_input():\n",
    "\n",
    "    Input = [int(element) for element in input().split()] \n",
    "    tail = None\n",
    "    head = None\n",
    "\n",
    "    for current_data in Input:\n",
    "\n",
    "        if current_data == -1:\n",
    "            return\n",
    "\n",
    "        new_Node = Node(current_data)\n",
    "\n",
    "        if head is None:\n",
    "            head = new_Node\n",
    "            tail = new_Node\n",
    "        else:\n",
    "            tail.next = new_Node\n",
    "            tail = new_Node\n",
    "    return head\n",
    "\n",
    "def Print_LL(head):\n",
    "\n",
    "    while head is not None:\n",
    "        print(str(head.data) + \" -> \",end=\"\")\n",
    "        head = head.next\n",
    "    print(\"None\")\n",
    "    return\n",
    "\n",
    "\n",
    "def reverse_LL(head):\n",
    "    previous = None\n",
    "    while head:\n",
    "        temp = head\n",
    "        if head.next is None:\n",
    "            temp.next = previous\n",
    "            break\n",
    "        head = head.next\n",
    "        temp.next = previous\n",
    "        previous = temp\n",
    "    return head"
   ]
  },
  {
   "cell_type": "code",
   "execution_count": 7,
   "outputs": [
    {
     "name": "stdout",
     "output_type": "stream",
     "text": [
      "1 -> 2 -> 3 -> 4 -> 5 -> 6 -> 7 -> None\n",
      "7 -> 6 -> 5 -> 4 -> 3 -> 2 -> 1 -> None\n"
     ]
    }
   ],
   "source": [
    "heady = take_input()\n",
    "Print_LL(heady)\n",
    "x = reverse_LL(heady)\n",
    "Print_LL(x)"
   ],
   "metadata": {
    "collapsed": false,
    "pycharm": {
     "name": "#%%\n"
    }
   }
  }
 ],
 "metadata": {
  "kernelspec": {
   "name": "pycharm-a7c1b96d",
   "language": "python",
   "display_name": "PyCharm (Data-structure-Algorithms-using-Python)"
  },
  "language_info": {
   "codemirror_mode": {
    "name": "ipython",
    "version": 2
   },
   "file_extension": ".py",
   "mimetype": "text/x-python",
   "name": "python",
   "nbconvert_exporter": "python",
   "pygments_lexer": "ipython2",
   "version": "2.7.6"
  }
 },
 "nbformat": 4,
 "nbformat_minor": 0
}