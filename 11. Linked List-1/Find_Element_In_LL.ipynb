{
 "cells": [
  {
   "cell_type": "code",
   "execution_count": 12,
   "metadata": {
    "collapsed": true
   },
   "outputs": [],
   "source": [
    "class Node:\n",
    "\n",
    "    def __init__(self, data):\n",
    "        self.data = data\n",
    "        self.address_of_next_node = None\n",
    "\n",
    "def take_input():\n",
    "\n",
    "    Input = [int(element) for element in input().split()]\n",
    "    head = None\n",
    "    tail = None\n",
    "    for current_data in Input:\n",
    "        if current_data == -1:\n",
    "            return\n",
    "        new_Node = Node(current_data)\n",
    "        if head is None:\n",
    "            head = new_Node\n",
    "            tail = new_Node\n",
    "        else:\n",
    "            tail.address_of_next_node = new_Node\n",
    "            tail = new_Node\n",
    "    return head\n",
    "\n",
    "def Find_element(head, datay):\n",
    "    count = 0\n",
    "    while head is not None:\n",
    "        if head.data == datay:\n",
    "            return count\n",
    "        head = head.address_of_next_node\n",
    "        count += 1\n",
    "    return -1\n",
    "\n",
    "def Print_LL(head):\n",
    "    while head is not None:\n",
    "        print(str(head.data) + \" -> \",end=\"\")\n",
    "        head = head.address_of_next_node\n",
    "    print(\"None\")\n",
    "    return"
   ]
  },
  {
   "cell_type": "code",
   "execution_count": 16,
   "outputs": [
    {
     "name": "stdout",
     "output_type": "stream",
     "text": [
      "1 -> 2 -> 3 -> None\n",
      "2\n"
     ]
    }
   ],
   "source": [
    "first_node = take_input()\n",
    "Print_LL(first_node)\n",
    "X = Find_element(first_node, int(input(\"Enter data: \")))\n",
    "print(X)"
   ],
   "metadata": {
    "collapsed": false,
    "pycharm": {
     "name": "#%%\n"
    }
   }
  }
 ],
 "metadata": {
  "kernelspec": {
   "display_name": "Python 3",
   "language": "python",
   "name": "python3"
  },
  "language_info": {
   "codemirror_mode": {
    "name": "ipython",
    "version": 2
   },
   "file_extension": ".py",
   "mimetype": "text/x-python",
   "name": "python",
   "nbconvert_exporter": "python",
   "pygments_lexer": "ipython2",
   "version": "2.7.6"
  }
 },
 "nbformat": 4,
 "nbformat_minor": 0
}