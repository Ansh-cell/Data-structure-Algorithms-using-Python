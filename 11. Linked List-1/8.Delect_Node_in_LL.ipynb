{
 "cells": [
  {
   "cell_type": "code",
   "execution_count": 1,
   "metadata": {
    "collapsed": true
   },
   "outputs": [],
   "source": [
    "class Node:\n",
    "\n",
    "    def __init__(self, data):\n",
    "        self.data = data\n",
    "        self.address_of_next_node = None\n",
    "\n",
    "def Take_Input():\n",
    "\n",
    "    Input = [int(element) for element in input().split()]\n",
    "    head = None\n",
    "    tail = None\n",
    "    count = 0\n",
    "\n",
    "    for current_data in Input:\n",
    "\n",
    "        if current_data == -1:\n",
    "            break\n",
    "\n",
    "        new_Node = Node(current_data)\n",
    "\n",
    "        if head is None:\n",
    "            head = new_Node\n",
    "            tail = new_Node\n",
    "            count += 1\n",
    "        else:\n",
    "            tail.address_of_next_node = new_Node\n",
    "            tail = new_Node\n",
    "            count += 1\n",
    "    return head, count\n",
    "\n",
    "def Length_of_LL(head_of_first_node):\n",
    "    return head_of_first_node[1]\n",
    "\n",
    "def Print_LL(head):\n",
    "    while head is not None:\n",
    "        print(str(head.data) + \" -> \",end=\"\")\n",
    "        head = head.address_of_next_node\n",
    "    print(\"None\")\n",
    "    return\n",
    "\n",
    "def Delete_Node(head_node):\n",
    "    delete_node_index = int(input(\"Enter the ith position where you want to delete node: \"))\n",
    "\n",
    "    if delete_node_index == 0:\n",
    "        head_node = head_node.address_of_next_node\n",
    "        return head_node\n",
    "    else:\n",
    "        count = 0\n",
    "        previous = None\n",
    "        current = head_node\n",
    "        while count < delete_node_index:\n",
    "            previous = current\n",
    "            count += 1\n",
    "            current = current.address_of_next_node\n",
    "        after_current = current.address_of_next_node\n",
    "        previous.address_of_next_node = after_current\n",
    "        del current\n",
    "        return head_node"
   ]
  },
  {
   "cell_type": "code",
   "execution_count": 4,
   "outputs": [
    {
     "name": "stdout",
     "output_type": "stream",
     "text": [
      "1 -> 2 -> 3 -> None\n",
      "2 -> 3 -> None\n"
     ]
    }
   ],
   "source": [
    "first_node = Take_Input()\n",
    "Print_LL(first_node[0])\n",
    "x = Delete_Node(first_node[0])\n",
    "Print_LL(x)\n",
    "\n"
   ],
   "metadata": {
    "collapsed": false,
    "pycharm": {
     "name": "#%%\n"
    }
   }
  }
 ],
 "metadata": {
  "kernelspec": {
   "display_name": "Python 3",
   "language": "python",
   "name": "python3"
  },
  "language_info": {
   "codemirror_mode": {
    "name": "ipython",
    "version": 2
   },
   "file_extension": ".py",
   "mimetype": "text/x-python",
   "name": "python",
   "nbconvert_exporter": "python",
   "pygments_lexer": "ipython2",
   "version": "2.7.6"
  }
 },
 "nbformat": 4,
 "nbformat_minor": 0
}