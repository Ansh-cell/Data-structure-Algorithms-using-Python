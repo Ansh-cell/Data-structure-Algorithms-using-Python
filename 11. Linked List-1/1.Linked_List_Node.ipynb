{
 "cells": [
  {
   "cell_type": "code",
   "execution_count": 2,
   "metadata": {
    "collapsed": true
   },
   "outputs": [
    {
     "name": "stdout",
     "output_type": "stream",
     "text": [
      "<__main__.Node object at 0x7fe7265889a0>\n",
      "10\n"
     ]
    }
   ],
   "source": [
    "class Node:\n",
    "\n",
    "    def __init__(self, data):\n",
    "        self.data = data\n",
    "        self.next = None\n",
    "\n",
    "\n",
    "a = Node(10)\n",
    "print(a) # address of a\n",
    "print(a.data)"
   ]
  },
  {
   "cell_type": "code",
   "execution_count": 8,
   "outputs": [
    {
     "name": "stdout",
     "output_type": "stream",
     "text": [
      "10\n",
      "<__main__.Node object at 0x7fe7265889a0>\n",
      "<__main__.Node object at 0x7fe727d21760>\n",
      "<__main__.Node object at 0x7fe727d21760>\n",
      "13\n"
     ]
    }
   ],
   "source": [
    "b = Node(13)\n",
    "a.next = b\n",
    "print(a.data)\n",
    "print(a)\n",
    "print(a.next) # address of second Node\n",
    "print(b) # address f that second node\n",
    "print(a.next.data)"
   ],
   "metadata": {
    "collapsed": false,
    "pycharm": {
     "name": "#%%\n"
    }
   }
  }
 ],
 "metadata": {
  "kernelspec": {
   "display_name": "Python 3",
   "language": "python",
   "name": "python3"
  },
  "language_info": {
   "codemirror_mode": {
    "name": "ipython",
    "version": 2
   },
   "file_extension": ".py",
   "mimetype": "text/x-python",
   "name": "python",
   "nbconvert_exporter": "python",
   "pygments_lexer": "ipython2",
   "version": "2.7.6"
  }
 },
 "nbformat": 4,
 "nbformat_minor": 0
}