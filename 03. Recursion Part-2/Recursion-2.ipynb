{
 "cells": [
  {
   "cell_type": "markdown",
   "metadata": {},
   "source": [
    "1. Quick_Sort"
   ]
  },
  {
   "cell_type": "code",
   "execution_count": 1,
   "metadata": {},
   "outputs": [],
   "source": [
    "def Partison(arr, si, ei):\n",
    "    pivot = arr[si]\n",
    "    c = 0\n",
    "    for i in range(si, ei+1):\n",
    "        if arr[i] < pivot:\n",
    "            c += 1\n",
    "            \n",
    "    arr[si+c], arr[si] = arr[si], arr[si+c] \n",
    "    pivot_index = si + c\n",
    "    i = si\n",
    "    j = ei\n",
    "    \n",
    "    while i < j:\n",
    "        if arr[i] < pivot:\n",
    "            i = i + 1\n",
    "        elif arr[j] >= pivot:\n",
    "            j = j - 1\n",
    "        else:\n",
    "            arr[i], arr[j] = arr[j], arr[i]\n",
    "            i += 1\n",
    "            j -= 1\n",
    "    return pivot_index\n",
    "def QuickSort(arr,si,ei):\n",
    "    \n",
    "    if si >= ei:\n",
    "        return\n",
    "    \n",
    "    pivot_index = Partison(arr,si,ei)\n",
    "    \n",
    "    QuickSort(arr,si,pivot_index-1)\n",
    "    QuickSort(arr,pivot_index+1,ei)"
   ]
  },
  {
   "cell_type": "code",
   "execution_count": 2,
   "metadata": {},
   "outputs": [
    {
     "data": {
      "text/plain": [
       "[0, 1, 2, 3, 4, 8]"
      ]
     },
     "execution_count": 2,
     "metadata": {},
     "output_type": "execute_result"
    }
   ],
   "source": [
    "arr = [2,4,1,0,8,3]\n",
    "QuickSort(arr, 0, len(arr)-1)\n",
    "arr"
   ]
  },
  {
   "cell_type": "markdown",
   "metadata": {},
   "source": [
    "2. Replace char"
   ]
  },
  {
   "cell_type": "code",
   "execution_count": 5,
   "metadata": {},
   "outputs": [],
   "source": [
    "def replace_char(char, a, b):\n",
    "    \n",
    "    if len(char) == 0:\n",
    "        return char\n",
    "    \n",
    "    smalleroutput = replace_char(char[1:], a, b)\n",
    "    if char[0] == a:\n",
    "        return b + smalleroutput\n",
    "    else:\n",
    "        return char[0] + smalleroutput"
   ]
  },
  {
   "cell_type": "code",
   "execution_count": 6,
   "metadata": {},
   "outputs": [
    {
     "data": {
      "text/plain": [
       "'xxxx'"
      ]
     },
     "execution_count": 6,
     "metadata": {},
     "output_type": "execute_result"
    }
   ],
   "source": [
    "char = 'xxyy'\n",
    "replace_char(char, 'y', 'x')"
   ]
  },
  {
   "cell_type": "markdown",
   "metadata": {},
   "source": [
    "3. Replace Pi"
   ]
  },
  {
   "cell_type": "code",
   "execution_count": 9,
   "metadata": {},
   "outputs": [],
   "source": [
    "def replace_pi(char):\n",
    "    \n",
    "    if len(char) == 0 or len(char) == 1:\n",
    "        return char\n",
    "    \n",
    "    if char[0] == 'p' and char[1] == 'i':\n",
    "        smalleroutput = replace_pi(char[2:])\n",
    "        return '3.14' + smalleroutput\n",
    "    else:\n",
    "        smalleroutput = replace_pi(char[1:])\n",
    "        return char[0] + smalleroutput"
   ]
  },
  {
   "cell_type": "code",
   "execution_count": 10,
   "metadata": {},
   "outputs": [
    {
     "data": {
      "text/plain": [
       "'abc3.14p3.14'"
      ]
     },
     "execution_count": 10,
     "metadata": {},
     "output_type": "execute_result"
    }
   ],
   "source": [
    "replace_pi('abcpippi')"
   ]
  },
  {
   "cell_type": "markdown",
   "metadata": {},
   "source": [
    "4. Binary_Sort"
   ]
  },
  {
   "cell_type": "code",
   "execution_count": 11,
   "metadata": {},
   "outputs": [],
   "source": [
    "def Binary_Search(a, x, si, ei):\n",
    "    if si > ei:\n",
    "        return -1\n",
    "    \n",
    "    mid = (si + ei) // 2\n",
    "    \n",
    "    if a[mid] == x:\n",
    "        return mid\n",
    "    elif a[mid] > x:\n",
    "        return Binary_Search(a, x, si, mid-1)\n",
    "    else:\n",
    "        return Binary_Search(a, x, mid+1, ei)"
   ]
  },
  {
   "cell_type": "code",
   "execution_count": 12,
   "metadata": {},
   "outputs": [
    {
     "data": {
      "text/plain": [
       "6"
      ]
     },
     "execution_count": 12,
     "metadata": {},
     "output_type": "execute_result"
    }
   ],
   "source": [
    "a = [1,2,3,55,67,89,100]\n",
    "Binary_Search(a, 100, 0, len(a)-1)"
   ]
  },
  {
   "cell_type": "markdown",
   "metadata": {},
   "source": [
    "5. Merge_Sort"
   ]
  },
  {
   "cell_type": "code",
   "execution_count": null,
   "metadata": {},
   "outputs": [],
   "source": [
    "def merge(a1,a2,a):\n",
    "    i = 0\n",
    "    j = 0\n",
    "    k = 0\n",
    "    \n",
    "    while i < len(a1) and j < len(a2):\n",
    "        \n",
    "        if a1[i] < a2[j]:\n",
    "            a[k] = a1[i]\n",
    "            i += 1\n",
    "            k += 1\n",
    "        else:\n",
    "            a[k] = a2[j]\n",
    "            j += 1\n",
    "            k += 1\n",
    "    while i < len(a1):\n",
    "        a[k] = a1[i]\n",
    "        i += 1\n",
    "        k += 1\n",
    "    while j < len(a2):\n",
    "        a[k] = a2[j]\n",
    "        j += 1\n",
    "        k += 1\n",
    "                \n",
    "    \n",
    "\n",
    "def merge_sort(arr):\n",
    "    \n",
    "    if len(arr) == 0 or len(arr) == 1:\n",
    "        return arr\n",
    "    \n",
    "    mid = len(arr) // 2\n",
    "    \n",
    "    a1 = arr[0:mid]\n",
    "    a2 = arr[mid:]\n",
    "    \n",
    "    merge_sort(a1)\n",
    "    merge_sort(a2)\n",
    "    \n",
    "    merge(a1,a2,arr)"
   ]
  }
 ],
 "metadata": {
  "kernelspec": {
   "display_name": "Python 3",
   "language": "python",
   "name": "python3"
  },
  "language_info": {
   "codemirror_mode": {
    "name": "ipython",
    "version": 3
   },
   "file_extension": ".py",
   "mimetype": "text/x-python",
   "name": "python",
   "nbconvert_exporter": "python",
   "pygments_lexer": "ipython3",
   "version": "3.8.3"
  }
 },
 "nbformat": 4,
 "nbformat_minor": 4
}
